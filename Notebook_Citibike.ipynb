{
  "nbformat": 4,
  "nbformat_minor": 0,
  "metadata": {
    "colab": {
      "name": "Notebook Citibike.ipynb",
      "provenance": [],
      "machine_shape": "hm"
    },
    "kernelspec": {
      "name": "python3",
      "display_name": "Python 3"
    }
  },
  "cells": [
    {
      "cell_type": "markdown",
      "metadata": {
        "id": "l6sydvc2UNvS",
        "colab_type": "text"
      },
      "source": [
        "# Citibike 2019"
      ]
    },
    {
      "cell_type": "markdown",
      "metadata": {
        "id": "vM0h4duiUeZ0",
        "colab_type": "text"
      },
      "source": [
        "##Loading Libraries Requirements"
      ]
    },
    {
      "cell_type": "code",
      "metadata": {
        "id": "M6cgA0RsUj9e",
        "colab_type": "code",
        "outputId": "09298e17-1ad3-440c-cada-a649be26a650",
        "colab": {
          "base_uri": "https://localhost:8080/",
          "height": 521
        }
      },
      "source": [
        "import sys\n",
        "\n",
        "if 'google.colab' in sys.modules:\n",
        "    # Install packages in Colab\n",
        "    !pip install category_encoders==2.*\n",
        "    !pip install eli5\n"
      ],
      "execution_count": 1,
      "outputs": [
        {
          "output_type": "stream",
          "text": [
            "Collecting category_encoders==2.*\n",
            "\u001b[?25l  Downloading https://files.pythonhosted.org/packages/a0/52/c54191ad3782de633ea3d6ee3bb2837bda0cf3bc97644bb6375cf14150a0/category_encoders-2.1.0-py2.py3-none-any.whl (100kB)\n",
            "\r\u001b[K     |███▎                            | 10kB 13.3MB/s eta 0:00:01\r\u001b[K     |██████▌                         | 20kB 2.3MB/s eta 0:00:01\r\u001b[K     |█████████▉                      | 30kB 3.4MB/s eta 0:00:01\r\u001b[K     |█████████████                   | 40kB 2.2MB/s eta 0:00:01\r\u001b[K     |████████████████▍               | 51kB 2.6MB/s eta 0:00:01\r\u001b[K     |███████████████████▋            | 61kB 3.1MB/s eta 0:00:01\r\u001b[K     |██████████████████████▉         | 71kB 3.6MB/s eta 0:00:01\r\u001b[K     |██████████████████████████▏     | 81kB 4.0MB/s eta 0:00:01\r\u001b[K     |█████████████████████████████▍  | 92kB 4.5MB/s eta 0:00:01\r\u001b[K     |████████████████████████████████| 102kB 2.5MB/s \n",
            "\u001b[?25hRequirement already satisfied: pandas>=0.21.1 in /usr/local/lib/python3.6/dist-packages (from category_encoders==2.*) (0.25.2)\n",
            "Requirement already satisfied: statsmodels>=0.6.1 in /usr/local/lib/python3.6/dist-packages (from category_encoders==2.*) (0.10.1)\n",
            "Requirement already satisfied: scipy>=0.19.0 in /usr/local/lib/python3.6/dist-packages (from category_encoders==2.*) (1.3.1)\n",
            "Requirement already satisfied: scikit-learn>=0.20.0 in /usr/local/lib/python3.6/dist-packages (from category_encoders==2.*) (0.21.3)\n",
            "Requirement already satisfied: numpy>=1.11.3 in /usr/local/lib/python3.6/dist-packages (from category_encoders==2.*) (1.17.3)\n",
            "Requirement already satisfied: patsy>=0.4.1 in /usr/local/lib/python3.6/dist-packages (from category_encoders==2.*) (0.5.1)\n",
            "Requirement already satisfied: pytz>=2017.2 in /usr/local/lib/python3.6/dist-packages (from pandas>=0.21.1->category_encoders==2.*) (2018.9)\n",
            "Requirement already satisfied: python-dateutil>=2.6.1 in /usr/local/lib/python3.6/dist-packages (from pandas>=0.21.1->category_encoders==2.*) (2.6.1)\n",
            "Requirement already satisfied: joblib>=0.11 in /usr/local/lib/python3.6/dist-packages (from scikit-learn>=0.20.0->category_encoders==2.*) (0.14.0)\n",
            "Requirement already satisfied: six in /usr/local/lib/python3.6/dist-packages (from patsy>=0.4.1->category_encoders==2.*) (1.12.0)\n",
            "Installing collected packages: category-encoders\n",
            "Successfully installed category-encoders-2.1.0\n",
            "Collecting eli5\n",
            "\u001b[?25l  Downloading https://files.pythonhosted.org/packages/97/2f/c85c7d8f8548e460829971785347e14e45fa5c6617da374711dec8cb38cc/eli5-0.10.1-py2.py3-none-any.whl (105kB)\n",
            "\u001b[K     |████████████████████████████████| 112kB 3.4MB/s \n",
            "\u001b[?25hRequirement already satisfied: jinja2 in /usr/local/lib/python3.6/dist-packages (from eli5) (2.10.3)\n",
            "Requirement already satisfied: attrs>16.0.0 in /usr/local/lib/python3.6/dist-packages (from eli5) (19.3.0)\n",
            "Requirement already satisfied: tabulate>=0.7.7 in /usr/local/lib/python3.6/dist-packages (from eli5) (0.8.5)\n",
            "Requirement already satisfied: six in /usr/local/lib/python3.6/dist-packages (from eli5) (1.12.0)\n",
            "Requirement already satisfied: numpy>=1.9.0 in /usr/local/lib/python3.6/dist-packages (from eli5) (1.17.3)\n",
            "Requirement already satisfied: scikit-learn>=0.18 in /usr/local/lib/python3.6/dist-packages (from eli5) (0.21.3)\n",
            "Requirement already satisfied: graphviz in /usr/local/lib/python3.6/dist-packages (from eli5) (0.10.1)\n",
            "Requirement already satisfied: scipy in /usr/local/lib/python3.6/dist-packages (from eli5) (1.3.1)\n",
            "Requirement already satisfied: MarkupSafe>=0.23 in /usr/local/lib/python3.6/dist-packages (from jinja2->eli5) (1.1.1)\n",
            "Requirement already satisfied: joblib>=0.11 in /usr/local/lib/python3.6/dist-packages (from scikit-learn>=0.18->eli5) (0.14.0)\n",
            "Installing collected packages: eli5\n",
            "Successfully installed eli5-0.10.1\n"
          ],
          "name": "stdout"
        }
      ]
    },
    {
      "cell_type": "markdown",
      "metadata": {
        "id": "_3vu12NmURNY",
        "colab_type": "text"
      },
      "source": [
        "##Loading Libraries"
      ]
    },
    {
      "cell_type": "code",
      "metadata": {
        "id": "6bbaxpzVO9K-",
        "colab_type": "code",
        "colab": {
          "base_uri": "https://localhost:8080/",
          "height": 79
        },
        "outputId": "7923eea7-f6fe-448b-f058-73fac95018bd"
      },
      "source": [
        "# Load library\n",
        "import requests\n",
        "import json\n",
        "import pandas as pd\n",
        "from pandas.io.json import json_normalize\n",
        "import zipfile\n",
        "import urllib.request\n",
        "import numpy as np\n",
        "import pandas_profiling\n",
        "import eli5\n",
        "from eli5.sklearn import PermutationImportance\n",
        "import matplotlib.pyplot as plt\n",
        "%matplotlib inline\n",
        "import seaborn as sns\n",
        "import pandas as pd\n",
        "import numpy as np\n",
        "from sklearn.model_selection import train_test_split\n",
        "from sklearn.ensemble import RandomForestClassifier\n",
        "from sklearn.pipeline import make_pipeline\n",
        "from sklearn.metrics import accuracy_score\n",
        "import category_encoders as ce\n",
        "pd.set_option('display.max_columns', None)\n",
        "import glob\n",
        "from sklearn.metrics import roc_auc_score\n",
        "import plotly.graph_objects as go\n",
        "import plotly.express as px"
      ],
      "execution_count": 2,
      "outputs": [
        {
          "output_type": "stream",
          "text": [
            "Using TensorFlow backend.\n"
          ],
          "name": "stderr"
        },
        {
          "output_type": "display_data",
          "data": {
            "text/html": [
              "<p style=\"color: red;\">\n",
              "The default version of TensorFlow in Colab will soon switch to TensorFlow 2.x.<br>\n",
              "We recommend you <a href=\"https://www.tensorflow.org/guide/migrate\" target=\"_blank\">upgrade</a> now \n",
              "or ensure your notebook will continue to use TensorFlow 1.x via the <code>%tensorflow_version 1.x</code> magic:\n",
              "<a href=\"https://colab.research.google.com/notebooks/tensorflow_version.ipynb\" target=\"_blank\">more info</a>.</p>\n"
            ],
            "text/plain": [
              "<IPython.core.display.HTML object>"
            ]
          },
          "metadata": {
            "tags": []
          }
        }
      ]
    },
    {
      "cell_type": "markdown",
      "metadata": {
        "id": "TX7phaKGUTun",
        "colab_type": "text"
      },
      "source": [
        "#Loading data"
      ]
    },
    {
      "cell_type": "code",
      "metadata": {
        "id": "p2cXTPO8Pc1U",
        "colab_type": "code",
        "outputId": "8d657034-fe3a-492d-f52d-b121d3f05d64",
        "colab": {
          "base_uri": "https://localhost:8080/",
          "height": 50
        }
      },
      "source": [
        "#Loading Station Data\n",
        "\n",
        "%%time\n",
        "\n",
        "#Get JSON with Requests\n",
        "def _getDataFramefromURL(url, entity, index):\n",
        "    response = requests.request(\"GET\", url)\n",
        "    json_response = json.loads(response.text)\n",
        "    df_temp = pd.DataFrame(json_normalize(json_response['data'][entity]))\n",
        "    df_temp = df_temp.set_index(index) \n",
        "    return df_temp\n",
        "\n",
        "# Get static data from CitiBike from URL\n",
        "url_station_info = \"https://gbfs.citibikenyc.com/gbfs/en/station_information.json\"\n",
        "url_system_regions = \"https://gbfs.citibikenyc.com/gbfs/en/system_regions.json\"\n",
        "\n",
        "df_station_info = _getDataFramefromURL(url_station_info, 'stations', 'station_id')\n",
        "df_system_regions = _getDataFramefromURL(url_system_regions, 'regions', 'region_id')"
      ],
      "execution_count": 3,
      "outputs": [
        {
          "output_type": "stream",
          "text": [
            "CPU times: user 81.9 ms, sys: 7.45 ms, total: 89.4 ms\n",
            "Wall time: 486 ms\n"
          ],
          "name": "stdout"
        }
      ]
    },
    {
      "cell_type": "markdown",
      "metadata": {
        "id": "3jsgJ-M8Wryl",
        "colab_type": "text"
      },
      "source": [
        "# Station Info Dataset"
      ]
    },
    {
      "cell_type": "code",
      "metadata": {
        "id": "M71JUsgHR79h",
        "colab_type": "code",
        "outputId": "92f5abf5-5a4c-4487-facb-0779e079f944",
        "colab": {
          "base_uri": "https://localhost:8080/",
          "height": 467
        }
      },
      "source": [
        "df_station_info =df_station_info.reset_index()\n",
        "df_system_region =df_system_regions.reset_index()\n",
        "df_station_info.head()"
      ],
      "execution_count": 4,
      "outputs": [
        {
          "output_type": "execute_result",
          "data": {
            "text/html": [
              "<div>\n",
              "<style scoped>\n",
              "    .dataframe tbody tr th:only-of-type {\n",
              "        vertical-align: middle;\n",
              "    }\n",
              "\n",
              "    .dataframe tbody tr th {\n",
              "        vertical-align: top;\n",
              "    }\n",
              "\n",
              "    .dataframe thead th {\n",
              "        text-align: right;\n",
              "    }\n",
              "</style>\n",
              "<table border=\"1\" class=\"dataframe\">\n",
              "  <thead>\n",
              "    <tr style=\"text-align: right;\">\n",
              "      <th></th>\n",
              "      <th>station_id</th>\n",
              "      <th>external_id</th>\n",
              "      <th>name</th>\n",
              "      <th>short_name</th>\n",
              "      <th>lat</th>\n",
              "      <th>lon</th>\n",
              "      <th>region_id</th>\n",
              "      <th>rental_methods</th>\n",
              "      <th>capacity</th>\n",
              "      <th>rental_url</th>\n",
              "      <th>electric_bike_surcharge_waiver</th>\n",
              "      <th>eightd_has_key_dispenser</th>\n",
              "      <th>eightd_station_services</th>\n",
              "      <th>has_kiosk</th>\n",
              "    </tr>\n",
              "  </thead>\n",
              "  <tbody>\n",
              "    <tr>\n",
              "      <th>0</th>\n",
              "      <td>237</td>\n",
              "      <td>66db3c29-0aca-11e7-82f6-3863bb44ef7c</td>\n",
              "      <td>E 11 St &amp; 2 Ave</td>\n",
              "      <td>5746.04</td>\n",
              "      <td>40.730473</td>\n",
              "      <td>-73.986724</td>\n",
              "      <td>71</td>\n",
              "      <td>[CREDITCARD, KEY]</td>\n",
              "      <td>39</td>\n",
              "      <td>http://app.citibikenyc.com/S6Lr/IBV092JufD?sta...</td>\n",
              "      <td>False</td>\n",
              "      <td>False</td>\n",
              "      <td>[{'id': 'e73b6bfb-961f-432c-a61b-8e94c42a1fba'...</td>\n",
              "      <td>True</td>\n",
              "    </tr>\n",
              "    <tr>\n",
              "      <th>1</th>\n",
              "      <td>301</td>\n",
              "      <td>66db6aae-0aca-11e7-82f6-3863bb44ef7c</td>\n",
              "      <td>E 2 St &amp; Avenue B</td>\n",
              "      <td>5515.02</td>\n",
              "      <td>40.722174</td>\n",
              "      <td>-73.983688</td>\n",
              "      <td>71</td>\n",
              "      <td>[CREDITCARD, KEY]</td>\n",
              "      <td>58</td>\n",
              "      <td>http://app.citibikenyc.com/S6Lr/IBV092JufD?sta...</td>\n",
              "      <td>False</td>\n",
              "      <td>False</td>\n",
              "      <td>[{'id': 'c36f6075-0d24-479b-8018-30790d303769'...</td>\n",
              "      <td>True</td>\n",
              "    </tr>\n",
              "    <tr>\n",
              "      <th>2</th>\n",
              "      <td>304</td>\n",
              "      <td>66db6da2-0aca-11e7-82f6-3863bb44ef7c</td>\n",
              "      <td>Broadway &amp; Battery Pl</td>\n",
              "      <td>4962.01</td>\n",
              "      <td>40.704633</td>\n",
              "      <td>-74.013617</td>\n",
              "      <td>71</td>\n",
              "      <td>[CREDITCARD, KEY]</td>\n",
              "      <td>33</td>\n",
              "      <td>http://app.citibikenyc.com/S6Lr/IBV092JufD?sta...</td>\n",
              "      <td>False</td>\n",
              "      <td>True</td>\n",
              "      <td>[{'id': 'a58d9e34-2f28-40eb-b4a6-c8c01375657a'...</td>\n",
              "      <td>True</td>\n",
              "    </tr>\n",
              "    <tr>\n",
              "      <th>3</th>\n",
              "      <td>307</td>\n",
              "      <td>66db6f2e-0aca-11e7-82f6-3863bb44ef7c</td>\n",
              "      <td>Canal St &amp; Rutgers St</td>\n",
              "      <td>5303.08</td>\n",
              "      <td>40.714275</td>\n",
              "      <td>-73.989900</td>\n",
              "      <td>71</td>\n",
              "      <td>[CREDITCARD, KEY]</td>\n",
              "      <td>30</td>\n",
              "      <td>http://app.citibikenyc.com/S6Lr/IBV092JufD?sta...</td>\n",
              "      <td>False</td>\n",
              "      <td>False</td>\n",
              "      <td>[{'id': '6196015b-7b16-469e-8b23-405d173765f1'...</td>\n",
              "      <td>True</td>\n",
              "    </tr>\n",
              "    <tr>\n",
              "      <th>4</th>\n",
              "      <td>337</td>\n",
              "      <td>66db9925-0aca-11e7-82f6-3863bb44ef7c</td>\n",
              "      <td>Old Slip &amp; Front St</td>\n",
              "      <td>4993.12</td>\n",
              "      <td>40.703799</td>\n",
              "      <td>-74.008387</td>\n",
              "      <td>71</td>\n",
              "      <td>[CREDITCARD, KEY]</td>\n",
              "      <td>37</td>\n",
              "      <td>http://app.citibikenyc.com/S6Lr/IBV092JufD?sta...</td>\n",
              "      <td>False</td>\n",
              "      <td>False</td>\n",
              "      <td>[{'id': '8ec29d39-9642-466a-9a20-aad1e5c4788a'...</td>\n",
              "      <td>True</td>\n",
              "    </tr>\n",
              "  </tbody>\n",
              "</table>\n",
              "</div>"
            ],
            "text/plain": [
              "  station_id                           external_id                   name  \\\n",
              "0        237  66db3c29-0aca-11e7-82f6-3863bb44ef7c        E 11 St & 2 Ave   \n",
              "1        301  66db6aae-0aca-11e7-82f6-3863bb44ef7c      E 2 St & Avenue B   \n",
              "2        304  66db6da2-0aca-11e7-82f6-3863bb44ef7c  Broadway & Battery Pl   \n",
              "3        307  66db6f2e-0aca-11e7-82f6-3863bb44ef7c  Canal St & Rutgers St   \n",
              "4        337  66db9925-0aca-11e7-82f6-3863bb44ef7c    Old Slip & Front St   \n",
              "\n",
              "  short_name        lat        lon  region_id     rental_methods  capacity  \\\n",
              "0    5746.04  40.730473 -73.986724         71  [CREDITCARD, KEY]        39   \n",
              "1    5515.02  40.722174 -73.983688         71  [CREDITCARD, KEY]        58   \n",
              "2    4962.01  40.704633 -74.013617         71  [CREDITCARD, KEY]        33   \n",
              "3    5303.08  40.714275 -73.989900         71  [CREDITCARD, KEY]        30   \n",
              "4    4993.12  40.703799 -74.008387         71  [CREDITCARD, KEY]        37   \n",
              "\n",
              "                                          rental_url  \\\n",
              "0  http://app.citibikenyc.com/S6Lr/IBV092JufD?sta...   \n",
              "1  http://app.citibikenyc.com/S6Lr/IBV092JufD?sta...   \n",
              "2  http://app.citibikenyc.com/S6Lr/IBV092JufD?sta...   \n",
              "3  http://app.citibikenyc.com/S6Lr/IBV092JufD?sta...   \n",
              "4  http://app.citibikenyc.com/S6Lr/IBV092JufD?sta...   \n",
              "\n",
              "   electric_bike_surcharge_waiver  eightd_has_key_dispenser  \\\n",
              "0                           False                     False   \n",
              "1                           False                     False   \n",
              "2                           False                      True   \n",
              "3                           False                     False   \n",
              "4                           False                     False   \n",
              "\n",
              "                             eightd_station_services  has_kiosk  \n",
              "0  [{'id': 'e73b6bfb-961f-432c-a61b-8e94c42a1fba'...       True  \n",
              "1  [{'id': 'c36f6075-0d24-479b-8018-30790d303769'...       True  \n",
              "2  [{'id': 'a58d9e34-2f28-40eb-b4a6-c8c01375657a'...       True  \n",
              "3  [{'id': '6196015b-7b16-469e-8b23-405d173765f1'...       True  \n",
              "4  [{'id': '8ec29d39-9642-466a-9a20-aad1e5c4788a'...       True  "
            ]
          },
          "metadata": {
            "tags": []
          },
          "execution_count": 4
        }
      ]
    },
    {
      "cell_type": "markdown",
      "metadata": {
        "id": "pgQ1DFFsW_DJ",
        "colab_type": "text"
      },
      "source": [
        "Loading Datasets for July, August and September; more than 3 months makes data hard to manage and models to run."
      ]
    },
    {
      "cell_type": "code",
      "metadata": {
        "id": "xvWqtedrSI2J",
        "colab_type": "code",
        "outputId": "2b83011e-8329-4b53-a86f-d54576cb0d83",
        "colab": {
          "base_uri": "https://localhost:8080/",
          "height": 50
        }
      },
      "source": [
        "#downloading and unzipping ride data\n",
        "%%time\n",
        "\n",
        "files=[#'https://s3.amazonaws.com/tripdata/201901-citibike-tripdata.csv.zip',\n",
        "      #'https://s3.amazonaws.com/tripdata/201902-citibike-tripdata.csv.zip',\n",
        "      #'https://s3.amazonaws.com/tripdata/201903-citibike-tripdata.csv.zip',\n",
        "      #'https://s3.amazonaws.com/tripdata/201904-citibike-tripdata.csv.zip',\n",
        "      #'https://s3.amazonaws.com/tripdata/201905-citibike-tripdata.csv.zip',\n",
        "      #'https://s3.amazonaws.com/tripdata/201906-citibike-tripdata.csv.zip',\n",
        "      'https://s3.amazonaws.com/tripdata/201907-citibike-tripdata.csv.zip',\n",
        "      'https://s3.amazonaws.com/tripdata/201908-citibike-tripdata.csv.zip',\n",
        "      'https://s3.amazonaws.com/tripdata/201909-citibike-tripdata.csv.zip']\n",
        "\n",
        "\n",
        "for file in files:\n",
        "  urllib.request.urlretrieve(file, 'data.zip')\n",
        "\n",
        "  with zipfile.ZipFile('data.zip','r') as zip_ref:\n",
        "      zip_ref.extractall('./data')\n",
        "      "
      ],
      "execution_count": 5,
      "outputs": [
        {
          "output_type": "stream",
          "text": [
            "CPU times: user 7.81 s, sys: 2.87 s, total: 10.7 s\n",
            "Wall time: 14.1 s\n"
          ],
          "name": "stdout"
        }
      ]
    },
    {
      "cell_type": "code",
      "metadata": {
        "id": "F-rQsgC3VZcN",
        "colab_type": "code",
        "outputId": "477ec475-600a-44a0-9b8c-c48e2f28a99a",
        "colab": {
          "base_uri": "https://localhost:8080/",
          "height": 67
        }
      },
      "source": [
        "#loading ride data into dataframe\n",
        "%%time\n",
        "\n",
        "data_files=[#'./data/201901-citibike-tripdata.csv',\n",
        "           #'./data/201902-citibike-tripdata.csv',\n",
        "           #'./data/201903-citibike-tripdata.csv',\n",
        "           #'./data/201904-citibike-tripdata.csv',\n",
        "           #'./data/201905-citibike-tripdata.csv',\n",
        "           #'./data/201906-citibike-tripdata.csv',\n",
        "           './data/201907-citibike-tripdata.csv',\n",
        "           './data/201908-citibike-tripdata.csv',\n",
        "           './data/201909-citibike-tripdata.csv']\n",
        "\n",
        "dfs = [pd.read_csv(f) for f in data_files]\n",
        "\n",
        "df = pd.concat(dfs,ignore_index=True)\n",
        "\n",
        "print(df.shape)"
      ],
      "execution_count": 6,
      "outputs": [
        {
          "output_type": "stream",
          "text": [
            "(6970188, 15)\n",
            "CPU times: user 20.2 s, sys: 2.35 s, total: 22.5 s\n",
            "Wall time: 29.2 s\n"
          ],
          "name": "stdout"
        }
      ]
    },
    {
      "cell_type": "code",
      "metadata": {
        "id": "YV_LAjj67qye",
        "colab_type": "code",
        "outputId": "0368b2a2-cd98-4093-b8ef-79b3ced8a304",
        "colab": {
          "base_uri": "https://localhost:8080/",
          "height": 346
        }
      },
      "source": [
        "df.head()"
      ],
      "execution_count": 7,
      "outputs": [
        {
          "output_type": "execute_result",
          "data": {
            "text/html": [
              "<div>\n",
              "<style scoped>\n",
              "    .dataframe tbody tr th:only-of-type {\n",
              "        vertical-align: middle;\n",
              "    }\n",
              "\n",
              "    .dataframe tbody tr th {\n",
              "        vertical-align: top;\n",
              "    }\n",
              "\n",
              "    .dataframe thead th {\n",
              "        text-align: right;\n",
              "    }\n",
              "</style>\n",
              "<table border=\"1\" class=\"dataframe\">\n",
              "  <thead>\n",
              "    <tr style=\"text-align: right;\">\n",
              "      <th></th>\n",
              "      <th>tripduration</th>\n",
              "      <th>starttime</th>\n",
              "      <th>stoptime</th>\n",
              "      <th>start station id</th>\n",
              "      <th>start station name</th>\n",
              "      <th>start station latitude</th>\n",
              "      <th>start station longitude</th>\n",
              "      <th>end station id</th>\n",
              "      <th>end station name</th>\n",
              "      <th>end station latitude</th>\n",
              "      <th>end station longitude</th>\n",
              "      <th>bikeid</th>\n",
              "      <th>usertype</th>\n",
              "      <th>birth year</th>\n",
              "      <th>gender</th>\n",
              "    </tr>\n",
              "  </thead>\n",
              "  <tbody>\n",
              "    <tr>\n",
              "      <th>0</th>\n",
              "      <td>897</td>\n",
              "      <td>2019-07-01 00:00:00.1320</td>\n",
              "      <td>2019-07-01 00:14:58.0040</td>\n",
              "      <td>493.0</td>\n",
              "      <td>W 45 St &amp; 6 Ave</td>\n",
              "      <td>40.756800</td>\n",
              "      <td>-73.982912</td>\n",
              "      <td>454.0</td>\n",
              "      <td>E 51 St &amp; 1 Ave</td>\n",
              "      <td>40.754557</td>\n",
              "      <td>-73.965930</td>\n",
              "      <td>18340</td>\n",
              "      <td>Subscriber</td>\n",
              "      <td>1966</td>\n",
              "      <td>1</td>\n",
              "    </tr>\n",
              "    <tr>\n",
              "      <th>1</th>\n",
              "      <td>267</td>\n",
              "      <td>2019-07-01 00:00:05.1780</td>\n",
              "      <td>2019-07-01 00:04:32.4500</td>\n",
              "      <td>3143.0</td>\n",
              "      <td>5 Ave &amp; E 78 St</td>\n",
              "      <td>40.776321</td>\n",
              "      <td>-73.964274</td>\n",
              "      <td>3226.0</td>\n",
              "      <td>W 82 St &amp; Central Park West</td>\n",
              "      <td>40.782750</td>\n",
              "      <td>-73.971370</td>\n",
              "      <td>21458</td>\n",
              "      <td>Customer</td>\n",
              "      <td>1996</td>\n",
              "      <td>1</td>\n",
              "    </tr>\n",
              "    <tr>\n",
              "      <th>2</th>\n",
              "      <td>2201</td>\n",
              "      <td>2019-07-01 00:00:05.2130</td>\n",
              "      <td>2019-07-01 00:36:46.7490</td>\n",
              "      <td>317.0</td>\n",
              "      <td>E 6 St &amp; Avenue B</td>\n",
              "      <td>40.724537</td>\n",
              "      <td>-73.981854</td>\n",
              "      <td>3469.0</td>\n",
              "      <td>India St &amp; West St</td>\n",
              "      <td>40.731814</td>\n",
              "      <td>-73.959950</td>\n",
              "      <td>39874</td>\n",
              "      <td>Subscriber</td>\n",
              "      <td>1986</td>\n",
              "      <td>1</td>\n",
              "    </tr>\n",
              "    <tr>\n",
              "      <th>3</th>\n",
              "      <td>1660</td>\n",
              "      <td>2019-07-01 00:00:08.6010</td>\n",
              "      <td>2019-07-01 00:27:48.8050</td>\n",
              "      <td>249.0</td>\n",
              "      <td>Harrison St &amp; Hudson St</td>\n",
              "      <td>40.718710</td>\n",
              "      <td>-74.009001</td>\n",
              "      <td>369.0</td>\n",
              "      <td>Washington Pl &amp; 6 Ave</td>\n",
              "      <td>40.732241</td>\n",
              "      <td>-74.000264</td>\n",
              "      <td>38865</td>\n",
              "      <td>Subscriber</td>\n",
              "      <td>1988</td>\n",
              "      <td>1</td>\n",
              "    </tr>\n",
              "    <tr>\n",
              "      <th>4</th>\n",
              "      <td>109</td>\n",
              "      <td>2019-07-01 00:00:12.1580</td>\n",
              "      <td>2019-07-01 00:02:01.5670</td>\n",
              "      <td>3552.0</td>\n",
              "      <td>W 113 St &amp; Broadway</td>\n",
              "      <td>40.805973</td>\n",
              "      <td>-73.964928</td>\n",
              "      <td>3538.0</td>\n",
              "      <td>W 110 St &amp; Amsterdam Ave</td>\n",
              "      <td>40.802692</td>\n",
              "      <td>-73.962950</td>\n",
              "      <td>30256</td>\n",
              "      <td>Subscriber</td>\n",
              "      <td>1997</td>\n",
              "      <td>1</td>\n",
              "    </tr>\n",
              "  </tbody>\n",
              "</table>\n",
              "</div>"
            ],
            "text/plain": [
              "   tripduration                 starttime                  stoptime  \\\n",
              "0           897  2019-07-01 00:00:00.1320  2019-07-01 00:14:58.0040   \n",
              "1           267  2019-07-01 00:00:05.1780  2019-07-01 00:04:32.4500   \n",
              "2          2201  2019-07-01 00:00:05.2130  2019-07-01 00:36:46.7490   \n",
              "3          1660  2019-07-01 00:00:08.6010  2019-07-01 00:27:48.8050   \n",
              "4           109  2019-07-01 00:00:12.1580  2019-07-01 00:02:01.5670   \n",
              "\n",
              "   start station id       start station name  start station latitude  \\\n",
              "0             493.0          W 45 St & 6 Ave               40.756800   \n",
              "1            3143.0          5 Ave & E 78 St               40.776321   \n",
              "2             317.0        E 6 St & Avenue B               40.724537   \n",
              "3             249.0  Harrison St & Hudson St               40.718710   \n",
              "4            3552.0      W 113 St & Broadway               40.805973   \n",
              "\n",
              "   start station longitude  end station id             end station name  \\\n",
              "0               -73.982912           454.0              E 51 St & 1 Ave   \n",
              "1               -73.964274          3226.0  W 82 St & Central Park West   \n",
              "2               -73.981854          3469.0           India St & West St   \n",
              "3               -74.009001           369.0        Washington Pl & 6 Ave   \n",
              "4               -73.964928          3538.0     W 110 St & Amsterdam Ave   \n",
              "\n",
              "   end station latitude  end station longitude  bikeid    usertype  \\\n",
              "0             40.754557             -73.965930   18340  Subscriber   \n",
              "1             40.782750             -73.971370   21458    Customer   \n",
              "2             40.731814             -73.959950   39874  Subscriber   \n",
              "3             40.732241             -74.000264   38865  Subscriber   \n",
              "4             40.802692             -73.962950   30256  Subscriber   \n",
              "\n",
              "   birth year  gender  \n",
              "0        1966       1  \n",
              "1        1996       1  \n",
              "2        1986       1  \n",
              "3        1988       1  \n",
              "4        1997       1  "
            ]
          },
          "metadata": {
            "tags": []
          },
          "execution_count": 7
        }
      ]
    },
    {
      "cell_type": "code",
      "metadata": {
        "id": "hdn1Kwh18YDs",
        "colab_type": "code",
        "outputId": "306eeea4-8c02-4a43-8588-cd355bac49ed",
        "colab": {
          "base_uri": "https://localhost:8080/",
          "height": 286
        }
      },
      "source": [
        "#calculating missing values\n",
        "df.isna().sum()\n"
      ],
      "execution_count": 9,
      "outputs": [
        {
          "output_type": "execute_result",
          "data": {
            "text/plain": [
              "tripduration                 0\n",
              "starttime                    0\n",
              "stoptime                     0\n",
              "start station id           143\n",
              "start station name         143\n",
              "start station latitude       0\n",
              "start station longitude      0\n",
              "end station id             143\n",
              "end station name           143\n",
              "end station latitude         0\n",
              "end station longitude        0\n",
              "bikeid                       0\n",
              "usertype                     0\n",
              "birth year                   0\n",
              "gender                       0\n",
              "dtype: int64"
            ]
          },
          "metadata": {
            "tags": []
          },
          "execution_count": 9
        }
      ]
    },
    {
      "cell_type": "markdown",
      "metadata": {
        "id": "GL2dOkc5-3de",
        "colab_type": "text"
      },
      "source": [
        "## Data Cleaning"
      ]
    },
    {
      "cell_type": "code",
      "metadata": {
        "id": "J-9VoMyoW3zQ",
        "colab_type": "code",
        "colab": {}
      },
      "source": [
        "\n",
        "def engineer_date_features(df):\n",
        "  df = df.copy()\n",
        "  times=['starttime','stoptime']\n",
        "  for t in times:\n",
        "  # change date_recorded to datetime format\n",
        "    df[t] = pd.to_datetime(df[t], infer_datetime_format=True)\n",
        "  for t in times: \n",
        "    df['month_'+t] = df[t].dt.strftime('%b')\n",
        "    df['day_'+t] = df[t].dt.day\n",
        "    df['weekday_'+t] = df[t].dt.strftime('%a')\n",
        "    df['hour_'+t] = df[t].dt.hour\n",
        "    df['minutes_'+t] = df[t].dt.minute\n",
        "   \n",
        "\n",
        "  return df\n",
        "  \n",
        "\n",
        "\n",
        "\n",
        "def wrangle(df):\n",
        "#'''cleaning/engineering function'''\n",
        "    df = df.copy()\n",
        "\n",
        "\n",
        "#cleaning up data\n",
        "  \n",
        "    df = df.dropna(axis='rows')\n",
        "    df.columns=[col.replace(' ','_') for col in df] #cleaning up naming convention\n",
        "    df = engineer_date_features(df)\n",
        "    #dropping features\n",
        "    drop_features = ['stoptime','starttime']\n",
        "    df = df.drop(columns=drop_features)\n",
        "    df['determinant']=abs(df['start_station_latitude']-df['end_station_latitude'])+abs(df['end_station_longitude']-df['start_station_longitude'])\n",
        "    df['minutes_bin_start_time'] = np.where(df['minutes_starttime']<15,0,\n",
        "                                           np.where(df['minutes_starttime']<30,15,\n",
        "                                                     np.where(df['minutes_starttime']<45,30,45)))\n",
        "    \n",
        "    df['minutes_bin_stop_time'] = np.where(df['minutes_stoptime']<15,0,\n",
        "                                           np.where(df['minutes_stoptime']<30,15,\n",
        "                                                     np.where(df['minutes_stoptime']<45,30,45)))\n",
        " \n",
        "    return df"
      ],
      "execution_count": 0,
      "outputs": []
    },
    {
      "cell_type": "code",
      "metadata": {
        "id": "m6LqzxZl-oWO",
        "colab_type": "code",
        "outputId": "df6cea4b-e608-4526-dcf1-2dfba4d86001",
        "colab": {
          "base_uri": "https://localhost:8080/",
          "height": 67
        }
      },
      "source": [
        "#applying wrangle\n",
        "%%time\n",
        "df1=wrangle(df)\n",
        "print(df1.shape)\n"
      ],
      "execution_count": 11,
      "outputs": [
        {
          "output_type": "stream",
          "text": [
            "(6970045, 26)\n",
            "CPU times: user 2min 15s, sys: 7.48 s, total: 2min 22s\n",
            "Wall time: 2min 22s\n"
          ],
          "name": "stdout"
        }
      ]
    },
    {
      "cell_type": "code",
      "metadata": {
        "id": "cXCKKk2c-yPv",
        "colab_type": "code",
        "outputId": "82914c7c-62aa-4110-8458-dcd9aa998345",
        "colab": {
          "base_uri": "https://localhost:8080/",
          "height": 266
        }
      },
      "source": [
        "#taking a look at the wrangled dataset\n",
        "df1.head()"
      ],
      "execution_count": 12,
      "outputs": [
        {
          "output_type": "execute_result",
          "data": {
            "text/html": [
              "<div>\n",
              "<style scoped>\n",
              "    .dataframe tbody tr th:only-of-type {\n",
              "        vertical-align: middle;\n",
              "    }\n",
              "\n",
              "    .dataframe tbody tr th {\n",
              "        vertical-align: top;\n",
              "    }\n",
              "\n",
              "    .dataframe thead th {\n",
              "        text-align: right;\n",
              "    }\n",
              "</style>\n",
              "<table border=\"1\" class=\"dataframe\">\n",
              "  <thead>\n",
              "    <tr style=\"text-align: right;\">\n",
              "      <th></th>\n",
              "      <th>tripduration</th>\n",
              "      <th>start_station_id</th>\n",
              "      <th>start_station_name</th>\n",
              "      <th>start_station_latitude</th>\n",
              "      <th>start_station_longitude</th>\n",
              "      <th>end_station_id</th>\n",
              "      <th>end_station_name</th>\n",
              "      <th>end_station_latitude</th>\n",
              "      <th>end_station_longitude</th>\n",
              "      <th>bikeid</th>\n",
              "      <th>usertype</th>\n",
              "      <th>birth_year</th>\n",
              "      <th>gender</th>\n",
              "      <th>month_starttime</th>\n",
              "      <th>day_starttime</th>\n",
              "      <th>weekday_starttime</th>\n",
              "      <th>hour_starttime</th>\n",
              "      <th>minutes_starttime</th>\n",
              "      <th>month_stoptime</th>\n",
              "      <th>day_stoptime</th>\n",
              "      <th>weekday_stoptime</th>\n",
              "      <th>hour_stoptime</th>\n",
              "      <th>minutes_stoptime</th>\n",
              "      <th>determinant</th>\n",
              "      <th>minutes_bin_start_time</th>\n",
              "      <th>minutes_bin_stop_time</th>\n",
              "    </tr>\n",
              "  </thead>\n",
              "  <tbody>\n",
              "    <tr>\n",
              "      <th>0</th>\n",
              "      <td>897</td>\n",
              "      <td>493.0</td>\n",
              "      <td>W 45 St &amp; 6 Ave</td>\n",
              "      <td>40.756800</td>\n",
              "      <td>-73.982912</td>\n",
              "      <td>454.0</td>\n",
              "      <td>E 51 St &amp; 1 Ave</td>\n",
              "      <td>40.754557</td>\n",
              "      <td>-73.965930</td>\n",
              "      <td>18340</td>\n",
              "      <td>Subscriber</td>\n",
              "      <td>1966</td>\n",
              "      <td>1</td>\n",
              "      <td>Jul</td>\n",
              "      <td>1</td>\n",
              "      <td>Mon</td>\n",
              "      <td>0</td>\n",
              "      <td>0</td>\n",
              "      <td>Jul</td>\n",
              "      <td>1</td>\n",
              "      <td>Mon</td>\n",
              "      <td>0</td>\n",
              "      <td>14</td>\n",
              "      <td>0.019225</td>\n",
              "      <td>0</td>\n",
              "      <td>0</td>\n",
              "    </tr>\n",
              "    <tr>\n",
              "      <th>1</th>\n",
              "      <td>267</td>\n",
              "      <td>3143.0</td>\n",
              "      <td>5 Ave &amp; E 78 St</td>\n",
              "      <td>40.776321</td>\n",
              "      <td>-73.964274</td>\n",
              "      <td>3226.0</td>\n",
              "      <td>W 82 St &amp; Central Park West</td>\n",
              "      <td>40.782750</td>\n",
              "      <td>-73.971370</td>\n",
              "      <td>21458</td>\n",
              "      <td>Customer</td>\n",
              "      <td>1996</td>\n",
              "      <td>1</td>\n",
              "      <td>Jul</td>\n",
              "      <td>1</td>\n",
              "      <td>Mon</td>\n",
              "      <td>0</td>\n",
              "      <td>0</td>\n",
              "      <td>Jul</td>\n",
              "      <td>1</td>\n",
              "      <td>Mon</td>\n",
              "      <td>0</td>\n",
              "      <td>4</td>\n",
              "      <td>0.013525</td>\n",
              "      <td>0</td>\n",
              "      <td>0</td>\n",
              "    </tr>\n",
              "    <tr>\n",
              "      <th>2</th>\n",
              "      <td>2201</td>\n",
              "      <td>317.0</td>\n",
              "      <td>E 6 St &amp; Avenue B</td>\n",
              "      <td>40.724537</td>\n",
              "      <td>-73.981854</td>\n",
              "      <td>3469.0</td>\n",
              "      <td>India St &amp; West St</td>\n",
              "      <td>40.731814</td>\n",
              "      <td>-73.959950</td>\n",
              "      <td>39874</td>\n",
              "      <td>Subscriber</td>\n",
              "      <td>1986</td>\n",
              "      <td>1</td>\n",
              "      <td>Jul</td>\n",
              "      <td>1</td>\n",
              "      <td>Mon</td>\n",
              "      <td>0</td>\n",
              "      <td>0</td>\n",
              "      <td>Jul</td>\n",
              "      <td>1</td>\n",
              "      <td>Mon</td>\n",
              "      <td>0</td>\n",
              "      <td>36</td>\n",
              "      <td>0.029181</td>\n",
              "      <td>0</td>\n",
              "      <td>30</td>\n",
              "    </tr>\n",
              "    <tr>\n",
              "      <th>3</th>\n",
              "      <td>1660</td>\n",
              "      <td>249.0</td>\n",
              "      <td>Harrison St &amp; Hudson St</td>\n",
              "      <td>40.718710</td>\n",
              "      <td>-74.009001</td>\n",
              "      <td>369.0</td>\n",
              "      <td>Washington Pl &amp; 6 Ave</td>\n",
              "      <td>40.732241</td>\n",
              "      <td>-74.000264</td>\n",
              "      <td>38865</td>\n",
              "      <td>Subscriber</td>\n",
              "      <td>1988</td>\n",
              "      <td>1</td>\n",
              "      <td>Jul</td>\n",
              "      <td>1</td>\n",
              "      <td>Mon</td>\n",
              "      <td>0</td>\n",
              "      <td>0</td>\n",
              "      <td>Jul</td>\n",
              "      <td>1</td>\n",
              "      <td>Mon</td>\n",
              "      <td>0</td>\n",
              "      <td>27</td>\n",
              "      <td>0.022268</td>\n",
              "      <td>0</td>\n",
              "      <td>15</td>\n",
              "    </tr>\n",
              "    <tr>\n",
              "      <th>4</th>\n",
              "      <td>109</td>\n",
              "      <td>3552.0</td>\n",
              "      <td>W 113 St &amp; Broadway</td>\n",
              "      <td>40.805973</td>\n",
              "      <td>-73.964928</td>\n",
              "      <td>3538.0</td>\n",
              "      <td>W 110 St &amp; Amsterdam Ave</td>\n",
              "      <td>40.802692</td>\n",
              "      <td>-73.962950</td>\n",
              "      <td>30256</td>\n",
              "      <td>Subscriber</td>\n",
              "      <td>1997</td>\n",
              "      <td>1</td>\n",
              "      <td>Jul</td>\n",
              "      <td>1</td>\n",
              "      <td>Mon</td>\n",
              "      <td>0</td>\n",
              "      <td>0</td>\n",
              "      <td>Jul</td>\n",
              "      <td>1</td>\n",
              "      <td>Mon</td>\n",
              "      <td>0</td>\n",
              "      <td>2</td>\n",
              "      <td>0.005259</td>\n",
              "      <td>0</td>\n",
              "      <td>0</td>\n",
              "    </tr>\n",
              "  </tbody>\n",
              "</table>\n",
              "</div>"
            ],
            "text/plain": [
              "   tripduration  start_station_id       start_station_name  \\\n",
              "0           897             493.0          W 45 St & 6 Ave   \n",
              "1           267            3143.0          5 Ave & E 78 St   \n",
              "2          2201             317.0        E 6 St & Avenue B   \n",
              "3          1660             249.0  Harrison St & Hudson St   \n",
              "4           109            3552.0      W 113 St & Broadway   \n",
              "\n",
              "   start_station_latitude  start_station_longitude  end_station_id  \\\n",
              "0               40.756800               -73.982912           454.0   \n",
              "1               40.776321               -73.964274          3226.0   \n",
              "2               40.724537               -73.981854          3469.0   \n",
              "3               40.718710               -74.009001           369.0   \n",
              "4               40.805973               -73.964928          3538.0   \n",
              "\n",
              "              end_station_name  end_station_latitude  end_station_longitude  \\\n",
              "0              E 51 St & 1 Ave             40.754557             -73.965930   \n",
              "1  W 82 St & Central Park West             40.782750             -73.971370   \n",
              "2           India St & West St             40.731814             -73.959950   \n",
              "3        Washington Pl & 6 Ave             40.732241             -74.000264   \n",
              "4     W 110 St & Amsterdam Ave             40.802692             -73.962950   \n",
              "\n",
              "   bikeid    usertype  birth_year  gender month_starttime  day_starttime  \\\n",
              "0   18340  Subscriber        1966       1             Jul              1   \n",
              "1   21458    Customer        1996       1             Jul              1   \n",
              "2   39874  Subscriber        1986       1             Jul              1   \n",
              "3   38865  Subscriber        1988       1             Jul              1   \n",
              "4   30256  Subscriber        1997       1             Jul              1   \n",
              "\n",
              "  weekday_starttime  hour_starttime  minutes_starttime month_stoptime  \\\n",
              "0               Mon               0                  0            Jul   \n",
              "1               Mon               0                  0            Jul   \n",
              "2               Mon               0                  0            Jul   \n",
              "3               Mon               0                  0            Jul   \n",
              "4               Mon               0                  0            Jul   \n",
              "\n",
              "   day_stoptime weekday_stoptime  hour_stoptime  minutes_stoptime  \\\n",
              "0             1              Mon              0                14   \n",
              "1             1              Mon              0                 4   \n",
              "2             1              Mon              0                36   \n",
              "3             1              Mon              0                27   \n",
              "4             1              Mon              0                 2   \n",
              "\n",
              "   determinant  minutes_bin_start_time  minutes_bin_stop_time  \n",
              "0     0.019225                       0                      0  \n",
              "1     0.013525                       0                      0  \n",
              "2     0.029181                       0                     30  \n",
              "3     0.022268                       0                     15  \n",
              "4     0.005259                       0                      0  "
            ]
          },
          "metadata": {
            "tags": []
          },
          "execution_count": 12
        }
      ]
    },
    {
      "cell_type": "code",
      "metadata": {
        "id": "KdsrsZ6VDJdu",
        "colab_type": "code",
        "outputId": "7b427c7a-64ac-47ba-e847-8b5cfb657f24",
        "colab": {
          "base_uri": "https://localhost:8080/",
          "height": 50
        }
      },
      "source": [
        "#bringing capacity and regional names into the main dataframe\n",
        "%%time\n",
        "\n",
        "#making a copy of stations and regions to be brought in, cleaning datatypes to be able to merge, doing this for both start and end stations.\n",
        "df_capacity_1=df_station_info[['station_id','capacity','region_id']].copy()\n",
        "df_system_region['region_id']=df_system_region['region_id'].copy().astype(int)\n",
        "df_capacity_1['region_id']=df_capacity_1['region_id'].copy().astype(int)\n",
        "df_capacity = pd.merge(df_capacity_1,df_system_region, on='region_id',how='left')\n",
        "df_capacity_start=df_capacity.copy()\n",
        "df_capacity_start.columns=['start_station_id', 'start_capacity', 'start_region_id', 'start_region_name']\n",
        "df_capacity_start['start_station_id']=df_capacity_start['start_station_id'].copy().astype(int)\n",
        "df_capacity_end=df_capacity.copy()\n",
        "df_capacity_end.columns=['end_station_id', 'end_capacity', 'end_region_id', 'end_region_name']\n",
        "df_capacity_end['end_station_id']=df_capacity_end['end_station_id'].copy().astype(int)\n",
        "\n",
        "#merging capacity and regions into the wrangled dataset\n",
        "df2 = pd.merge(df1,df_capacity_start, on='start_station_id',how='left')\n",
        "df3=pd.merge(df2,df_capacity_end, on='end_station_id',how='left')"
      ],
      "execution_count": 13,
      "outputs": [
        {
          "output_type": "stream",
          "text": [
            "CPU times: user 12.6 s, sys: 1.15 s, total: 13.8 s\n",
            "Wall time: 13.8 s\n"
          ],
          "name": "stdout"
        }
      ]
    },
    {
      "cell_type": "code",
      "metadata": {
        "id": "f2uQQMTaJQfF",
        "colab_type": "code",
        "outputId": "650c98e2-f7a3-4238-8e10-f6aa64ec34bf",
        "colab": {
          "base_uri": "https://localhost:8080/",
          "height": 580
        }
      },
      "source": [
        "#looking for stations that arent open or have zero capacity\n",
        "df_capacity_start[df_capacity_start['start_capacity']==0]"
      ],
      "execution_count": 14,
      "outputs": [
        {
          "output_type": "execute_result",
          "data": {
            "text/html": [
              "<div>\n",
              "<style scoped>\n",
              "    .dataframe tbody tr th:only-of-type {\n",
              "        vertical-align: middle;\n",
              "    }\n",
              "\n",
              "    .dataframe tbody tr th {\n",
              "        vertical-align: top;\n",
              "    }\n",
              "\n",
              "    .dataframe thead th {\n",
              "        text-align: right;\n",
              "    }\n",
              "</style>\n",
              "<table border=\"1\" class=\"dataframe\">\n",
              "  <thead>\n",
              "    <tr style=\"text-align: right;\">\n",
              "      <th></th>\n",
              "      <th>start_station_id</th>\n",
              "      <th>start_capacity</th>\n",
              "      <th>start_region_id</th>\n",
              "      <th>start_region_name</th>\n",
              "    </tr>\n",
              "  </thead>\n",
              "  <tbody>\n",
              "    <tr>\n",
              "      <th>23</th>\n",
              "      <td>72</td>\n",
              "      <td>0</td>\n",
              "      <td>71</td>\n",
              "      <td>NYC District</td>\n",
              "    </tr>\n",
              "    <tr>\n",
              "      <th>182</th>\n",
              "      <td>423</td>\n",
              "      <td>0</td>\n",
              "      <td>71</td>\n",
              "      <td>NYC District</td>\n",
              "    </tr>\n",
              "    <tr>\n",
              "      <th>194</th>\n",
              "      <td>448</td>\n",
              "      <td>0</td>\n",
              "      <td>71</td>\n",
              "      <td>NYC District</td>\n",
              "    </tr>\n",
              "    <tr>\n",
              "      <th>220</th>\n",
              "      <td>480</td>\n",
              "      <td>0</td>\n",
              "      <td>71</td>\n",
              "      <td>NYC District</td>\n",
              "    </tr>\n",
              "    <tr>\n",
              "      <th>232</th>\n",
              "      <td>495</td>\n",
              "      <td>0</td>\n",
              "      <td>71</td>\n",
              "      <td>NYC District</td>\n",
              "    </tr>\n",
              "    <tr>\n",
              "      <th>279</th>\n",
              "      <td>2023</td>\n",
              "      <td>0</td>\n",
              "      <td>71</td>\n",
              "      <td>NYC District</td>\n",
              "    </tr>\n",
              "    <tr>\n",
              "      <th>355</th>\n",
              "      <td>3131</td>\n",
              "      <td>0</td>\n",
              "      <td>71</td>\n",
              "      <td>NYC District</td>\n",
              "    </tr>\n",
              "    <tr>\n",
              "      <th>374</th>\n",
              "      <td>3155</td>\n",
              "      <td>0</td>\n",
              "      <td>71</td>\n",
              "      <td>NYC District</td>\n",
              "    </tr>\n",
              "    <tr>\n",
              "      <th>457</th>\n",
              "      <td>3286</td>\n",
              "      <td>0</td>\n",
              "      <td>71</td>\n",
              "      <td>NYC District</td>\n",
              "    </tr>\n",
              "    <tr>\n",
              "      <th>461</th>\n",
              "      <td>3290</td>\n",
              "      <td>0</td>\n",
              "      <td>71</td>\n",
              "      <td>NYC District</td>\n",
              "    </tr>\n",
              "    <tr>\n",
              "      <th>489</th>\n",
              "      <td>3320</td>\n",
              "      <td>0</td>\n",
              "      <td>71</td>\n",
              "      <td>NYC District</td>\n",
              "    </tr>\n",
              "    <tr>\n",
              "      <th>491</th>\n",
              "      <td>3322</td>\n",
              "      <td>0</td>\n",
              "      <td>71</td>\n",
              "      <td>NYC District</td>\n",
              "    </tr>\n",
              "    <tr>\n",
              "      <th>509</th>\n",
              "      <td>3341</td>\n",
              "      <td>0</td>\n",
              "      <td>71</td>\n",
              "      <td>NYC District</td>\n",
              "    </tr>\n",
              "    <tr>\n",
              "      <th>526</th>\n",
              "      <td>3359</td>\n",
              "      <td>0</td>\n",
              "      <td>71</td>\n",
              "      <td>NYC District</td>\n",
              "    </tr>\n",
              "    <tr>\n",
              "      <th>630</th>\n",
              "      <td>3511</td>\n",
              "      <td>0</td>\n",
              "      <td>71</td>\n",
              "      <td>NYC District</td>\n",
              "    </tr>\n",
              "    <tr>\n",
              "      <th>778</th>\n",
              "      <td>3709</td>\n",
              "      <td>0</td>\n",
              "      <td>71</td>\n",
              "      <td>NYC District</td>\n",
              "    </tr>\n",
              "    <tr>\n",
              "      <th>790</th>\n",
              "      <td>3726</td>\n",
              "      <td>0</td>\n",
              "      <td>71</td>\n",
              "      <td>NYC District</td>\n",
              "    </tr>\n",
              "    <tr>\n",
              "      <th>827</th>\n",
              "      <td>3783</td>\n",
              "      <td>0</td>\n",
              "      <td>71</td>\n",
              "      <td>NYC District</td>\n",
              "    </tr>\n",
              "  </tbody>\n",
              "</table>\n",
              "</div>"
            ],
            "text/plain": [
              "     start_station_id  start_capacity  start_region_id start_region_name\n",
              "23                 72               0               71      NYC District\n",
              "182               423               0               71      NYC District\n",
              "194               448               0               71      NYC District\n",
              "220               480               0               71      NYC District\n",
              "232               495               0               71      NYC District\n",
              "279              2023               0               71      NYC District\n",
              "355              3131               0               71      NYC District\n",
              "374              3155               0               71      NYC District\n",
              "457              3286               0               71      NYC District\n",
              "461              3290               0               71      NYC District\n",
              "489              3320               0               71      NYC District\n",
              "491              3322               0               71      NYC District\n",
              "509              3341               0               71      NYC District\n",
              "526              3359               0               71      NYC District\n",
              "630              3511               0               71      NYC District\n",
              "778              3709               0               71      NYC District\n",
              "790              3726               0               71      NYC District\n",
              "827              3783               0               71      NYC District"
            ]
          },
          "metadata": {
            "tags": []
          },
          "execution_count": 14
        }
      ]
    },
    {
      "cell_type": "code",
      "metadata": {
        "id": "yDjQNEqTCMo4",
        "colab_type": "code",
        "outputId": "64408663-2af6-4ed9-8fc3-311dd6ccc19b",
        "colab": {
          "base_uri": "https://localhost:8080/",
          "height": 266
        }
      },
      "source": [
        "#looking at the completed wrangled dataset\n",
        "df3.head()"
      ],
      "execution_count": 15,
      "outputs": [
        {
          "output_type": "execute_result",
          "data": {
            "text/html": [
              "<div>\n",
              "<style scoped>\n",
              "    .dataframe tbody tr th:only-of-type {\n",
              "        vertical-align: middle;\n",
              "    }\n",
              "\n",
              "    .dataframe tbody tr th {\n",
              "        vertical-align: top;\n",
              "    }\n",
              "\n",
              "    .dataframe thead th {\n",
              "        text-align: right;\n",
              "    }\n",
              "</style>\n",
              "<table border=\"1\" class=\"dataframe\">\n",
              "  <thead>\n",
              "    <tr style=\"text-align: right;\">\n",
              "      <th></th>\n",
              "      <th>tripduration</th>\n",
              "      <th>start_station_id</th>\n",
              "      <th>start_station_name</th>\n",
              "      <th>start_station_latitude</th>\n",
              "      <th>start_station_longitude</th>\n",
              "      <th>end_station_id</th>\n",
              "      <th>end_station_name</th>\n",
              "      <th>end_station_latitude</th>\n",
              "      <th>end_station_longitude</th>\n",
              "      <th>bikeid</th>\n",
              "      <th>usertype</th>\n",
              "      <th>birth_year</th>\n",
              "      <th>gender</th>\n",
              "      <th>month_starttime</th>\n",
              "      <th>day_starttime</th>\n",
              "      <th>weekday_starttime</th>\n",
              "      <th>hour_starttime</th>\n",
              "      <th>minutes_starttime</th>\n",
              "      <th>month_stoptime</th>\n",
              "      <th>day_stoptime</th>\n",
              "      <th>weekday_stoptime</th>\n",
              "      <th>hour_stoptime</th>\n",
              "      <th>minutes_stoptime</th>\n",
              "      <th>determinant</th>\n",
              "      <th>minutes_bin_start_time</th>\n",
              "      <th>minutes_bin_stop_time</th>\n",
              "      <th>start_capacity</th>\n",
              "      <th>start_region_id</th>\n",
              "      <th>start_region_name</th>\n",
              "      <th>end_capacity</th>\n",
              "      <th>end_region_id</th>\n",
              "      <th>end_region_name</th>\n",
              "    </tr>\n",
              "  </thead>\n",
              "  <tbody>\n",
              "    <tr>\n",
              "      <th>0</th>\n",
              "      <td>897</td>\n",
              "      <td>493.0</td>\n",
              "      <td>W 45 St &amp; 6 Ave</td>\n",
              "      <td>40.756800</td>\n",
              "      <td>-73.982912</td>\n",
              "      <td>454.0</td>\n",
              "      <td>E 51 St &amp; 1 Ave</td>\n",
              "      <td>40.754557</td>\n",
              "      <td>-73.965930</td>\n",
              "      <td>18340</td>\n",
              "      <td>Subscriber</td>\n",
              "      <td>1966</td>\n",
              "      <td>1</td>\n",
              "      <td>Jul</td>\n",
              "      <td>1</td>\n",
              "      <td>Mon</td>\n",
              "      <td>0</td>\n",
              "      <td>0</td>\n",
              "      <td>Jul</td>\n",
              "      <td>1</td>\n",
              "      <td>Mon</td>\n",
              "      <td>0</td>\n",
              "      <td>14</td>\n",
              "      <td>0.019225</td>\n",
              "      <td>0</td>\n",
              "      <td>0</td>\n",
              "      <td>34.0</td>\n",
              "      <td>71.0</td>\n",
              "      <td>NYC District</td>\n",
              "      <td>35.0</td>\n",
              "      <td>71.0</td>\n",
              "      <td>NYC District</td>\n",
              "    </tr>\n",
              "    <tr>\n",
              "      <th>1</th>\n",
              "      <td>267</td>\n",
              "      <td>3143.0</td>\n",
              "      <td>5 Ave &amp; E 78 St</td>\n",
              "      <td>40.776321</td>\n",
              "      <td>-73.964274</td>\n",
              "      <td>3226.0</td>\n",
              "      <td>W 82 St &amp; Central Park West</td>\n",
              "      <td>40.782750</td>\n",
              "      <td>-73.971370</td>\n",
              "      <td>21458</td>\n",
              "      <td>Customer</td>\n",
              "      <td>1996</td>\n",
              "      <td>1</td>\n",
              "      <td>Jul</td>\n",
              "      <td>1</td>\n",
              "      <td>Mon</td>\n",
              "      <td>0</td>\n",
              "      <td>0</td>\n",
              "      <td>Jul</td>\n",
              "      <td>1</td>\n",
              "      <td>Mon</td>\n",
              "      <td>0</td>\n",
              "      <td>4</td>\n",
              "      <td>0.013525</td>\n",
              "      <td>0</td>\n",
              "      <td>0</td>\n",
              "      <td>47.0</td>\n",
              "      <td>71.0</td>\n",
              "      <td>NYC District</td>\n",
              "      <td>NaN</td>\n",
              "      <td>NaN</td>\n",
              "      <td>NaN</td>\n",
              "    </tr>\n",
              "    <tr>\n",
              "      <th>2</th>\n",
              "      <td>2201</td>\n",
              "      <td>317.0</td>\n",
              "      <td>E 6 St &amp; Avenue B</td>\n",
              "      <td>40.724537</td>\n",
              "      <td>-73.981854</td>\n",
              "      <td>3469.0</td>\n",
              "      <td>India St &amp; West St</td>\n",
              "      <td>40.731814</td>\n",
              "      <td>-73.959950</td>\n",
              "      <td>39874</td>\n",
              "      <td>Subscriber</td>\n",
              "      <td>1986</td>\n",
              "      <td>1</td>\n",
              "      <td>Jul</td>\n",
              "      <td>1</td>\n",
              "      <td>Mon</td>\n",
              "      <td>0</td>\n",
              "      <td>0</td>\n",
              "      <td>Jul</td>\n",
              "      <td>1</td>\n",
              "      <td>Mon</td>\n",
              "      <td>0</td>\n",
              "      <td>36</td>\n",
              "      <td>0.029181</td>\n",
              "      <td>0</td>\n",
              "      <td>30</td>\n",
              "      <td>54.0</td>\n",
              "      <td>71.0</td>\n",
              "      <td>NYC District</td>\n",
              "      <td>23.0</td>\n",
              "      <td>71.0</td>\n",
              "      <td>NYC District</td>\n",
              "    </tr>\n",
              "    <tr>\n",
              "      <th>3</th>\n",
              "      <td>1660</td>\n",
              "      <td>249.0</td>\n",
              "      <td>Harrison St &amp; Hudson St</td>\n",
              "      <td>40.718710</td>\n",
              "      <td>-74.009001</td>\n",
              "      <td>369.0</td>\n",
              "      <td>Washington Pl &amp; 6 Ave</td>\n",
              "      <td>40.732241</td>\n",
              "      <td>-74.000264</td>\n",
              "      <td>38865</td>\n",
              "      <td>Subscriber</td>\n",
              "      <td>1988</td>\n",
              "      <td>1</td>\n",
              "      <td>Jul</td>\n",
              "      <td>1</td>\n",
              "      <td>Mon</td>\n",
              "      <td>0</td>\n",
              "      <td>0</td>\n",
              "      <td>Jul</td>\n",
              "      <td>1</td>\n",
              "      <td>Mon</td>\n",
              "      <td>0</td>\n",
              "      <td>27</td>\n",
              "      <td>0.022268</td>\n",
              "      <td>0</td>\n",
              "      <td>15</td>\n",
              "      <td>27.0</td>\n",
              "      <td>71.0</td>\n",
              "      <td>NYC District</td>\n",
              "      <td>21.0</td>\n",
              "      <td>71.0</td>\n",
              "      <td>NYC District</td>\n",
              "    </tr>\n",
              "    <tr>\n",
              "      <th>4</th>\n",
              "      <td>109</td>\n",
              "      <td>3552.0</td>\n",
              "      <td>W 113 St &amp; Broadway</td>\n",
              "      <td>40.805973</td>\n",
              "      <td>-73.964928</td>\n",
              "      <td>3538.0</td>\n",
              "      <td>W 110 St &amp; Amsterdam Ave</td>\n",
              "      <td>40.802692</td>\n",
              "      <td>-73.962950</td>\n",
              "      <td>30256</td>\n",
              "      <td>Subscriber</td>\n",
              "      <td>1997</td>\n",
              "      <td>1</td>\n",
              "      <td>Jul</td>\n",
              "      <td>1</td>\n",
              "      <td>Mon</td>\n",
              "      <td>0</td>\n",
              "      <td>0</td>\n",
              "      <td>Jul</td>\n",
              "      <td>1</td>\n",
              "      <td>Mon</td>\n",
              "      <td>0</td>\n",
              "      <td>2</td>\n",
              "      <td>0.005259</td>\n",
              "      <td>0</td>\n",
              "      <td>0</td>\n",
              "      <td>39.0</td>\n",
              "      <td>71.0</td>\n",
              "      <td>NYC District</td>\n",
              "      <td>45.0</td>\n",
              "      <td>71.0</td>\n",
              "      <td>NYC District</td>\n",
              "    </tr>\n",
              "  </tbody>\n",
              "</table>\n",
              "</div>"
            ],
            "text/plain": [
              "   tripduration  start_station_id       start_station_name  \\\n",
              "0           897             493.0          W 45 St & 6 Ave   \n",
              "1           267            3143.0          5 Ave & E 78 St   \n",
              "2          2201             317.0        E 6 St & Avenue B   \n",
              "3          1660             249.0  Harrison St & Hudson St   \n",
              "4           109            3552.0      W 113 St & Broadway   \n",
              "\n",
              "   start_station_latitude  start_station_longitude  end_station_id  \\\n",
              "0               40.756800               -73.982912           454.0   \n",
              "1               40.776321               -73.964274          3226.0   \n",
              "2               40.724537               -73.981854          3469.0   \n",
              "3               40.718710               -74.009001           369.0   \n",
              "4               40.805973               -73.964928          3538.0   \n",
              "\n",
              "              end_station_name  end_station_latitude  end_station_longitude  \\\n",
              "0              E 51 St & 1 Ave             40.754557             -73.965930   \n",
              "1  W 82 St & Central Park West             40.782750             -73.971370   \n",
              "2           India St & West St             40.731814             -73.959950   \n",
              "3        Washington Pl & 6 Ave             40.732241             -74.000264   \n",
              "4     W 110 St & Amsterdam Ave             40.802692             -73.962950   \n",
              "\n",
              "   bikeid    usertype  birth_year  gender month_starttime  day_starttime  \\\n",
              "0   18340  Subscriber        1966       1             Jul              1   \n",
              "1   21458    Customer        1996       1             Jul              1   \n",
              "2   39874  Subscriber        1986       1             Jul              1   \n",
              "3   38865  Subscriber        1988       1             Jul              1   \n",
              "4   30256  Subscriber        1997       1             Jul              1   \n",
              "\n",
              "  weekday_starttime  hour_starttime  minutes_starttime month_stoptime  \\\n",
              "0               Mon               0                  0            Jul   \n",
              "1               Mon               0                  0            Jul   \n",
              "2               Mon               0                  0            Jul   \n",
              "3               Mon               0                  0            Jul   \n",
              "4               Mon               0                  0            Jul   \n",
              "\n",
              "   day_stoptime weekday_stoptime  hour_stoptime  minutes_stoptime  \\\n",
              "0             1              Mon              0                14   \n",
              "1             1              Mon              0                 4   \n",
              "2             1              Mon              0                36   \n",
              "3             1              Mon              0                27   \n",
              "4             1              Mon              0                 2   \n",
              "\n",
              "   determinant  minutes_bin_start_time  minutes_bin_stop_time  start_capacity  \\\n",
              "0     0.019225                       0                      0            34.0   \n",
              "1     0.013525                       0                      0            47.0   \n",
              "2     0.029181                       0                     30            54.0   \n",
              "3     0.022268                       0                     15            27.0   \n",
              "4     0.005259                       0                      0            39.0   \n",
              "\n",
              "   start_region_id start_region_name  end_capacity  end_region_id  \\\n",
              "0             71.0      NYC District          35.0           71.0   \n",
              "1             71.0      NYC District           NaN            NaN   \n",
              "2             71.0      NYC District          23.0           71.0   \n",
              "3             71.0      NYC District          21.0           71.0   \n",
              "4             71.0      NYC District          45.0           71.0   \n",
              "\n",
              "  end_region_name  \n",
              "0    NYC District  \n",
              "1             NaN  \n",
              "2    NYC District  \n",
              "3    NYC District  \n",
              "4    NYC District  "
            ]
          },
          "metadata": {
            "tags": []
          },
          "execution_count": 15
        }
      ]
    },
    {
      "cell_type": "markdown",
      "metadata": {
        "id": "FEZQ9CdJM1Oe",
        "colab_type": "text"
      },
      "source": [
        "## Trip Dataset"
      ]
    },
    {
      "cell_type": "markdown",
      "metadata": {
        "id": "MCwtSgqjM405",
        "colab_type": "text"
      },
      "source": [
        "Creating a dataset by selecting all trips according to time and day of the week."
      ]
    },
    {
      "cell_type": "code",
      "metadata": {
        "id": "Dms87c8U4Ep8",
        "colab_type": "code",
        "colab": {}
      },
      "source": [
        "trip_data_weekday_hourly =df3.groupby(['weekday_starttime','hour_starttime']).size().reset_index(name='total_rides')\n",
        "trip_data_weekday_hourly.columns=['Weekday', 'Hour of the Day', 'Total Rides']\n"
      ],
      "execution_count": 0,
      "outputs": []
    },
    {
      "cell_type": "markdown",
      "metadata": {
        "id": "rISfU9yOYuFX",
        "colab_type": "text"
      },
      "source": [
        "Graphing Rides by Day of the Week according to time"
      ]
    },
    {
      "cell_type": "code",
      "metadata": {
        "id": "8s7t4lOp47E5",
        "colab_type": "code",
        "outputId": "8139fa81-3550-42da-ae99-a888397a489a",
        "colab": {
          "base_uri": "https://localhost:8080/",
          "height": 387
        }
      },
      "source": [
        "plt.style.use('dark_background')\n",
        "\n",
        "sns.relplot(x=\"Hour of the Day\", y=\"Total Rides\",\n",
        "            hue=\"Weekday\",palette=\"husl\",sizes=(10, 100),\n",
        "            facet_kws=dict(sharex=False),\n",
        "            kind=\"line\", legend=\"full\", data=trip_data_weekday_hourly);\n",
        "\n",
        "plt.title('Rides by Day of the Week', fontsize=16, fontweight='bold');\n",
        "plt.xlabel(' Hour of the Day');\n",
        "plt.ylabel(' Total Rides');\n"
      ],
      "execution_count": 32,
      "outputs": [
        {
          "output_type": "display_data",
          "data": {
            "image/png": "[encoded data removed]",
            "text/plain": [
              "<Figure size 442.25x360 with 1 Axes>"
            ]
          },
          "metadata": {
            "tags": []
          }
        }
      ]
    },
    {
      "cell_type": "markdown",
      "metadata": {
        "id": "sNtdWlvYVIKV",
        "colab_type": "text"
      },
      "source": [
        "#Start Data"
      ]
    },
    {
      "cell_type": "markdown",
      "metadata": {
        "id": "StoXy_CgKAAi",
        "colab_type": "text"
      },
      "source": [
        "## Creating the dataset for Start Stations"
      ]
    },
    {
      "cell_type": "code",
      "metadata": {
        "id": "PU3EhPd8GGwE",
        "colab_type": "code",
        "outputId": "43dc9850-5636-4041-87bd-f19dfd620769",
        "colab": {
          "base_uri": "https://localhost:8080/",
          "height": 195
        }
      },
      "source": [
        "#creating a dataset for stations where trip start.\n",
        "start_data =df3.groupby(['start_station_id','start_region_name','start_capacity','month_starttime','day_starttime','weekday_starttime','hour_starttime','minutes_bin_start_time']).size().reset_index(name='rides')\n",
        "start_data=start_data[start_data['start_capacity']>0].copy()#getting rid of stations with no current capacity\n",
        "start_data['start_station_usage']=start_data['rides']/start_data['start_capacity']\n",
        "start_data['usage_level']=np.where(start_data['start_station_usage']>0.25,'High','Low')\n",
        "start_data=start_data.drop(columns=['rides','start_station_usage','start_capacity'])\n",
        "start_data.head()"
      ],
      "execution_count": 56,
      "outputs": [
        {
          "output_type": "execute_result",
          "data": {
            "text/html": [
              "<div>\n",
              "<style scoped>\n",
              "    .dataframe tbody tr th:only-of-type {\n",
              "        vertical-align: middle;\n",
              "    }\n",
              "\n",
              "    .dataframe tbody tr th {\n",
              "        vertical-align: top;\n",
              "    }\n",
              "\n",
              "    .dataframe thead th {\n",
              "        text-align: right;\n",
              "    }\n",
              "</style>\n",
              "<table border=\"1\" class=\"dataframe\">\n",
              "  <thead>\n",
              "    <tr style=\"text-align: right;\">\n",
              "      <th></th>\n",
              "      <th>start_station_id</th>\n",
              "      <th>start_region_name</th>\n",
              "      <th>month_starttime</th>\n",
              "      <th>day_starttime</th>\n",
              "      <th>weekday_starttime</th>\n",
              "      <th>hour_starttime</th>\n",
              "      <th>minutes_bin_start_time</th>\n",
              "      <th>usage_level</th>\n",
              "    </tr>\n",
              "  </thead>\n",
              "  <tbody>\n",
              "    <tr>\n",
              "      <th>5538</th>\n",
              "      <td>79.0</td>\n",
              "      <td>NYC District</td>\n",
              "      <td>Aug</td>\n",
              "      <td>1</td>\n",
              "      <td>Thu</td>\n",
              "      <td>0</td>\n",
              "      <td>0</td>\n",
              "      <td>Low</td>\n",
              "    </tr>\n",
              "    <tr>\n",
              "      <th>5539</th>\n",
              "      <td>79.0</td>\n",
              "      <td>NYC District</td>\n",
              "      <td>Aug</td>\n",
              "      <td>1</td>\n",
              "      <td>Thu</td>\n",
              "      <td>0</td>\n",
              "      <td>45</td>\n",
              "      <td>Low</td>\n",
              "    </tr>\n",
              "    <tr>\n",
              "      <th>5540</th>\n",
              "      <td>79.0</td>\n",
              "      <td>NYC District</td>\n",
              "      <td>Aug</td>\n",
              "      <td>1</td>\n",
              "      <td>Thu</td>\n",
              "      <td>4</td>\n",
              "      <td>0</td>\n",
              "      <td>Low</td>\n",
              "    </tr>\n",
              "    <tr>\n",
              "      <th>5541</th>\n",
              "      <td>79.0</td>\n",
              "      <td>NYC District</td>\n",
              "      <td>Aug</td>\n",
              "      <td>1</td>\n",
              "      <td>Thu</td>\n",
              "      <td>7</td>\n",
              "      <td>15</td>\n",
              "      <td>Low</td>\n",
              "    </tr>\n",
              "    <tr>\n",
              "      <th>5542</th>\n",
              "      <td>79.0</td>\n",
              "      <td>NYC District</td>\n",
              "      <td>Aug</td>\n",
              "      <td>1</td>\n",
              "      <td>Thu</td>\n",
              "      <td>7</td>\n",
              "      <td>30</td>\n",
              "      <td>Low</td>\n",
              "    </tr>\n",
              "  </tbody>\n",
              "</table>\n",
              "</div>"
            ],
            "text/plain": [
              "      start_station_id start_region_name month_starttime  day_starttime  \\\n",
              "5538              79.0      NYC District             Aug              1   \n",
              "5539              79.0      NYC District             Aug              1   \n",
              "5540              79.0      NYC District             Aug              1   \n",
              "5541              79.0      NYC District             Aug              1   \n",
              "5542              79.0      NYC District             Aug              1   \n",
              "\n",
              "     weekday_starttime  hour_starttime  minutes_bin_start_time usage_level  \n",
              "5538               Thu               0                       0         Low  \n",
              "5539               Thu               0                      45         Low  \n",
              "5540               Thu               4                       0         Low  \n",
              "5541               Thu               7                      15         Low  \n",
              "5542               Thu               7                      30         Low  "
            ]
          },
          "metadata": {
            "tags": []
          },
          "execution_count": 56
        }
      ]
    },
    {
      "cell_type": "markdown",
      "metadata": {
        "id": "29XPbZknVS00",
        "colab_type": "text"
      },
      "source": [
        "## Predicting High or Low Level of usage based on capacity"
      ]
    },
    {
      "cell_type": "markdown",
      "metadata": {
        "id": "wNJOWYzwSCK9",
        "colab_type": "text"
      },
      "source": [
        "Creating High or Low Usage Levels"
      ]
    },
    {
      "cell_type": "markdown",
      "metadata": {
        "colab_type": "text",
        "id": "XaAQPqRFR_4k"
      },
      "source": [
        "Assumption is that at a usage level higher than 25% per 15 minute increment would exhaust a station within an hour without any bikes being refilled or ending at the station."
      ]
    },
    {
      "cell_type": "code",
      "metadata": {
        "id": "3jw49vOFpXwE",
        "colab_type": "code",
        "outputId": "2104fca2-7596-40ce-8f6f-9ae8e42072d7",
        "colab": {
          "base_uri": "https://localhost:8080/",
          "height": 212
        }
      },
      "source": [
        "start_data_g =df3.groupby(['start_station_id','start_region_name','start_capacity','month_starttime','day_starttime','weekday_starttime','hour_starttime','minutes_bin_start_time']).size().reset_index(name='rides')\n",
        "start_data_g=start_data_g[start_data_g['start_capacity']>0].copy()#getting rid of stations with no current capacity\n",
        "start_data_g['start_station_usage']=start_data_g['rides']/start_data_g['start_capacity']\n",
        "start_data_g['usage_level']=np.where(start_data_g['start_station_usage']>0.25,'High','Low')\n",
        "#cleaning up headers for graphs\n",
        "start_data_g.columns=['start_station_id', 'start_region_name', 'Station Capacity',\n",
        "       'month_starttime', 'day_starttime', 'weekday_starttime',\n",
        "       'hour_starttime', 'minutes_bin_start_time', 'rides',\n",
        "       'Station Usage', 'Usage Level']\n",
        "start_data_g.head()"
      ],
      "execution_count": 43,
      "outputs": [
        {
          "output_type": "execute_result",
          "data": {
            "text/html": [
              "<div>\n",
              "<style scoped>\n",
              "    .dataframe tbody tr th:only-of-type {\n",
              "        vertical-align: middle;\n",
              "    }\n",
              "\n",
              "    .dataframe tbody tr th {\n",
              "        vertical-align: top;\n",
              "    }\n",
              "\n",
              "    .dataframe thead th {\n",
              "        text-align: right;\n",
              "    }\n",
              "</style>\n",
              "<table border=\"1\" class=\"dataframe\">\n",
              "  <thead>\n",
              "    <tr style=\"text-align: right;\">\n",
              "      <th></th>\n",
              "      <th>start_station_id</th>\n",
              "      <th>start_region_name</th>\n",
              "      <th>Station Capacity</th>\n",
              "      <th>month_starttime</th>\n",
              "      <th>day_starttime</th>\n",
              "      <th>weekday_starttime</th>\n",
              "      <th>hour_starttime</th>\n",
              "      <th>minutes_bin_start_time</th>\n",
              "      <th>rides</th>\n",
              "      <th>Station Usage</th>\n",
              "      <th>Usage Level</th>\n",
              "    </tr>\n",
              "  </thead>\n",
              "  <tbody>\n",
              "    <tr>\n",
              "      <th>5538</th>\n",
              "      <td>79.0</td>\n",
              "      <td>NYC District</td>\n",
              "      <td>33.0</td>\n",
              "      <td>Aug</td>\n",
              "      <td>1</td>\n",
              "      <td>Thu</td>\n",
              "      <td>0</td>\n",
              "      <td>0</td>\n",
              "      <td>2</td>\n",
              "      <td>0.060606</td>\n",
              "      <td>Low</td>\n",
              "    </tr>\n",
              "    <tr>\n",
              "      <th>5539</th>\n",
              "      <td>79.0</td>\n",
              "      <td>NYC District</td>\n",
              "      <td>33.0</td>\n",
              "      <td>Aug</td>\n",
              "      <td>1</td>\n",
              "      <td>Thu</td>\n",
              "      <td>0</td>\n",
              "      <td>45</td>\n",
              "      <td>1</td>\n",
              "      <td>0.030303</td>\n",
              "      <td>Low</td>\n",
              "    </tr>\n",
              "    <tr>\n",
              "      <th>5540</th>\n",
              "      <td>79.0</td>\n",
              "      <td>NYC District</td>\n",
              "      <td>33.0</td>\n",
              "      <td>Aug</td>\n",
              "      <td>1</td>\n",
              "      <td>Thu</td>\n",
              "      <td>4</td>\n",
              "      <td>0</td>\n",
              "      <td>2</td>\n",
              "      <td>0.060606</td>\n",
              "      <td>Low</td>\n",
              "    </tr>\n",
              "    <tr>\n",
              "      <th>5541</th>\n",
              "      <td>79.0</td>\n",
              "      <td>NYC District</td>\n",
              "      <td>33.0</td>\n",
              "      <td>Aug</td>\n",
              "      <td>1</td>\n",
              "      <td>Thu</td>\n",
              "      <td>7</td>\n",
              "      <td>15</td>\n",
              "      <td>1</td>\n",
              "      <td>0.030303</td>\n",
              "      <td>Low</td>\n",
              "    </tr>\n",
              "    <tr>\n",
              "      <th>5542</th>\n",
              "      <td>79.0</td>\n",
              "      <td>NYC District</td>\n",
              "      <td>33.0</td>\n",
              "      <td>Aug</td>\n",
              "      <td>1</td>\n",
              "      <td>Thu</td>\n",
              "      <td>7</td>\n",
              "      <td>30</td>\n",
              "      <td>2</td>\n",
              "      <td>0.060606</td>\n",
              "      <td>Low</td>\n",
              "    </tr>\n",
              "  </tbody>\n",
              "</table>\n",
              "</div>"
            ],
            "text/plain": [
              "      start_station_id start_region_name  Station Capacity month_starttime  \\\n",
              "5538              79.0      NYC District              33.0             Aug   \n",
              "5539              79.0      NYC District              33.0             Aug   \n",
              "5540              79.0      NYC District              33.0             Aug   \n",
              "5541              79.0      NYC District              33.0             Aug   \n",
              "5542              79.0      NYC District              33.0             Aug   \n",
              "\n",
              "      day_starttime weekday_starttime  hour_starttime  minutes_bin_start_time  \\\n",
              "5538              1               Thu               0                       0   \n",
              "5539              1               Thu               0                      45   \n",
              "5540              1               Thu               4                       0   \n",
              "5541              1               Thu               7                      15   \n",
              "5542              1               Thu               7                      30   \n",
              "\n",
              "      rides  Station Usage Usage Level  \n",
              "5538      2       0.060606         Low  \n",
              "5539      1       0.030303         Low  \n",
              "5540      2       0.060606         Low  \n",
              "5541      1       0.030303         Low  \n",
              "5542      2       0.060606         Low  "
            ]
          },
          "metadata": {
            "tags": []
          },
          "execution_count": 43
        }
      ]
    },
    {
      "cell_type": "code",
      "metadata": {
        "id": "pJI1X7qRG-Ud",
        "colab_type": "code",
        "outputId": "27177e3e-0252-4488-9348-58c5d56b7ffe",
        "colab": {
          "base_uri": "https://localhost:8080/",
          "height": 387
        }
      },
      "source": [
        "plt.style.use('dark_background')\n",
        "\n",
        "sns.relplot(x=\"Station Capacity\", y=\"Station Usage\",\n",
        "            hue=\"Usage Level\",palette=\"husl\",sizes=(10, 100),\n",
        "            facet_kws=dict(sharex=False),\n",
        "            kind=\"line\", legend=\"full\", data=start_data_g);\n",
        "\n",
        "plt.title('Station Capacity vs Usage by Usage Level', fontsize=16, fontweight='bold');\n",
        "plt.xlabel('Station Capacity');\n",
        "plt.ylabel('Usage');"
      ],
      "execution_count": 44,
      "outputs": [
        {
          "output_type": "display_data",
          "data": {
            "image/png": "[encoded data removed]",
            "text/plain": [
              "<Figure size 456.875x360 with 1 Axes>"
            ]
          },
          "metadata": {
            "tags": []
          }
        }
      ]
    },
    {
      "cell_type": "markdown",
      "metadata": {
        "id": "aDUjxAn1SzBi",
        "colab_type": "text"
      },
      "source": [
        "We can see that there is a gap between high and low usage levels, signaling that our criteria for 25% holds."
      ]
    },
    {
      "cell_type": "markdown",
      "metadata": {
        "id": "QbH3oQsgS_h5",
        "colab_type": "text"
      },
      "source": [
        "We can see that certain stations with less than 20 capacity likely need more capacity as they see the highest levels of usage."
      ]
    },
    {
      "cell_type": "markdown",
      "metadata": {
        "id": "s8mlGBKKHaf_",
        "colab_type": "text"
      },
      "source": [
        "Baseline of majority classifier for Start Station Data"
      ]
    },
    {
      "cell_type": "code",
      "metadata": {
        "id": "sf9UlcryPA3I",
        "colab_type": "code",
        "outputId": "9d18b44b-36fd-427b-cadf-79f29ebdfa51",
        "colab": {
          "base_uri": "https://localhost:8080/",
          "height": 67
        }
      },
      "source": [
        "start_data['usage_level'].value_counts(normalize=True)"
      ],
      "execution_count": 36,
      "outputs": [
        {
          "output_type": "execute_result",
          "data": {
            "text/plain": [
              "Low     0.972346\n",
              "High    0.027654\n",
              "Name: usage_level, dtype: float64"
            ]
          },
          "metadata": {
            "tags": []
          },
          "execution_count": 36
        }
      ]
    },
    {
      "cell_type": "markdown",
      "metadata": {
        "id": "O52gLzS2Vdfc",
        "colab_type": "text"
      },
      "source": [
        "High usage only occurs about 2.76% of the time."
      ]
    },
    {
      "cell_type": "code",
      "metadata": {
        "id": "sINIUU4_QW7k",
        "colab_type": "code",
        "outputId": "1958002d-86df-43b7-c388-7672f317e8ab",
        "colab": {
          "base_uri": "https://localhost:8080/",
          "height": 195
        }
      },
      "source": [
        "start_data.head()"
      ],
      "execution_count": 18,
      "outputs": [
        {
          "output_type": "execute_result",
          "data": {
            "text/html": [
              "<div>\n",
              "<style scoped>\n",
              "    .dataframe tbody tr th:only-of-type {\n",
              "        vertical-align: middle;\n",
              "    }\n",
              "\n",
              "    .dataframe tbody tr th {\n",
              "        vertical-align: top;\n",
              "    }\n",
              "\n",
              "    .dataframe thead th {\n",
              "        text-align: right;\n",
              "    }\n",
              "</style>\n",
              "<table border=\"1\" class=\"dataframe\">\n",
              "  <thead>\n",
              "    <tr style=\"text-align: right;\">\n",
              "      <th></th>\n",
              "      <th>start_station_id</th>\n",
              "      <th>start_region_name</th>\n",
              "      <th>month_starttime</th>\n",
              "      <th>day_starttime</th>\n",
              "      <th>weekday_starttime</th>\n",
              "      <th>hour_starttime</th>\n",
              "      <th>minutes_bin_start_time</th>\n",
              "      <th>usage_level</th>\n",
              "    </tr>\n",
              "  </thead>\n",
              "  <tbody>\n",
              "    <tr>\n",
              "      <th>5538</th>\n",
              "      <td>79.0</td>\n",
              "      <td>NYC District</td>\n",
              "      <td>Aug</td>\n",
              "      <td>1</td>\n",
              "      <td>Thu</td>\n",
              "      <td>0</td>\n",
              "      <td>0</td>\n",
              "      <td>Low</td>\n",
              "    </tr>\n",
              "    <tr>\n",
              "      <th>5539</th>\n",
              "      <td>79.0</td>\n",
              "      <td>NYC District</td>\n",
              "      <td>Aug</td>\n",
              "      <td>1</td>\n",
              "      <td>Thu</td>\n",
              "      <td>0</td>\n",
              "      <td>45</td>\n",
              "      <td>Low</td>\n",
              "    </tr>\n",
              "    <tr>\n",
              "      <th>5540</th>\n",
              "      <td>79.0</td>\n",
              "      <td>NYC District</td>\n",
              "      <td>Aug</td>\n",
              "      <td>1</td>\n",
              "      <td>Thu</td>\n",
              "      <td>4</td>\n",
              "      <td>0</td>\n",
              "      <td>Low</td>\n",
              "    </tr>\n",
              "    <tr>\n",
              "      <th>5541</th>\n",
              "      <td>79.0</td>\n",
              "      <td>NYC District</td>\n",
              "      <td>Aug</td>\n",
              "      <td>1</td>\n",
              "      <td>Thu</td>\n",
              "      <td>7</td>\n",
              "      <td>15</td>\n",
              "      <td>Low</td>\n",
              "    </tr>\n",
              "    <tr>\n",
              "      <th>5542</th>\n",
              "      <td>79.0</td>\n",
              "      <td>NYC District</td>\n",
              "      <td>Aug</td>\n",
              "      <td>1</td>\n",
              "      <td>Thu</td>\n",
              "      <td>7</td>\n",
              "      <td>30</td>\n",
              "      <td>Low</td>\n",
              "    </tr>\n",
              "  </tbody>\n",
              "</table>\n",
              "</div>"
            ],
            "text/plain": [
              "      start_station_id start_region_name month_starttime  day_starttime  \\\n",
              "5538              79.0      NYC District             Aug              1   \n",
              "5539              79.0      NYC District             Aug              1   \n",
              "5540              79.0      NYC District             Aug              1   \n",
              "5541              79.0      NYC District             Aug              1   \n",
              "5542              79.0      NYC District             Aug              1   \n",
              "\n",
              "     weekday_starttime  hour_starttime  minutes_bin_start_time usage_level  \n",
              "5538               Thu               0                       0         Low  \n",
              "5539               Thu               0                      45         Low  \n",
              "5540               Thu               4                       0         Low  \n",
              "5541               Thu               7                      15         Low  \n",
              "5542               Thu               7                      30         Low  "
            ]
          },
          "metadata": {
            "tags": []
          },
          "execution_count": 18
        }
      ]
    },
    {
      "cell_type": "markdown",
      "metadata": {
        "id": "jztJ76cdVkSg",
        "colab_type": "text"
      },
      "source": [
        "##Predictive Modeling"
      ]
    },
    {
      "cell_type": "markdown",
      "metadata": {
        "id": "N2Apjp_TI_Ce",
        "colab_type": "text"
      },
      "source": [
        "## Splitting Data and Checking Dataset Shapes"
      ]
    },
    {
      "cell_type": "code",
      "metadata": {
        "id": "qPm7A3-rPtcd",
        "colab_type": "code",
        "outputId": "0a7dcd3a-f248-4300-fc40-7bfe127e9c10",
        "colab": {
          "base_uri": "https://localhost:8080/",
          "height": 118
        }
      },
      "source": [
        "# Split train into train & val. Make val the same size as test.\n",
        "target = 'usage_level'\n",
        "#train, val = train_test_split(start_data,  stratify=start_data[target],train_size=0.75, test_size=0.25, random_state=32)\n",
        "train=start_data[start_data['month_starttime']=='Jul']\n",
        "val=start_data[start_data['month_starttime']=='Aug']\n",
        "test=start_data[start_data['month_starttime']=='Sep']\n",
        "\n",
        "# Arrange data into X features matrix and y target vector\n",
        "X_train = train.drop(columns=target)\n",
        "y_train = train[target]\n",
        "X_val = val.drop(columns=target)\n",
        "y_val = val[target]\n",
        "X_test = test.drop(columns=target)\n",
        "y_test = test[target]\n",
        "\n",
        "#printing shapes\n",
        "print('X_train shape', X_train.shape)\n",
        "print('y_train shape', y_train.shape)\n",
        "print('X_val shape', X_val.shape)\n",
        "print('y_val shape', y_val.shape)\n",
        "print('X_test shape', X_test.shape)\n",
        "print('y_test shape', y_test.shape)"
      ],
      "execution_count": 19,
      "outputs": [
        {
          "output_type": "stream",
          "text": [
            "X_train shape (858236, 7)\n",
            "y_train shape (858236,)\n",
            "X_val shape (892891, 7)\n",
            "y_val shape (892891,)\n",
            "X_test shape (892381, 7)\n",
            "y_test shape (892381,)\n"
          ],
          "name": "stdout"
        }
      ]
    },
    {
      "cell_type": "markdown",
      "metadata": {
        "id": "I2X16XgJJMXm",
        "colab_type": "text"
      },
      "source": [
        "## Pipeline with encoding, applying model and calculating Accuracy and ROC AUC"
      ]
    },
    {
      "cell_type": "code",
      "metadata": {
        "id": "YgdxphxCQMA1",
        "colab_type": "code",
        "outputId": "603868f5-4ff9-432f-8cc1-56ed69bfdac6",
        "colab": {
          "base_uri": "https://localhost:8080/",
          "height": 84
        }
      },
      "source": [
        "%%time\n",
        "\n",
        "transformers = make_pipeline(\n",
        "    ce.OrdinalEncoder(),\n",
        "   # SimpleImputer(strategy='median')\n",
        ")\n",
        "\n",
        "X_train_transformed = transformers.fit_transform(X_train)\n",
        "X_val_transformed = transformers.fit_transform(X_val)\n",
        "X_test_transformed = transformers.fit_transform(X_test)\n",
        "\n",
        "model = RandomForestClassifier(n_estimators=100, max_depth=25, min_samples_leaf=3, \n",
        "                            random_state=32, n_jobs=-1)\n",
        "model.fit(X_train_transformed, y_train)\n",
        "\n",
        "#validation Accuracy\n",
        "y_pred = model.predict(X_val_transformed)\n",
        "print ('Validation Accuracy', accuracy_score(y_val, y_pred))\n",
        "\n",
        "#Validation ROC AUC\n",
        "y_pred_proba = model.predict_proba(X_val_transformed)[:, 1]\n",
        "print('Val ROC AUC:', roc_auc_score(y_val, y_pred_proba))"
      ],
      "execution_count": 20,
      "outputs": [
        {
          "output_type": "stream",
          "text": [
            "Validation Accuracy 0.9753262156299033\n",
            "Val ROC AUC: 0.8669032877411921\n",
            "CPU times: user 2min 37s, sys: 312 ms, total: 2min 38s\n",
            "Wall time: 46.7 s\n"
          ],
          "name": "stdout"
        }
      ]
    },
    {
      "cell_type": "markdown",
      "metadata": {
        "id": "SAbY46aVIgqV",
        "colab_type": "text"
      },
      "source": [
        "Validation accuracy is slightly higher than the majority class classifier."
      ]
    },
    {
      "cell_type": "markdown",
      "metadata": {
        "colab_type": "text",
        "id": "n3KSTEOIMny1"
      },
      "source": [
        "Accuracy score if very high, are we experiencing data leakage? "
      ]
    },
    {
      "cell_type": "markdown",
      "metadata": {
        "id": "poCXM5AhJZLK",
        "colab_type": "text"
      },
      "source": [
        "## Calculating Accuracy, and ROC AUC for Test Dataset"
      ]
    },
    {
      "cell_type": "code",
      "metadata": {
        "id": "n7pxf_xJbFMt",
        "colab_type": "code",
        "outputId": "6f4fd0e6-a52b-4712-dea1-dfa5e3b4b62e",
        "colab": {
          "base_uri": "https://localhost:8080/",
          "height": 50
        }
      },
      "source": [
        "#validation Accuracy\n",
        "y_pred = model.predict(X_test_transformed)\n",
        "print ('Test Accuracy', accuracy_score(y_test, y_pred))\n",
        "\n",
        "#Validation ROC AUC\n",
        "y_pred_proba = model.predict_proba(X_test_transformed)[:, 1]\n",
        "print('Test ROC AUC:', roc_auc_score(y_test, y_pred_proba))"
      ],
      "execution_count": 21,
      "outputs": [
        {
          "output_type": "stream",
          "text": [
            "Test Accuracy 0.9701147828113776\n",
            "Test ROC AUC: 0.8428519869491761\n"
          ],
          "name": "stdout"
        }
      ]
    },
    {
      "cell_type": "markdown",
      "metadata": {
        "id": "SthEad0fISwh",
        "colab_type": "text"
      },
      "source": [
        "Test accuracy is very close to the majority class classifier."
      ]
    },
    {
      "cell_type": "markdown",
      "metadata": {
        "id": "KzwilclGI8HB",
        "colab_type": "text"
      },
      "source": [
        "## Permutation Importances"
      ]
    },
    {
      "cell_type": "markdown",
      "metadata": {
        "id": "mmfrUeKCIu_w",
        "colab_type": "text"
      },
      "source": [
        "Applying Permutation Importances in order to see if the high validation scores are correlated to any data leakage in case any of the features outweigh the other features in the model."
      ]
    },
    {
      "cell_type": "code",
      "metadata": {
        "id": "9Z-p0sT6QgY_",
        "colab_type": "code",
        "outputId": "24204a1f-a857-4871-e6f0-3f4492044405",
        "colab": {
          "base_uri": "https://localhost:8080/",
          "height": 151
        }
      },
      "source": [
        "#permutation importances\n",
        "\n",
        "permuter = PermutationImportance(\n",
        "    model, \n",
        "    scoring='accuracy',\n",
        "    n_iter=2,\n",
        "    random_state=32\n",
        ")\n",
        "\n",
        "permuter.fit(X_val_transformed, y_val)\n",
        "feature_names = X_val.columns.tolist()\n",
        "\n",
        "eli5.show_weights(\n",
        "    permuter,\n",
        "    top=None,\n",
        "    feature_names = feature_names\n",
        ")\n"
      ],
      "execution_count": 22,
      "outputs": [
        {
          "output_type": "execute_result",
          "data": {
            "text/html": [
              "\n",
              "    <style>\n",
              "    table.eli5-weights tr:hover {\n",
              "        filter: brightness(85%);\n",
              "    }\n",
              "</style>\n",
              "\n",
              "\n",
              "\n",
              "    \n",
              "\n",
              "    \n",
              "\n",
              "    \n",
              "\n",
              "    \n",
              "\n",
              "    \n",
              "\n",
              "    \n",
              "\n",
              "\n",
              "    \n",
              "\n",
              "    \n",
              "\n",
              "    \n",
              "\n",
              "    \n",
              "\n",
              "    \n",
              "\n",
              "    \n",
              "\n",
              "\n",
              "    \n",
              "\n",
              "    \n",
              "\n",
              "    \n",
              "\n",
              "    \n",
              "\n",
              "    \n",
              "        <table class=\"eli5-weights eli5-feature-importances\" style=\"border-collapse: collapse; border: none; margin-top: 0em; table-layout: auto;\">\n",
              "    <thead>\n",
              "    <tr style=\"border: none;\">\n",
              "        <th style=\"padding: 0 1em 0 0.5em; text-align: right; border: none;\">Weight</th>\n",
              "        <th style=\"padding: 0 0.5em 0 0.5em; text-align: left; border: none;\">Feature</th>\n",
              "    </tr>\n",
              "    </thead>\n",
              "    <tbody>\n",
              "    \n",
              "        <tr style=\"background-color: hsl(120, 100.00%, 80.00%); border: none;\">\n",
              "            <td style=\"padding: 0 1em 0 0.5em; text-align: right; border: none;\">\n",
              "                0.0066\n",
              "                \n",
              "                    &plusmn; 0.0000\n",
              "                \n",
              "            </td>\n",
              "            <td style=\"padding: 0 0.5em 0 0.5em; text-align: left; border: none;\">\n",
              "                start_station_id\n",
              "            </td>\n",
              "        </tr>\n",
              "    \n",
              "        <tr style=\"background-color: hsl(120, 100.00%, 93.61%); border: none;\">\n",
              "            <td style=\"padding: 0 1em 0 0.5em; text-align: right; border: none;\">\n",
              "                0.0013\n",
              "                \n",
              "                    &plusmn; 0.0000\n",
              "                \n",
              "            </td>\n",
              "            <td style=\"padding: 0 0.5em 0 0.5em; text-align: left; border: none;\">\n",
              "                hour_starttime\n",
              "            </td>\n",
              "        </tr>\n",
              "    \n",
              "        <tr style=\"background-color: hsl(120, 100.00%, 96.76%); border: none;\">\n",
              "            <td style=\"padding: 0 1em 0 0.5em; text-align: right; border: none;\">\n",
              "                0.0005\n",
              "                \n",
              "                    &plusmn; 0.0000\n",
              "                \n",
              "            </td>\n",
              "            <td style=\"padding: 0 0.5em 0 0.5em; text-align: left; border: none;\">\n",
              "                weekday_starttime\n",
              "            </td>\n",
              "        </tr>\n",
              "    \n",
              "        <tr style=\"background-color: hsl(120, 100.00%, 99.17%); border: none;\">\n",
              "            <td style=\"padding: 0 1em 0 0.5em; text-align: right; border: none;\">\n",
              "                0.0001\n",
              "                \n",
              "                    &plusmn; 0.0001\n",
              "                \n",
              "            </td>\n",
              "            <td style=\"padding: 0 0.5em 0 0.5em; text-align: left; border: none;\">\n",
              "                minutes_bin_start_time\n",
              "            </td>\n",
              "        </tr>\n",
              "    \n",
              "        <tr style=\"background-color: hsl(120, 100.00%, 99.38%); border: none;\">\n",
              "            <td style=\"padding: 0 1em 0 0.5em; text-align: right; border: none;\">\n",
              "                0.0000\n",
              "                \n",
              "                    &plusmn; 0.0001\n",
              "                \n",
              "            </td>\n",
              "            <td style=\"padding: 0 0.5em 0 0.5em; text-align: left; border: none;\">\n",
              "                day_starttime\n",
              "            </td>\n",
              "        </tr>\n",
              "    \n",
              "        <tr style=\"background-color: hsl(0, 100.00%, 100.00%); border: none;\">\n",
              "            <td style=\"padding: 0 1em 0 0.5em; text-align: right; border: none;\">\n",
              "                0\n",
              "                \n",
              "                    &plusmn; 0.0000\n",
              "                \n",
              "            </td>\n",
              "            <td style=\"padding: 0 0.5em 0 0.5em; text-align: left; border: none;\">\n",
              "                month_starttime\n",
              "            </td>\n",
              "        </tr>\n",
              "    \n",
              "        <tr style=\"background-color: hsl(0, 100.00%, 100.00%); border: none;\">\n",
              "            <td style=\"padding: 0 1em 0 0.5em; text-align: right; border: none;\">\n",
              "                0\n",
              "                \n",
              "                    &plusmn; 0.0000\n",
              "                \n",
              "            </td>\n",
              "            <td style=\"padding: 0 0.5em 0 0.5em; text-align: left; border: none;\">\n",
              "                start_region_name\n",
              "            </td>\n",
              "        </tr>\n",
              "    \n",
              "    \n",
              "    </tbody>\n",
              "</table>\n",
              "    \n",
              "\n",
              "    \n",
              "\n",
              "\n",
              "    \n",
              "\n",
              "    \n",
              "\n",
              "    \n",
              "\n",
              "    \n",
              "\n",
              "    \n",
              "\n",
              "    \n",
              "\n",
              "\n",
              "\n"
            ],
            "text/plain": [
              "<IPython.core.display.HTML object>"
            ]
          },
          "metadata": {
            "tags": []
          },
          "execution_count": 22
        }
      ]
    },
    {
      "cell_type": "markdown",
      "metadata": {
        "id": "zwIqtMW5InkQ",
        "colab_type": "text"
      },
      "source": [
        "We can observe that no one feature clearly out weighs the others which helps us throw out data the hypothesis of data leakage. "
      ]
    },
    {
      "cell_type": "markdown",
      "metadata": {
        "id": "hU5_sYxwJ3Gn",
        "colab_type": "text"
      },
      "source": [
        "Applying Permutation Importances to Test Dataset"
      ]
    },
    {
      "cell_type": "code",
      "metadata": {
        "id": "6yXKoLUvbRbC",
        "colab_type": "code",
        "outputId": "36b7cfa2-0f9c-4249-b513-66edbbe607c9",
        "colab": {
          "base_uri": "https://localhost:8080/",
          "height": 151
        }
      },
      "source": [
        "\n",
        "\n",
        "permuter = PermutationImportance(\n",
        "    model, \n",
        "    scoring='accuracy',\n",
        "    n_iter=2,\n",
        "    random_state=32\n",
        ")\n",
        "\n",
        "permuter.fit(X_test_transformed, y_test)\n",
        "feature_names = X_test.columns.tolist()\n",
        "\n",
        "eli5.show_weights(\n",
        "    permuter,\n",
        "    top=None,\n",
        "    feature_names = feature_names\n",
        ")"
      ],
      "execution_count": 23,
      "outputs": [
        {
          "output_type": "execute_result",
          "data": {
            "text/html": [
              "\n",
              "    <style>\n",
              "    table.eli5-weights tr:hover {\n",
              "        filter: brightness(85%);\n",
              "    }\n",
              "</style>\n",
              "\n",
              "\n",
              "\n",
              "    \n",
              "\n",
              "    \n",
              "\n",
              "    \n",
              "\n",
              "    \n",
              "\n",
              "    \n",
              "\n",
              "    \n",
              "\n",
              "\n",
              "    \n",
              "\n",
              "    \n",
              "\n",
              "    \n",
              "\n",
              "    \n",
              "\n",
              "    \n",
              "\n",
              "    \n",
              "\n",
              "\n",
              "    \n",
              "\n",
              "    \n",
              "\n",
              "    \n",
              "\n",
              "    \n",
              "\n",
              "    \n",
              "        <table class=\"eli5-weights eli5-feature-importances\" style=\"border-collapse: collapse; border: none; margin-top: 0em; table-layout: auto;\">\n",
              "    <thead>\n",
              "    <tr style=\"border: none;\">\n",
              "        <th style=\"padding: 0 1em 0 0.5em; text-align: right; border: none;\">Weight</th>\n",
              "        <th style=\"padding: 0 0.5em 0 0.5em; text-align: left; border: none;\">Feature</th>\n",
              "    </tr>\n",
              "    </thead>\n",
              "    <tbody>\n",
              "    \n",
              "        <tr style=\"background-color: hsl(120, 100.00%, 80.00%); border: none;\">\n",
              "            <td style=\"padding: 0 1em 0 0.5em; text-align: right; border: none;\">\n",
              "                0.0074\n",
              "                \n",
              "                    &plusmn; 0.0000\n",
              "                \n",
              "            </td>\n",
              "            <td style=\"padding: 0 0.5em 0 0.5em; text-align: left; border: none;\">\n",
              "                start_station_id\n",
              "            </td>\n",
              "        </tr>\n",
              "    \n",
              "        <tr style=\"background-color: hsl(120, 100.00%, 92.56%); border: none;\">\n",
              "            <td style=\"padding: 0 1em 0 0.5em; text-align: right; border: none;\">\n",
              "                0.0018\n",
              "                \n",
              "                    &plusmn; 0.0001\n",
              "                \n",
              "            </td>\n",
              "            <td style=\"padding: 0 0.5em 0 0.5em; text-align: left; border: none;\">\n",
              "                hour_starttime\n",
              "            </td>\n",
              "        </tr>\n",
              "    \n",
              "        <tr style=\"background-color: hsl(120, 100.00%, 96.58%); border: none;\">\n",
              "            <td style=\"padding: 0 1em 0 0.5em; text-align: right; border: none;\">\n",
              "                0.0006\n",
              "                \n",
              "                    &plusmn; 0.0000\n",
              "                \n",
              "            </td>\n",
              "            <td style=\"padding: 0 0.5em 0 0.5em; text-align: left; border: none;\">\n",
              "                weekday_starttime\n",
              "            </td>\n",
              "        </tr>\n",
              "    \n",
              "        <tr style=\"background-color: hsl(120, 100.00%, 98.92%); border: none;\">\n",
              "            <td style=\"padding: 0 1em 0 0.5em; text-align: right; border: none;\">\n",
              "                0.0001\n",
              "                \n",
              "                    &plusmn; 0.0001\n",
              "                \n",
              "            </td>\n",
              "            <td style=\"padding: 0 0.5em 0 0.5em; text-align: left; border: none;\">\n",
              "                minutes_bin_start_time\n",
              "            </td>\n",
              "        </tr>\n",
              "    \n",
              "        <tr style=\"background-color: hsl(120, 100.00%, 99.14%); border: none;\">\n",
              "            <td style=\"padding: 0 1em 0 0.5em; text-align: right; border: none;\">\n",
              "                0.0001\n",
              "                \n",
              "                    &plusmn; 0.0000\n",
              "                \n",
              "            </td>\n",
              "            <td style=\"padding: 0 0.5em 0 0.5em; text-align: left; border: none;\">\n",
              "                day_starttime\n",
              "            </td>\n",
              "        </tr>\n",
              "    \n",
              "        <tr style=\"background-color: hsl(0, 100.00%, 100.00%); border: none;\">\n",
              "            <td style=\"padding: 0 1em 0 0.5em; text-align: right; border: none;\">\n",
              "                0\n",
              "                \n",
              "                    &plusmn; 0.0000\n",
              "                \n",
              "            </td>\n",
              "            <td style=\"padding: 0 0.5em 0 0.5em; text-align: left; border: none;\">\n",
              "                month_starttime\n",
              "            </td>\n",
              "        </tr>\n",
              "    \n",
              "        <tr style=\"background-color: hsl(0, 100.00%, 100.00%); border: none;\">\n",
              "            <td style=\"padding: 0 1em 0 0.5em; text-align: right; border: none;\">\n",
              "                0\n",
              "                \n",
              "                    &plusmn; 0.0000\n",
              "                \n",
              "            </td>\n",
              "            <td style=\"padding: 0 0.5em 0 0.5em; text-align: left; border: none;\">\n",
              "                start_region_name\n",
              "            </td>\n",
              "        </tr>\n",
              "    \n",
              "    \n",
              "    </tbody>\n",
              "</table>\n",
              "    \n",
              "\n",
              "    \n",
              "\n",
              "\n",
              "    \n",
              "\n",
              "    \n",
              "\n",
              "    \n",
              "\n",
              "    \n",
              "\n",
              "    \n",
              "\n",
              "    \n",
              "\n",
              "\n",
              "\n"
            ],
            "text/plain": [
              "<IPython.core.display.HTML object>"
            ]
          },
          "metadata": {
            "tags": []
          },
          "execution_count": 23
        }
      ]
    },
    {
      "cell_type": "markdown",
      "metadata": {
        "id": "clnglea-Vp0r",
        "colab_type": "text"
      },
      "source": [
        "#Predictive Modeling for End Data"
      ]
    },
    {
      "cell_type": "markdown",
      "metadata": {
        "id": "Uyh5j07aJ6mM",
        "colab_type": "text"
      },
      "source": [
        "## Creating the dataset for End Stations"
      ]
    },
    {
      "cell_type": "markdown",
      "metadata": {
        "colab_type": "text",
        "id": "WshD3kShSTSn"
      },
      "source": [
        "Creating High or Low Usage Levels"
      ]
    },
    {
      "cell_type": "markdown",
      "metadata": {
        "colab_type": "text",
        "id": "gSRDvO9pSduM"
      },
      "source": [
        "Assumption is that at a usage level higher than 25% per 15 minute increment would completely fill a station within an hour without any bikes being removed or starting at the station."
      ]
    },
    {
      "cell_type": "code",
      "metadata": {
        "id": "v-O9D4KTVthA",
        "colab_type": "code",
        "outputId": "711343cd-9102-42a2-b2e7-4f151b63a5f9",
        "colab": {
          "base_uri": "https://localhost:8080/",
          "height": 195
        }
      },
      "source": [
        "end_data =df3.groupby(['end_station_id','end_region_name','end_capacity','month_stoptime','day_stoptime','weekday_stoptime','hour_stoptime','minutes_bin_stop_time']).size().reset_index(name='rides')\n",
        "end_data=end_data[end_data['end_capacity']>0].copy()#getting rid of stations with no current capacity\n",
        "end_data['end_station_usage']=end_data['rides']/end_data['end_capacity']\n",
        "end_data['usage_level']=np.where(end_data['end_station_usage']>0.25,'High','Low')\n",
        "end_data=end_data.drop(columns=['rides','end_station_usage','end_capacity'])\n",
        "end_data.head()"
      ],
      "execution_count": 24,
      "outputs": [
        {
          "output_type": "execute_result",
          "data": {
            "text/html": [
              "<div>\n",
              "<style scoped>\n",
              "    .dataframe tbody tr th:only-of-type {\n",
              "        vertical-align: middle;\n",
              "    }\n",
              "\n",
              "    .dataframe tbody tr th {\n",
              "        vertical-align: top;\n",
              "    }\n",
              "\n",
              "    .dataframe thead th {\n",
              "        text-align: right;\n",
              "    }\n",
              "</style>\n",
              "<table border=\"1\" class=\"dataframe\">\n",
              "  <thead>\n",
              "    <tr style=\"text-align: right;\">\n",
              "      <th></th>\n",
              "      <th>end_station_id</th>\n",
              "      <th>end_region_name</th>\n",
              "      <th>month_stoptime</th>\n",
              "      <th>day_stoptime</th>\n",
              "      <th>weekday_stoptime</th>\n",
              "      <th>hour_stoptime</th>\n",
              "      <th>minutes_bin_stop_time</th>\n",
              "      <th>usage_level</th>\n",
              "    </tr>\n",
              "  </thead>\n",
              "  <tbody>\n",
              "    <tr>\n",
              "      <th>5722</th>\n",
              "      <td>79.0</td>\n",
              "      <td>NYC District</td>\n",
              "      <td>Aug</td>\n",
              "      <td>1</td>\n",
              "      <td>Thu</td>\n",
              "      <td>0</td>\n",
              "      <td>0</td>\n",
              "      <td>Low</td>\n",
              "    </tr>\n",
              "    <tr>\n",
              "      <th>5723</th>\n",
              "      <td>79.0</td>\n",
              "      <td>NYC District</td>\n",
              "      <td>Aug</td>\n",
              "      <td>1</td>\n",
              "      <td>Thu</td>\n",
              "      <td>4</td>\n",
              "      <td>0</td>\n",
              "      <td>Low</td>\n",
              "    </tr>\n",
              "    <tr>\n",
              "      <th>5724</th>\n",
              "      <td>79.0</td>\n",
              "      <td>NYC District</td>\n",
              "      <td>Aug</td>\n",
              "      <td>1</td>\n",
              "      <td>Thu</td>\n",
              "      <td>6</td>\n",
              "      <td>15</td>\n",
              "      <td>Low</td>\n",
              "    </tr>\n",
              "    <tr>\n",
              "      <th>5725</th>\n",
              "      <td>79.0</td>\n",
              "      <td>NYC District</td>\n",
              "      <td>Aug</td>\n",
              "      <td>1</td>\n",
              "      <td>Thu</td>\n",
              "      <td>7</td>\n",
              "      <td>0</td>\n",
              "      <td>Low</td>\n",
              "    </tr>\n",
              "    <tr>\n",
              "      <th>5726</th>\n",
              "      <td>79.0</td>\n",
              "      <td>NYC District</td>\n",
              "      <td>Aug</td>\n",
              "      <td>1</td>\n",
              "      <td>Thu</td>\n",
              "      <td>7</td>\n",
              "      <td>15</td>\n",
              "      <td>Low</td>\n",
              "    </tr>\n",
              "  </tbody>\n",
              "</table>\n",
              "</div>"
            ],
            "text/plain": [
              "      end_station_id end_region_name month_stoptime  day_stoptime  \\\n",
              "5722            79.0    NYC District            Aug             1   \n",
              "5723            79.0    NYC District            Aug             1   \n",
              "5724            79.0    NYC District            Aug             1   \n",
              "5725            79.0    NYC District            Aug             1   \n",
              "5726            79.0    NYC District            Aug             1   \n",
              "\n",
              "     weekday_stoptime  hour_stoptime  minutes_bin_stop_time usage_level  \n",
              "5722              Thu              0                      0         Low  \n",
              "5723              Thu              4                      0         Low  \n",
              "5724              Thu              6                     15         Low  \n",
              "5725              Thu              7                      0         Low  \n",
              "5726              Thu              7                     15         Low  "
            ]
          },
          "metadata": {
            "tags": []
          },
          "execution_count": 24
        }
      ]
    },
    {
      "cell_type": "markdown",
      "metadata": {
        "id": "pgjGdRzLHzUd",
        "colab_type": "text"
      },
      "source": [
        "Baseline of majority classifier for End Station Data"
      ]
    },
    {
      "cell_type": "code",
      "metadata": {
        "id": "0Th_NvAKHzHC",
        "colab_type": "code",
        "colab": {
          "base_uri": "https://localhost:8080/",
          "height": 67
        },
        "outputId": "83e554a1-be53-49a9-c343-fc9d9cefa4a7"
      },
      "source": [
        "end_data['usage_level'].value_counts(normalize=True)"
      ],
      "execution_count": 38,
      "outputs": [
        {
          "output_type": "execute_result",
          "data": {
            "text/plain": [
              "Low     0.972052\n",
              "High    0.027948\n",
              "Name: usage_level, dtype: float64"
            ]
          },
          "metadata": {
            "tags": []
          },
          "execution_count": 38
        }
      ]
    },
    {
      "cell_type": "markdown",
      "metadata": {
        "id": "vqTfKETjKjvK",
        "colab_type": "text"
      },
      "source": [
        "High level correctly occurs the same amount of time in both start and end stations."
      ]
    },
    {
      "cell_type": "markdown",
      "metadata": {
        "id": "OyFTMA0JKrpu",
        "colab_type": "text"
      },
      "source": [
        "## Splitting Data and Checking Dataset Shapes"
      ]
    },
    {
      "cell_type": "code",
      "metadata": {
        "id": "Gq6BpdSSWV6T",
        "colab_type": "code",
        "outputId": "8afb1c48-da52-4bb3-9c51-beecc26ac931",
        "colab": {
          "base_uri": "https://localhost:8080/",
          "height": 118
        }
      },
      "source": [
        "# Split train into train & val. Make val the same size as test.\n",
        "target = 'usage_level'\n",
        "#train, val = train_test_split(start_data,  stratify=start_data[target],train_size=0.75, test_size=0.25, random_state=32)\n",
        "train=end_data[end_data['month_stoptime']=='Jul']\n",
        "val=end_data[end_data['month_stoptime']=='Aug']\n",
        "test=end_data[end_data['month_stoptime']=='Sep']\n",
        "\n",
        "# Arrange data into X features matrix and y target vector\n",
        "X_train = train.drop(columns=target)\n",
        "y_train = train[target]\n",
        "X_val = val.drop(columns=target)\n",
        "y_val = val[target]\n",
        "X_test = test.drop(columns=target)\n",
        "y_test = test[target]\n",
        "\n",
        "#printing shapes\n",
        "print('X_train shape', X_train.shape)\n",
        "print('y_train shape', y_train.shape)\n",
        "print('X_val shape', X_val.shape)\n",
        "print('y_val shape', y_val.shape)\n",
        "print('X_test shape', X_test.shape)\n",
        "print('y_test shape', y_test.shape)"
      ],
      "execution_count": 25,
      "outputs": [
        {
          "output_type": "stream",
          "text": [
            "X_train shape (861320, 7)\n",
            "y_train shape (861320,)\n",
            "X_val shape (896354, 7)\n",
            "y_val shape (896354,)\n",
            "X_test shape (895083, 7)\n",
            "y_test shape (895083,)\n"
          ],
          "name": "stdout"
        }
      ]
    },
    {
      "cell_type": "markdown",
      "metadata": {
        "id": "LPRjaUsKK6zY",
        "colab_type": "text"
      },
      "source": [
        "## Pipeline with encoding, applying model and calculating Accuracy and ROC AUC"
      ]
    },
    {
      "cell_type": "code",
      "metadata": {
        "id": "ivB8MHOuWqAh",
        "colab_type": "code",
        "outputId": "8cb9cd7f-e176-4f39-f2fd-efe2a3712fdc",
        "colab": {
          "base_uri": "https://localhost:8080/",
          "height": 84
        }
      },
      "source": [
        "%%time\n",
        "\n",
        "transformers = make_pipeline(\n",
        "    ce.OrdinalEncoder(),\n",
        "   # SimpleImputer(strategy='median')\n",
        ")\n",
        "\n",
        "X_train_transformed = transformers.fit_transform(X_train)\n",
        "X_val_transformed = transformers.fit_transform(X_val)\n",
        "X_test_transformed = transformers.fit_transform(X_test)\n",
        "\n",
        "model = RandomForestClassifier(n_estimators=100, max_depth=25, min_samples_leaf=3, \n",
        "                            random_state=32, n_jobs=-1)\n",
        "model.fit(X_train_transformed, y_train)\n",
        "\n",
        "#validation Accuracy\n",
        "y_pred = model.predict(X_val_transformed)\n",
        "print ('Validation Accuracy', accuracy_score(y_val, y_pred))\n",
        "\n",
        "#Validation ROC AUC\n",
        "y_pred_proba = model.predict_proba(X_val_transformed)[:, 1]\n",
        "print('Val ROC AUC:', roc_auc_score(y_val, y_pred_proba))"
      ],
      "execution_count": 26,
      "outputs": [
        {
          "output_type": "stream",
          "text": [
            "Validation Accuracy 0.9750556141881445\n",
            "Val ROC AUC: 0.8717793973430028\n",
            "CPU times: user 2min 29s, sys: 443 ms, total: 2min 29s\n",
            "Wall time: 44.9 s\n"
          ],
          "name": "stdout"
        }
      ]
    },
    {
      "cell_type": "markdown",
      "metadata": {
        "id": "70qWVQEkLFD1",
        "colab_type": "text"
      },
      "source": [
        "Validation accuracy is slightly higher than the majority class classifier."
      ]
    },
    {
      "cell_type": "markdown",
      "metadata": {
        "id": "EHVS2l-gMW6n",
        "colab_type": "text"
      },
      "source": [
        "Accuracy score if very high, are we experiencing data leakage? "
      ]
    },
    {
      "cell_type": "code",
      "metadata": {
        "id": "k5Rj5YvDbhlS",
        "colab_type": "code",
        "outputId": "025e8023-4fda-4709-aac4-8c29fc9b6d19",
        "colab": {
          "base_uri": "https://localhost:8080/",
          "height": 50
        }
      },
      "source": [
        "#validation Accuracy\n",
        "y_pred = model.predict(X_test_transformed)\n",
        "print ('Test Accuracy', accuracy_score(y_test, y_pred))\n",
        "\n",
        "#Validation ROC AUC\n",
        "y_pred_proba = model.predict_proba(X_test_transformed)[:, 1]\n",
        "print('Test ROC AUC:', roc_auc_score(y_test, y_pred_proba))"
      ],
      "execution_count": 27,
      "outputs": [
        {
          "output_type": "stream",
          "text": [
            "Test Accuracy 0.9689213179112999\n",
            "Test ROC AUC: 0.8464922684303199\n"
          ],
          "name": "stdout"
        }
      ]
    },
    {
      "cell_type": "markdown",
      "metadata": {
        "colab_type": "text",
        "id": "biLyB6VxLS8A"
      },
      "source": [
        "Test accuracy is very close to the majority class classifier."
      ]
    },
    {
      "cell_type": "markdown",
      "metadata": {
        "id": "TaBuuRpyL58h",
        "colab_type": "text"
      },
      "source": [
        "# Permutation Importances"
      ]
    },
    {
      "cell_type": "markdown",
      "metadata": {
        "colab_type": "text",
        "id": "b2V1QkUYMGvd"
      },
      "source": [
        "Applying Permutation Importances in order to see if the high validation scores are correlated to any data leakage in case any of the features outweigh the other features in the model."
      ]
    },
    {
      "cell_type": "code",
      "metadata": {
        "id": "Dnu_3qZSWsFT",
        "colab_type": "code",
        "outputId": "bdbf8f1a-8755-4170-e4cb-e58f1b19725c",
        "colab": {
          "base_uri": "https://localhost:8080/",
          "height": 151
        }
      },
      "source": [
        "\n",
        "\n",
        "permuter = PermutationImportance(\n",
        "    model, \n",
        "    scoring='accuracy',\n",
        "    n_iter=2,\n",
        "    random_state=32\n",
        ")\n",
        "\n",
        "permuter.fit(X_val_transformed, y_val)\n",
        "feature_names = X_val.columns.tolist()\n",
        "\n",
        "eli5.show_weights(\n",
        "    permuter,\n",
        "    top=None,\n",
        "    feature_names = feature_names\n",
        ")\n"
      ],
      "execution_count": 28,
      "outputs": [
        {
          "output_type": "execute_result",
          "data": {
            "text/html": [
              "\n",
              "    <style>\n",
              "    table.eli5-weights tr:hover {\n",
              "        filter: brightness(85%);\n",
              "    }\n",
              "</style>\n",
              "\n",
              "\n",
              "\n",
              "    \n",
              "\n",
              "    \n",
              "\n",
              "    \n",
              "\n",
              "    \n",
              "\n",
              "    \n",
              "\n",
              "    \n",
              "\n",
              "\n",
              "    \n",
              "\n",
              "    \n",
              "\n",
              "    \n",
              "\n",
              "    \n",
              "\n",
              "    \n",
              "\n",
              "    \n",
              "\n",
              "\n",
              "    \n",
              "\n",
              "    \n",
              "\n",
              "    \n",
              "\n",
              "    \n",
              "\n",
              "    \n",
              "        <table class=\"eli5-weights eli5-feature-importances\" style=\"border-collapse: collapse; border: none; margin-top: 0em; table-layout: auto;\">\n",
              "    <thead>\n",
              "    <tr style=\"border: none;\">\n",
              "        <th style=\"padding: 0 1em 0 0.5em; text-align: right; border: none;\">Weight</th>\n",
              "        <th style=\"padding: 0 0.5em 0 0.5em; text-align: left; border: none;\">Feature</th>\n",
              "    </tr>\n",
              "    </thead>\n",
              "    <tbody>\n",
              "    \n",
              "        <tr style=\"background-color: hsl(120, 100.00%, 80.00%); border: none;\">\n",
              "            <td style=\"padding: 0 1em 0 0.5em; text-align: right; border: none;\">\n",
              "                0.0058\n",
              "                \n",
              "                    &plusmn; 0.0001\n",
              "                \n",
              "            </td>\n",
              "            <td style=\"padding: 0 0.5em 0 0.5em; text-align: left; border: none;\">\n",
              "                end_station_id\n",
              "            </td>\n",
              "        </tr>\n",
              "    \n",
              "        <tr style=\"background-color: hsl(120, 100.00%, 95.17%); border: none;\">\n",
              "            <td style=\"padding: 0 1em 0 0.5em; text-align: right; border: none;\">\n",
              "                0.0008\n",
              "                \n",
              "                    &plusmn; 0.0000\n",
              "                \n",
              "            </td>\n",
              "            <td style=\"padding: 0 0.5em 0 0.5em; text-align: left; border: none;\">\n",
              "                hour_stoptime\n",
              "            </td>\n",
              "        </tr>\n",
              "    \n",
              "        <tr style=\"background-color: hsl(120, 100.00%, 97.70%); border: none;\">\n",
              "            <td style=\"padding: 0 1em 0 0.5em; text-align: right; border: none;\">\n",
              "                0.0003\n",
              "                \n",
              "                    &plusmn; 0.0000\n",
              "                \n",
              "            </td>\n",
              "            <td style=\"padding: 0 0.5em 0 0.5em; text-align: left; border: none;\">\n",
              "                weekday_stoptime\n",
              "            </td>\n",
              "        </tr>\n",
              "    \n",
              "        <tr style=\"background-color: hsl(120, 100.00%, 99.24%); border: none;\">\n",
              "            <td style=\"padding: 0 1em 0 0.5em; text-align: right; border: none;\">\n",
              "                0.0001\n",
              "                \n",
              "                    &plusmn; 0.0000\n",
              "                \n",
              "            </td>\n",
              "            <td style=\"padding: 0 0.5em 0 0.5em; text-align: left; border: none;\">\n",
              "                minutes_bin_stop_time\n",
              "            </td>\n",
              "        </tr>\n",
              "    \n",
              "        <tr style=\"background-color: hsl(0, 100.00%, 100.00%); border: none;\">\n",
              "            <td style=\"padding: 0 1em 0 0.5em; text-align: right; border: none;\">\n",
              "                0\n",
              "                \n",
              "                    &plusmn; 0.0000\n",
              "                \n",
              "            </td>\n",
              "            <td style=\"padding: 0 0.5em 0 0.5em; text-align: left; border: none;\">\n",
              "                month_stoptime\n",
              "            </td>\n",
              "        </tr>\n",
              "    \n",
              "        <tr style=\"background-color: hsl(0, 100.00%, 100.00%); border: none;\">\n",
              "            <td style=\"padding: 0 1em 0 0.5em; text-align: right; border: none;\">\n",
              "                0\n",
              "                \n",
              "                    &plusmn; 0.0000\n",
              "                \n",
              "            </td>\n",
              "            <td style=\"padding: 0 0.5em 0 0.5em; text-align: left; border: none;\">\n",
              "                end_region_name\n",
              "            </td>\n",
              "        </tr>\n",
              "    \n",
              "        <tr style=\"background-color: hsl(0, 100.00%, 99.77%); border: none;\">\n",
              "            <td style=\"padding: 0 1em 0 0.5em; text-align: right; border: none;\">\n",
              "                -0.0000\n",
              "                \n",
              "                    &plusmn; 0.0000\n",
              "                \n",
              "            </td>\n",
              "            <td style=\"padding: 0 0.5em 0 0.5em; text-align: left; border: none;\">\n",
              "                day_stoptime\n",
              "            </td>\n",
              "        </tr>\n",
              "    \n",
              "    \n",
              "    </tbody>\n",
              "</table>\n",
              "    \n",
              "\n",
              "    \n",
              "\n",
              "\n",
              "    \n",
              "\n",
              "    \n",
              "\n",
              "    \n",
              "\n",
              "    \n",
              "\n",
              "    \n",
              "\n",
              "    \n",
              "\n",
              "\n",
              "\n"
            ],
            "text/plain": [
              "<IPython.core.display.HTML object>"
            ]
          },
          "metadata": {
            "tags": []
          },
          "execution_count": 28
        }
      ]
    },
    {
      "cell_type": "markdown",
      "metadata": {
        "id": "NzDLeNyHMIh0",
        "colab_type": "text"
      },
      "source": [
        "We again observe that no one feature out weighs the other features. We can therefore discard the hypothesis of dataleakage."
      ]
    },
    {
      "cell_type": "code",
      "metadata": {
        "id": "6duwytG5bmkd",
        "colab_type": "code",
        "outputId": "7d5d07b8-bee0-48db-d16c-436f1e572dc6",
        "colab": {
          "base_uri": "https://localhost:8080/",
          "height": 151
        }
      },
      "source": [
        "\n",
        "\n",
        "permuter = PermutationImportance(\n",
        "    model, \n",
        "    scoring='accuracy',\n",
        "    n_iter=2,\n",
        "    random_state=32\n",
        ")\n",
        "\n",
        "permuter.fit(X_test_transformed, y_test)\n",
        "feature_names = X_test.columns.tolist()\n",
        "\n",
        "eli5.show_weights(\n",
        "    permuter,\n",
        "    top=None,\n",
        "    feature_names = feature_names\n",
        ")"
      ],
      "execution_count": 29,
      "outputs": [
        {
          "output_type": "execute_result",
          "data": {
            "text/html": [
              "\n",
              "    <style>\n",
              "    table.eli5-weights tr:hover {\n",
              "        filter: brightness(85%);\n",
              "    }\n",
              "</style>\n",
              "\n",
              "\n",
              "\n",
              "    \n",
              "\n",
              "    \n",
              "\n",
              "    \n",
              "\n",
              "    \n",
              "\n",
              "    \n",
              "\n",
              "    \n",
              "\n",
              "\n",
              "    \n",
              "\n",
              "    \n",
              "\n",
              "    \n",
              "\n",
              "    \n",
              "\n",
              "    \n",
              "\n",
              "    \n",
              "\n",
              "\n",
              "    \n",
              "\n",
              "    \n",
              "\n",
              "    \n",
              "\n",
              "    \n",
              "\n",
              "    \n",
              "        <table class=\"eli5-weights eli5-feature-importances\" style=\"border-collapse: collapse; border: none; margin-top: 0em; table-layout: auto;\">\n",
              "    <thead>\n",
              "    <tr style=\"border: none;\">\n",
              "        <th style=\"padding: 0 1em 0 0.5em; text-align: right; border: none;\">Weight</th>\n",
              "        <th style=\"padding: 0 0.5em 0 0.5em; text-align: left; border: none;\">Feature</th>\n",
              "    </tr>\n",
              "    </thead>\n",
              "    <tbody>\n",
              "    \n",
              "        <tr style=\"background-color: hsl(120, 100.00%, 80.00%); border: none;\">\n",
              "            <td style=\"padding: 0 1em 0 0.5em; text-align: right; border: none;\">\n",
              "                0.0061\n",
              "                \n",
              "                    &plusmn; 0.0000\n",
              "                \n",
              "            </td>\n",
              "            <td style=\"padding: 0 0.5em 0 0.5em; text-align: left; border: none;\">\n",
              "                end_station_id\n",
              "            </td>\n",
              "        </tr>\n",
              "    \n",
              "        <tr style=\"background-color: hsl(120, 100.00%, 94.51%); border: none;\">\n",
              "            <td style=\"padding: 0 1em 0 0.5em; text-align: right; border: none;\">\n",
              "                0.0010\n",
              "                \n",
              "                    &plusmn; 0.0001\n",
              "                \n",
              "            </td>\n",
              "            <td style=\"padding: 0 0.5em 0 0.5em; text-align: left; border: none;\">\n",
              "                hour_stoptime\n",
              "            </td>\n",
              "        </tr>\n",
              "    \n",
              "        <tr style=\"background-color: hsl(120, 100.00%, 97.61%); border: none;\">\n",
              "            <td style=\"padding: 0 1em 0 0.5em; text-align: right; border: none;\">\n",
              "                0.0003\n",
              "                \n",
              "                    &plusmn; 0.0001\n",
              "                \n",
              "            </td>\n",
              "            <td style=\"padding: 0 0.5em 0 0.5em; text-align: left; border: none;\">\n",
              "                weekday_stoptime\n",
              "            </td>\n",
              "        </tr>\n",
              "    \n",
              "        <tr style=\"background-color: hsl(120, 100.00%, 98.94%); border: none;\">\n",
              "            <td style=\"padding: 0 1em 0 0.5em; text-align: right; border: none;\">\n",
              "                0.0001\n",
              "                \n",
              "                    &plusmn; 0.0000\n",
              "                \n",
              "            </td>\n",
              "            <td style=\"padding: 0 0.5em 0 0.5em; text-align: left; border: none;\">\n",
              "                minutes_bin_stop_time\n",
              "            </td>\n",
              "        </tr>\n",
              "    \n",
              "        <tr style=\"background-color: hsl(120, 100.00%, 99.40%); border: none;\">\n",
              "            <td style=\"padding: 0 1em 0 0.5em; text-align: right; border: none;\">\n",
              "                0.0000\n",
              "                \n",
              "                    &plusmn; 0.0000\n",
              "                \n",
              "            </td>\n",
              "            <td style=\"padding: 0 0.5em 0 0.5em; text-align: left; border: none;\">\n",
              "                day_stoptime\n",
              "            </td>\n",
              "        </tr>\n",
              "    \n",
              "        <tr style=\"background-color: hsl(0, 100.00%, 100.00%); border: none;\">\n",
              "            <td style=\"padding: 0 1em 0 0.5em; text-align: right; border: none;\">\n",
              "                0\n",
              "                \n",
              "                    &plusmn; 0.0000\n",
              "                \n",
              "            </td>\n",
              "            <td style=\"padding: 0 0.5em 0 0.5em; text-align: left; border: none;\">\n",
              "                month_stoptime\n",
              "            </td>\n",
              "        </tr>\n",
              "    \n",
              "        <tr style=\"background-color: hsl(0, 100.00%, 100.00%); border: none;\">\n",
              "            <td style=\"padding: 0 1em 0 0.5em; text-align: right; border: none;\">\n",
              "                0\n",
              "                \n",
              "                    &plusmn; 0.0000\n",
              "                \n",
              "            </td>\n",
              "            <td style=\"padding: 0 0.5em 0 0.5em; text-align: left; border: none;\">\n",
              "                end_region_name\n",
              "            </td>\n",
              "        </tr>\n",
              "    \n",
              "    \n",
              "    </tbody>\n",
              "</table>\n",
              "    \n",
              "\n",
              "    \n",
              "\n",
              "\n",
              "    \n",
              "\n",
              "    \n",
              "\n",
              "    \n",
              "\n",
              "    \n",
              "\n",
              "    \n",
              "\n",
              "    \n",
              "\n",
              "\n",
              "\n"
            ],
            "text/plain": [
              "<IPython.core.display.HTML object>"
            ]
          },
          "metadata": {
            "tags": []
          },
          "execution_count": 29
        }
      ]
    },
    {
      "cell_type": "markdown",
      "metadata": {
        "id": "-eKioM-VaplK",
        "colab_type": "text"
      },
      "source": [
        "Seems like Stations and not regions dictate the bike traffic."
      ]
    },
    {
      "cell_type": "markdown",
      "metadata": {
        "id": "_akTvDtmdW1a",
        "colab_type": "text"
      },
      "source": [
        "# Further Data Exploration and Discovery"
      ]
    },
    {
      "cell_type": "markdown",
      "metadata": {
        "id": "BpPR5CB8ayA1",
        "colab_type": "text"
      },
      "source": [
        "Further exploring into morning commute trips and distance of these trips."
      ]
    },
    {
      "cell_type": "code",
      "metadata": {
        "id": "T0OK0wTimIyo",
        "colab_type": "code",
        "outputId": "a0ad5666-d513-4427-ab93-af958fdd7f37",
        "colab": {
          "base_uri": "https://localhost:8080/",
          "height": 266
        }
      },
      "source": [
        "#dataset header\n",
        "df3.head()"
      ],
      "execution_count": 30,
      "outputs": [
        {
          "output_type": "execute_result",
          "data": {
            "text/html": [
              "<div>\n",
              "<style scoped>\n",
              "    .dataframe tbody tr th:only-of-type {\n",
              "        vertical-align: middle;\n",
              "    }\n",
              "\n",
              "    .dataframe tbody tr th {\n",
              "        vertical-align: top;\n",
              "    }\n",
              "\n",
              "    .dataframe thead th {\n",
              "        text-align: right;\n",
              "    }\n",
              "</style>\n",
              "<table border=\"1\" class=\"dataframe\">\n",
              "  <thead>\n",
              "    <tr style=\"text-align: right;\">\n",
              "      <th></th>\n",
              "      <th>tripduration</th>\n",
              "      <th>start_station_id</th>\n",
              "      <th>start_station_name</th>\n",
              "      <th>start_station_latitude</th>\n",
              "      <th>start_station_longitude</th>\n",
              "      <th>end_station_id</th>\n",
              "      <th>end_station_name</th>\n",
              "      <th>end_station_latitude</th>\n",
              "      <th>end_station_longitude</th>\n",
              "      <th>bikeid</th>\n",
              "      <th>usertype</th>\n",
              "      <th>birth_year</th>\n",
              "      <th>gender</th>\n",
              "      <th>month_starttime</th>\n",
              "      <th>day_starttime</th>\n",
              "      <th>weekday_starttime</th>\n",
              "      <th>hour_starttime</th>\n",
              "      <th>minutes_starttime</th>\n",
              "      <th>month_stoptime</th>\n",
              "      <th>day_stoptime</th>\n",
              "      <th>weekday_stoptime</th>\n",
              "      <th>hour_stoptime</th>\n",
              "      <th>minutes_stoptime</th>\n",
              "      <th>determinant</th>\n",
              "      <th>minutes_bin_start_time</th>\n",
              "      <th>minutes_bin_stop_time</th>\n",
              "      <th>start_capacity</th>\n",
              "      <th>start_region_id</th>\n",
              "      <th>start_region_name</th>\n",
              "      <th>end_capacity</th>\n",
              "      <th>end_region_id</th>\n",
              "      <th>end_region_name</th>\n",
              "    </tr>\n",
              "  </thead>\n",
              "  <tbody>\n",
              "    <tr>\n",
              "      <th>0</th>\n",
              "      <td>897</td>\n",
              "      <td>493.0</td>\n",
              "      <td>W 45 St &amp; 6 Ave</td>\n",
              "      <td>40.756800</td>\n",
              "      <td>-73.982912</td>\n",
              "      <td>454.0</td>\n",
              "      <td>E 51 St &amp; 1 Ave</td>\n",
              "      <td>40.754557</td>\n",
              "      <td>-73.965930</td>\n",
              "      <td>18340</td>\n",
              "      <td>Subscriber</td>\n",
              "      <td>1966</td>\n",
              "      <td>1</td>\n",
              "      <td>Jul</td>\n",
              "      <td>1</td>\n",
              "      <td>Mon</td>\n",
              "      <td>0</td>\n",
              "      <td>0</td>\n",
              "      <td>Jul</td>\n",
              "      <td>1</td>\n",
              "      <td>Mon</td>\n",
              "      <td>0</td>\n",
              "      <td>14</td>\n",
              "      <td>0.019225</td>\n",
              "      <td>0</td>\n",
              "      <td>0</td>\n",
              "      <td>34.0</td>\n",
              "      <td>71.0</td>\n",
              "      <td>NYC District</td>\n",
              "      <td>35.0</td>\n",
              "      <td>71.0</td>\n",
              "      <td>NYC District</td>\n",
              "    </tr>\n",
              "    <tr>\n",
              "      <th>1</th>\n",
              "      <td>267</td>\n",
              "      <td>3143.0</td>\n",
              "      <td>5 Ave &amp; E 78 St</td>\n",
              "      <td>40.776321</td>\n",
              "      <td>-73.964274</td>\n",
              "      <td>3226.0</td>\n",
              "      <td>W 82 St &amp; Central Park West</td>\n",
              "      <td>40.782750</td>\n",
              "      <td>-73.971370</td>\n",
              "      <td>21458</td>\n",
              "      <td>Customer</td>\n",
              "      <td>1996</td>\n",
              "      <td>1</td>\n",
              "      <td>Jul</td>\n",
              "      <td>1</td>\n",
              "      <td>Mon</td>\n",
              "      <td>0</td>\n",
              "      <td>0</td>\n",
              "      <td>Jul</td>\n",
              "      <td>1</td>\n",
              "      <td>Mon</td>\n",
              "      <td>0</td>\n",
              "      <td>4</td>\n",
              "      <td>0.013525</td>\n",
              "      <td>0</td>\n",
              "      <td>0</td>\n",
              "      <td>47.0</td>\n",
              "      <td>71.0</td>\n",
              "      <td>NYC District</td>\n",
              "      <td>NaN</td>\n",
              "      <td>NaN</td>\n",
              "      <td>NaN</td>\n",
              "    </tr>\n",
              "    <tr>\n",
              "      <th>2</th>\n",
              "      <td>2201</td>\n",
              "      <td>317.0</td>\n",
              "      <td>E 6 St &amp; Avenue B</td>\n",
              "      <td>40.724537</td>\n",
              "      <td>-73.981854</td>\n",
              "      <td>3469.0</td>\n",
              "      <td>India St &amp; West St</td>\n",
              "      <td>40.731814</td>\n",
              "      <td>-73.959950</td>\n",
              "      <td>39874</td>\n",
              "      <td>Subscriber</td>\n",
              "      <td>1986</td>\n",
              "      <td>1</td>\n",
              "      <td>Jul</td>\n",
              "      <td>1</td>\n",
              "      <td>Mon</td>\n",
              "      <td>0</td>\n",
              "      <td>0</td>\n",
              "      <td>Jul</td>\n",
              "      <td>1</td>\n",
              "      <td>Mon</td>\n",
              "      <td>0</td>\n",
              "      <td>36</td>\n",
              "      <td>0.029181</td>\n",
              "      <td>0</td>\n",
              "      <td>30</td>\n",
              "      <td>54.0</td>\n",
              "      <td>71.0</td>\n",
              "      <td>NYC District</td>\n",
              "      <td>23.0</td>\n",
              "      <td>71.0</td>\n",
              "      <td>NYC District</td>\n",
              "    </tr>\n",
              "    <tr>\n",
              "      <th>3</th>\n",
              "      <td>1660</td>\n",
              "      <td>249.0</td>\n",
              "      <td>Harrison St &amp; Hudson St</td>\n",
              "      <td>40.718710</td>\n",
              "      <td>-74.009001</td>\n",
              "      <td>369.0</td>\n",
              "      <td>Washington Pl &amp; 6 Ave</td>\n",
              "      <td>40.732241</td>\n",
              "      <td>-74.000264</td>\n",
              "      <td>38865</td>\n",
              "      <td>Subscriber</td>\n",
              "      <td>1988</td>\n",
              "      <td>1</td>\n",
              "      <td>Jul</td>\n",
              "      <td>1</td>\n",
              "      <td>Mon</td>\n",
              "      <td>0</td>\n",
              "      <td>0</td>\n",
              "      <td>Jul</td>\n",
              "      <td>1</td>\n",
              "      <td>Mon</td>\n",
              "      <td>0</td>\n",
              "      <td>27</td>\n",
              "      <td>0.022268</td>\n",
              "      <td>0</td>\n",
              "      <td>15</td>\n",
              "      <td>27.0</td>\n",
              "      <td>71.0</td>\n",
              "      <td>NYC District</td>\n",
              "      <td>21.0</td>\n",
              "      <td>71.0</td>\n",
              "      <td>NYC District</td>\n",
              "    </tr>\n",
              "    <tr>\n",
              "      <th>4</th>\n",
              "      <td>109</td>\n",
              "      <td>3552.0</td>\n",
              "      <td>W 113 St &amp; Broadway</td>\n",
              "      <td>40.805973</td>\n",
              "      <td>-73.964928</td>\n",
              "      <td>3538.0</td>\n",
              "      <td>W 110 St &amp; Amsterdam Ave</td>\n",
              "      <td>40.802692</td>\n",
              "      <td>-73.962950</td>\n",
              "      <td>30256</td>\n",
              "      <td>Subscriber</td>\n",
              "      <td>1997</td>\n",
              "      <td>1</td>\n",
              "      <td>Jul</td>\n",
              "      <td>1</td>\n",
              "      <td>Mon</td>\n",
              "      <td>0</td>\n",
              "      <td>0</td>\n",
              "      <td>Jul</td>\n",
              "      <td>1</td>\n",
              "      <td>Mon</td>\n",
              "      <td>0</td>\n",
              "      <td>2</td>\n",
              "      <td>0.005259</td>\n",
              "      <td>0</td>\n",
              "      <td>0</td>\n",
              "      <td>39.0</td>\n",
              "      <td>71.0</td>\n",
              "      <td>NYC District</td>\n",
              "      <td>45.0</td>\n",
              "      <td>71.0</td>\n",
              "      <td>NYC District</td>\n",
              "    </tr>\n",
              "  </tbody>\n",
              "</table>\n",
              "</div>"
            ],
            "text/plain": [
              "   tripduration  start_station_id       start_station_name  \\\n",
              "0           897             493.0          W 45 St & 6 Ave   \n",
              "1           267            3143.0          5 Ave & E 78 St   \n",
              "2          2201             317.0        E 6 St & Avenue B   \n",
              "3          1660             249.0  Harrison St & Hudson St   \n",
              "4           109            3552.0      W 113 St & Broadway   \n",
              "\n",
              "   start_station_latitude  start_station_longitude  end_station_id  \\\n",
              "0               40.756800               -73.982912           454.0   \n",
              "1               40.776321               -73.964274          3226.0   \n",
              "2               40.724537               -73.981854          3469.0   \n",
              "3               40.718710               -74.009001           369.0   \n",
              "4               40.805973               -73.964928          3538.0   \n",
              "\n",
              "              end_station_name  end_station_latitude  end_station_longitude  \\\n",
              "0              E 51 St & 1 Ave             40.754557             -73.965930   \n",
              "1  W 82 St & Central Park West             40.782750             -73.971370   \n",
              "2           India St & West St             40.731814             -73.959950   \n",
              "3        Washington Pl & 6 Ave             40.732241             -74.000264   \n",
              "4     W 110 St & Amsterdam Ave             40.802692             -73.962950   \n",
              "\n",
              "   bikeid    usertype  birth_year  gender month_starttime  day_starttime  \\\n",
              "0   18340  Subscriber        1966       1             Jul              1   \n",
              "1   21458    Customer        1996       1             Jul              1   \n",
              "2   39874  Subscriber        1986       1             Jul              1   \n",
              "3   38865  Subscriber        1988       1             Jul              1   \n",
              "4   30256  Subscriber        1997       1             Jul              1   \n",
              "\n",
              "  weekday_starttime  hour_starttime  minutes_starttime month_stoptime  \\\n",
              "0               Mon               0                  0            Jul   \n",
              "1               Mon               0                  0            Jul   \n",
              "2               Mon               0                  0            Jul   \n",
              "3               Mon               0                  0            Jul   \n",
              "4               Mon               0                  0            Jul   \n",
              "\n",
              "   day_stoptime weekday_stoptime  hour_stoptime  minutes_stoptime  \\\n",
              "0             1              Mon              0                14   \n",
              "1             1              Mon              0                 4   \n",
              "2             1              Mon              0                36   \n",
              "3             1              Mon              0                27   \n",
              "4             1              Mon              0                 2   \n",
              "\n",
              "   determinant  minutes_bin_start_time  minutes_bin_stop_time  start_capacity  \\\n",
              "0     0.019225                       0                      0            34.0   \n",
              "1     0.013525                       0                      0            47.0   \n",
              "2     0.029181                       0                     30            54.0   \n",
              "3     0.022268                       0                     15            27.0   \n",
              "4     0.005259                       0                      0            39.0   \n",
              "\n",
              "   start_region_id start_region_name  end_capacity  end_region_id  \\\n",
              "0             71.0      NYC District          35.0           71.0   \n",
              "1             71.0      NYC District           NaN            NaN   \n",
              "2             71.0      NYC District          23.0           71.0   \n",
              "3             71.0      NYC District          21.0           71.0   \n",
              "4             71.0      NYC District          45.0           71.0   \n",
              "\n",
              "  end_region_name  \n",
              "0    NYC District  \n",
              "1             NaN  \n",
              "2    NYC District  \n",
              "3    NYC District  \n",
              "4    NYC District  "
            ]
          },
          "metadata": {
            "tags": []
          },
          "execution_count": 30
        }
      ]
    },
    {
      "cell_type": "markdown",
      "metadata": {
        "id": "Z1-GNNpANMDk",
        "colab_type": "text"
      },
      "source": [
        "# Commute Trips"
      ]
    },
    {
      "cell_type": "markdown",
      "metadata": {
        "id": "VK3p-AeVOwFo",
        "colab_type": "text"
      },
      "source": [
        "Creating a dataset for trips during morning commute times of 6 to 10 AM and selecting top 30 trips."
      ]
    },
    {
      "cell_type": "code",
      "metadata": {
        "id": "ym3SN_uxcuXH",
        "colab_type": "code",
        "colab": {}
      },
      "source": [
        "df4=df3[df3['hour_starttime']>5]\n",
        "df4=df4[df4['hour_starttime']<11]\n",
        "\n",
        "df4.head()\n",
        "trip_data_commute =df4.groupby(['start_station_name','end_station_name','start_station_latitude','start_station_longitude','end_station_latitude','end_station_longitude']).size().reset_index(name='total_rides')\n",
        "trip_data_commute_s=trip_data_commute.sort_values(by = 'total_rides',ascending=False).head(30)"
      ],
      "execution_count": 0,
      "outputs": []
    },
    {
      "cell_type": "markdown",
      "metadata": {
        "id": "AXby1XDXO-5r",
        "colab_type": "text"
      },
      "source": [
        "Graphing on Plotly the Start Stations of Top 30 Commute Trips"
      ]
    },
    {
      "cell_type": "code",
      "metadata": {
        "id": "E2AbSnw5dSfR",
        "colab_type": "code",
        "outputId": "0b8f2e30-99ae-431f-923a-97ac5670f3fe",
        "colab": {
          "base_uri": "https://localhost:8080/",
          "height": 517
        }
      },
      "source": [
        "token ='pk.eyJ1IjoiYWxhc3RyYTMyIiwiYSI6ImNrMjNpem1lbzI1eTYzbWwyMXJjNXZyZzYifQ.G6fW1N9gmG-PF4HJm-9BDw'\n",
        "fig = px.scatter_mapbox(trip_data_commute_s, lat=\"start_station_latitude\", lon=\"start_station_longitude\", hover_name=\"start_station_name\", hover_data=[\"total_rides\"], color_discrete_sequence=[\"lightgreen\"], zoom=12, height=500)\n",
        "fig.update_layout(mapbox_style=\"dark\", mapbox_accesstoken=token)\n",
        "fig.update_layout(margin={\"r\":0,\"t\":0,\"l\":0,\"b\":0})\n",
        "fig.show()"
      ],
      "execution_count": 34,
      "outputs": [
        {
          "output_type": "display_data",
          "data": {
            "text/html": [
              "<html>\n",
              "<head><meta charset=\"utf-8\" /></head>\n",
              "<body>\n",
              "    <div>\n",
              "            <script src=\"https://cdnjs.cloudflare.com/ajax/libs/mathjax/2.7.5/MathJax.js?config=TeX-AMS-MML_SVG\"></script><script type=\"text/javascript\">if (window.MathJax) {MathJax.Hub.Config({SVG: {font: \"STIX-Web\"}});}</script>\n",
              "                <script type=\"text/javascript\">window.PlotlyConfig = {MathJaxConfig: 'local'};</script>\n",
              "        <script src=\"https://cdn.plot.ly/plotly-latest.min.js\"></script>    \n",
              "            <div id=\"4adbd42c-db0a-41c1-9334-1667ae1b9b2e\" class=\"plotly-graph-div\" style=\"height:500px; width:100%;\"></div>\n",
              "            <script type=\"text/javascript\">\n",
              "                \n",
              "                    window.PLOTLYENV=window.PLOTLYENV || {};\n",
              "                    \n",
              "                if (document.getElementById(\"4adbd42c-db0a-41c1-9334-1667ae1b9b2e\")) {\n",
              "                    Plotly.newPlot(\n",
              "                        '4adbd42c-db0a-41c1-9334-1667ae1b9b2e',\n",
              "                        [{\"customdata\": [[1510], [1354], [1131], [1089], [1065], [1035], [948], [935], [815], [770], [768], [749], [723], [716], [714], [688], [688], [651], [647], [641], [638], [634], [601], [589], [587], [584], [572], [566], [551], [551]], \"hoverlabel\": {\"namelength\": 0}, \"hovertemplate\": \"<b>%{hovertext}</b><br><br>total_rides=%{customdata[0]}<br>start_station_latitude=%{lat}<br>start_station_longitude=%{lon}\", \"hovertext\": [\"Vesey Pl & River Terrace\", \"E 7 St & Avenue A\", \"E 6 St & Avenue B\", \"Pershing Square North\", \"McGuinness Blvd & Eagle St\", \"Barclay St & Church St\", \"Lispenard St & Broadway\", \"Richardson St & N Henry St\", \"W 26 St & 8 Ave\", \"W 17 St & 8 Ave\", \"12 Ave & W 40 St\", \"E 13 St & Avenue A\", \"Christopher St & Greenwich St\", \"Nassau Ave & Russell St\", \"Barclay St & Church St\", \"Broadway & W 41 St\", \"W 26 St & 8 Ave\", \"Broadway & W 41 St\", \"Pershing Square North\", \"Greenwich St & W Houston St\", \"8 Ave & W 31 St\", \"South End Ave & Liberty St\", \"Liberty St & Broadway\", \"S 3 St & Bedford Ave\", \"1 Ave & E 78 St\", \"E 102 St & 1 Ave\", \"Newtown Ave & 23 St\", \"E 32 St & Park Ave\", \"Hudson St & Reade St\", \"W 20 St & 11 Ave\"], \"lat\": [40.715337899999994, 40.72621788, 40.72453734, 40.751872999999996, 40.73555, 40.71291224, 40.71939226, 40.71907891179564, 40.74734825, 40.74177603, 40.76087502, 40.72966729392978, 40.73291553, 40.725570000000005, 40.71291224, 40.75513557, 40.74734825, 40.75513557, 40.751872999999996, 40.728846000000004, 40.7505853470215, 40.711512, 40.70905623, 40.71260486, 40.77140426, 40.7869946, 40.7713615, 40.745712100000006, 40.71625008, 40.746745000000004], \"legendgroup\": \"\", \"lon\": [-74.01658354, -73.98379855, -73.98185424, -73.97770600000001, -73.95284000000001, -74.01020234, -74.00247214, -73.94223690032959, -73.99723551, -74.00149746, -74.00277668, -73.98067966103555, -74.00711384, -73.94434, -74.01020234, -73.98658032, -73.99723551, -73.98658032, -73.97770600000001, -74.00859100000001, -73.9946848154068, -74.01575600000001, -74.01043382, -73.96264403, -73.9535166, -73.94164802, -73.9246145, -73.98194829, -74.0091059, -74.007756], \"marker\": {\"color\": \"lightgreen\"}, \"mode\": \"markers\", \"name\": \"\", \"showlegend\": false, \"subplot\": \"mapbox\", \"type\": \"scattermapbox\"}],\n",
              "                        {\"height\": 500, \"legend\": {\"tracegroupgap\": 0}, \"mapbox\": {\"accesstoken\": \"pk.eyJ1IjoiYWxhc3RyYTMyIiwiYSI6ImNrMjNpem1lbzI1eTYzbWwyMXJjNXZyZzYifQ.G6fW1N9gmG-PF4HJm-9BDw\", \"center\": {\"lat\": 40.73721760875823, \"lon\": -73.9856780108924}, \"domain\": {\"x\": [0.0, 0.98], \"y\": [0.0, 1.0]}, \"style\": \"dark\", \"zoom\": 12}, \"margin\": {\"b\": 0, \"l\": 0, \"r\": 0, \"t\": 0}, \"template\": {\"data\": {\"bar\": [{\"error_x\": {\"color\": \"#2a3f5f\"}, \"error_y\": {\"color\": \"#2a3f5f\"}, \"marker\": {\"line\": {\"color\": \"#E5ECF6\", \"width\": 0.5}}, \"type\": \"bar\"}], \"barpolar\": [{\"marker\": {\"line\": {\"color\": \"#E5ECF6\", \"width\": 0.5}}, \"type\": \"barpolar\"}], \"carpet\": [{\"aaxis\": {\"endlinecolor\": \"#2a3f5f\", \"gridcolor\": \"white\", \"linecolor\": \"white\", \"minorgridcolor\": \"white\", \"startlinecolor\": \"#2a3f5f\"}, \"baxis\": {\"endlinecolor\": \"#2a3f5f\", \"gridcolor\": \"white\", \"linecolor\": \"white\", \"minorgridcolor\": \"white\", \"startlinecolor\": \"#2a3f5f\"}, \"type\": \"carpet\"}], \"choropleth\": [{\"colorbar\": {\"outlinewidth\": 0, \"ticks\": \"\"}, \"type\": \"choropleth\"}], \"contour\": [{\"colorbar\": {\"outlinewidth\": 0, \"ticks\": \"\"}, \"colorscale\": [[0.0, \"#0d0887\"], [0.1111111111111111, \"#46039f\"], [0.2222222222222222, \"#7201a8\"], [0.3333333333333333, \"#9c179e\"], [0.4444444444444444, \"#bd3786\"], [0.5555555555555556, \"#d8576b\"], [0.6666666666666666, \"#ed7953\"], [0.7777777777777778, \"#fb9f3a\"], [0.8888888888888888, \"#fdca26\"], [1.0, \"#f0f921\"]], \"type\": \"contour\"}], \"contourcarpet\": [{\"colorbar\": {\"outlinewidth\": 0, \"ticks\": \"\"}, \"type\": \"contourcarpet\"}], \"heatmap\": [{\"colorbar\": {\"outlinewidth\": 0, \"ticks\": \"\"}, \"colorscale\": [[0.0, \"#0d0887\"], [0.1111111111111111, \"#46039f\"], [0.2222222222222222, \"#7201a8\"], [0.3333333333333333, \"#9c179e\"], [0.4444444444444444, \"#bd3786\"], [0.5555555555555556, \"#d8576b\"], [0.6666666666666666, \"#ed7953\"], [0.7777777777777778, \"#fb9f3a\"], [0.8888888888888888, \"#fdca26\"], [1.0, \"#f0f921\"]], \"type\": \"heatmap\"}], \"heatmapgl\": [{\"colorbar\": {\"outlinewidth\": 0, \"ticks\": \"\"}, \"colorscale\": [[0.0, \"#0d0887\"], [0.1111111111111111, \"#46039f\"], [0.2222222222222222, \"#7201a8\"], [0.3333333333333333, \"#9c179e\"], [0.4444444444444444, \"#bd3786\"], [0.5555555555555556, \"#d8576b\"], [0.6666666666666666, \"#ed7953\"], [0.7777777777777778, \"#fb9f3a\"], [0.8888888888888888, \"#fdca26\"], [1.0, \"#f0f921\"]], \"type\": \"heatmapgl\"}], \"histogram\": [{\"marker\": {\"colorbar\": {\"outlinewidth\": 0, \"ticks\": \"\"}}, \"type\": \"histogram\"}], \"histogram2d\": [{\"colorbar\": {\"outlinewidth\": 0, \"ticks\": \"\"}, \"colorscale\": [[0.0, \"#0d0887\"], [0.1111111111111111, \"#46039f\"], [0.2222222222222222, \"#7201a8\"], [0.3333333333333333, \"#9c179e\"], [0.4444444444444444, \"#bd3786\"], [0.5555555555555556, \"#d8576b\"], [0.6666666666666666, \"#ed7953\"], [0.7777777777777778, \"#fb9f3a\"], [0.8888888888888888, \"#fdca26\"], [1.0, \"#f0f921\"]], \"type\": \"histogram2d\"}], \"histogram2dcontour\": [{\"colorbar\": {\"outlinewidth\": 0, \"ticks\": \"\"}, \"colorscale\": [[0.0, \"#0d0887\"], [0.1111111111111111, \"#46039f\"], [0.2222222222222222, \"#7201a8\"], [0.3333333333333333, \"#9c179e\"], [0.4444444444444444, \"#bd3786\"], [0.5555555555555556, \"#d8576b\"], [0.6666666666666666, \"#ed7953\"], [0.7777777777777778, \"#fb9f3a\"], [0.8888888888888888, \"#fdca26\"], [1.0, \"#f0f921\"]], \"type\": \"histogram2dcontour\"}], \"mesh3d\": [{\"colorbar\": {\"outlinewidth\": 0, \"ticks\": \"\"}, \"type\": \"mesh3d\"}], \"parcoords\": [{\"line\": {\"colorbar\": {\"outlinewidth\": 0, \"ticks\": \"\"}}, \"type\": \"parcoords\"}], \"scatter\": [{\"marker\": {\"colorbar\": {\"outlinewidth\": 0, \"ticks\": \"\"}}, \"type\": \"scatter\"}], \"scatter3d\": [{\"line\": {\"colorbar\": {\"outlinewidth\": 0, \"ticks\": \"\"}}, \"marker\": {\"colorbar\": {\"outlinewidth\": 0, \"ticks\": \"\"}}, \"type\": \"scatter3d\"}], \"scattercarpet\": [{\"marker\": {\"colorbar\": {\"outlinewidth\": 0, \"ticks\": \"\"}}, \"type\": \"scattercarpet\"}], \"scattergeo\": [{\"marker\": {\"colorbar\": {\"outlinewidth\": 0, \"ticks\": \"\"}}, \"type\": \"scattergeo\"}], \"scattergl\": [{\"marker\": {\"colorbar\": {\"outlinewidth\": 0, \"ticks\": \"\"}}, \"type\": \"scattergl\"}], \"scattermapbox\": [{\"marker\": {\"colorbar\": {\"outlinewidth\": 0, \"ticks\": \"\"}}, \"type\": \"scattermapbox\"}], \"scatterpolar\": [{\"marker\": {\"colorbar\": {\"outlinewidth\": 0, \"ticks\": \"\"}}, \"type\": \"scatterpolar\"}], \"scatterpolargl\": [{\"marker\": {\"colorbar\": {\"outlinewidth\": 0, \"ticks\": \"\"}}, \"type\": \"scatterpolargl\"}], \"scatterternary\": [{\"marker\": {\"colorbar\": {\"outlinewidth\": 0, \"ticks\": \"\"}}, \"type\": \"scatterternary\"}], \"surface\": [{\"colorbar\": {\"outlinewidth\": 0, \"ticks\": \"\"}, \"colorscale\": [[0.0, \"#0d0887\"], [0.1111111111111111, \"#46039f\"], [0.2222222222222222, \"#7201a8\"], [0.3333333333333333, \"#9c179e\"], [0.4444444444444444, \"#bd3786\"], [0.5555555555555556, \"#d8576b\"], [0.6666666666666666, \"#ed7953\"], [0.7777777777777778, \"#fb9f3a\"], [0.8888888888888888, \"#fdca26\"], [1.0, \"#f0f921\"]], \"type\": \"surface\"}], \"table\": [{\"cells\": {\"fill\": {\"color\": \"#EBF0F8\"}, \"line\": {\"color\": \"white\"}}, \"header\": {\"fill\": {\"color\": \"#C8D4E3\"}, \"line\": {\"color\": \"white\"}}, \"type\": \"table\"}]}, \"layout\": {\"annotationdefaults\": {\"arrowcolor\": \"#2a3f5f\", \"arrowhead\": 0, \"arrowwidth\": 1}, \"colorscale\": {\"diverging\": [[0, \"#8e0152\"], [0.1, \"#c51b7d\"], [0.2, \"#de77ae\"], [0.3, \"#f1b6da\"], [0.4, \"#fde0ef\"], [0.5, \"#f7f7f7\"], [0.6, \"#e6f5d0\"], [0.7, \"#b8e186\"], [0.8, \"#7fbc41\"], [0.9, \"#4d9221\"], [1, \"#276419\"]], \"sequential\": [[0.0, \"#0d0887\"], [0.1111111111111111, \"#46039f\"], [0.2222222222222222, \"#7201a8\"], [0.3333333333333333, \"#9c179e\"], [0.4444444444444444, \"#bd3786\"], [0.5555555555555556, \"#d8576b\"], [0.6666666666666666, \"#ed7953\"], [0.7777777777777778, \"#fb9f3a\"], [0.8888888888888888, \"#fdca26\"], [1.0, \"#f0f921\"]], \"sequentialminus\": [[0.0, \"#0d0887\"], [0.1111111111111111, \"#46039f\"], [0.2222222222222222, \"#7201a8\"], [0.3333333333333333, \"#9c179e\"], [0.4444444444444444, \"#bd3786\"], [0.5555555555555556, \"#d8576b\"], [0.6666666666666666, \"#ed7953\"], [0.7777777777777778, \"#fb9f3a\"], [0.8888888888888888, \"#fdca26\"], [1.0, \"#f0f921\"]]}, \"colorway\": [\"#636efa\", \"#EF553B\", \"#00cc96\", \"#ab63fa\", \"#FFA15A\", \"#19d3f3\", \"#FF6692\", \"#B6E880\", \"#FF97FF\", \"#FECB52\"], \"font\": {\"color\": \"#2a3f5f\"}, \"geo\": {\"bgcolor\": \"white\", \"lakecolor\": \"white\", \"landcolor\": \"#E5ECF6\", \"showlakes\": true, \"showland\": true, \"subunitcolor\": \"white\"}, \"hoverlabel\": {\"align\": \"left\"}, \"hovermode\": \"closest\", \"mapbox\": {\"style\": \"light\"}, \"paper_bgcolor\": \"white\", \"plot_bgcolor\": \"#E5ECF6\", \"polar\": {\"angularaxis\": {\"gridcolor\": \"white\", \"linecolor\": \"white\", \"ticks\": \"\"}, \"bgcolor\": \"#E5ECF6\", \"radialaxis\": {\"gridcolor\": \"white\", \"linecolor\": \"white\", \"ticks\": \"\"}}, \"scene\": {\"xaxis\": {\"backgroundcolor\": \"#E5ECF6\", \"gridcolor\": \"white\", \"gridwidth\": 2, \"linecolor\": \"white\", \"showbackground\": true, \"ticks\": \"\", \"zerolinecolor\": \"white\"}, \"yaxis\": {\"backgroundcolor\": \"#E5ECF6\", \"gridcolor\": \"white\", \"gridwidth\": 2, \"linecolor\": \"white\", \"showbackground\": true, \"ticks\": \"\", \"zerolinecolor\": \"white\"}, \"zaxis\": {\"backgroundcolor\": \"#E5ECF6\", \"gridcolor\": \"white\", \"gridwidth\": 2, \"linecolor\": \"white\", \"showbackground\": true, \"ticks\": \"\", \"zerolinecolor\": \"white\"}}, \"shapedefaults\": {\"line\": {\"color\": \"#2a3f5f\"}}, \"ternary\": {\"aaxis\": {\"gridcolor\": \"white\", \"linecolor\": \"white\", \"ticks\": \"\"}, \"baxis\": {\"gridcolor\": \"white\", \"linecolor\": \"white\", \"ticks\": \"\"}, \"bgcolor\": \"#E5ECF6\", \"caxis\": {\"gridcolor\": \"white\", \"linecolor\": \"white\", \"ticks\": \"\"}}, \"title\": {\"x\": 0.05}, \"xaxis\": {\"automargin\": true, \"gridcolor\": \"white\", \"linecolor\": \"white\", \"ticks\": \"\", \"zerolinecolor\": \"white\", \"zerolinewidth\": 2}, \"yaxis\": {\"automargin\": true, \"gridcolor\": \"white\", \"linecolor\": \"white\", \"ticks\": \"\", \"zerolinecolor\": \"white\", \"zerolinewidth\": 2}}}},\n",
              "                        {\"responsive\": true}\n",
              "                    ).then(function(){\n",
              "                            \n",
              "var gd = document.getElementById('4adbd42c-db0a-41c1-9334-1667ae1b9b2e');\n",
              "var x = new MutationObserver(function (mutations, observer) {{\n",
              "        var display = window.getComputedStyle(gd).display;\n",
              "        if (!display || display === 'none') {{\n",
              "            console.log([gd, 'removed!']);\n",
              "            Plotly.purge(gd);\n",
              "            observer.disconnect();\n",
              "        }}\n",
              "}});\n",
              "\n",
              "// Listen for the removal of the full notebook cells\n",
              "var notebookContainer = gd.closest('#notebook-container');\n",
              "if (notebookContainer) {{\n",
              "    x.observe(notebookContainer, {childList: true});\n",
              "}}\n",
              "\n",
              "// Listen for the clearing of the current output cell\n",
              "var outputEl = gd.closest('.output');\n",
              "if (outputEl) {{\n",
              "    x.observe(outputEl, {childList: true});\n",
              "}}\n",
              "\n",
              "                        })\n",
              "                };\n",
              "                \n",
              "            </script>\n",
              "        </div>\n",
              "</body>\n",
              "</html>"
            ]
          },
          "metadata": {
            "tags": []
          }
        }
      ]
    },
    {
      "cell_type": "markdown",
      "metadata": {
        "id": "n1XNfF_wPtQc",
        "colab_type": "text"
      },
      "source": [
        "Graphing on Plotly the End Stations of Top 30 Commute Trips"
      ]
    },
    {
      "cell_type": "code",
      "metadata": {
        "id": "Vc77fpZ_d54R",
        "colab_type": "code",
        "outputId": "fd4c5fec-0cd1-4afc-d71d-cbe836ffe1f3",
        "colab": {
          "base_uri": "https://localhost:8080/",
          "height": 517
        }
      },
      "source": [
        "\n",
        "token ='pk.eyJ1IjoiYWxhc3RyYTMyIiwiYSI6ImNrMjNpem1lbzI1eTYzbWwyMXJjNXZyZzYifQ.G6fW1N9gmG-PF4HJm-9BDw'\n",
        "fig = px.scatter_mapbox(trip_data_commute_s, lat=\"end_station_latitude\", lon=\"end_station_longitude\", hover_name=\"end_station_name\", hover_data=[\"total_rides\"], color_discrete_sequence=[\"red\"], zoom=12, height=500)\n",
        "fig.update_layout(mapbox_style=\"dark\", mapbox_accesstoken=token)\n",
        "fig.update_layout(margin={\"r\":0,\"t\":0,\"l\":0,\"b\":0})\n",
        "fig.show()"
      ],
      "execution_count": 40,
      "outputs": [
        {
          "output_type": "display_data",
          "data": {
            "text/html": [
              "<html>\n",
              "<head><meta charset=\"utf-8\" /></head>\n",
              "<body>\n",
              "    <div>\n",
              "            <script src=\"https://cdnjs.cloudflare.com/ajax/libs/mathjax/2.7.5/MathJax.js?config=TeX-AMS-MML_SVG\"></script><script type=\"text/javascript\">if (window.MathJax) {MathJax.Hub.Config({SVG: {font: \"STIX-Web\"}});}</script>\n",
              "                <script type=\"text/javascript\">window.PlotlyConfig = {MathJaxConfig: 'local'};</script>\n",
              "        <script src=\"https://cdn.plot.ly/plotly-latest.min.js\"></script>    \n",
              "            <div id=\"92e90734-4823-482a-86ee-c2ebd1b6d28f\" class=\"plotly-graph-div\" style=\"height:500px; width:100%;\"></div>\n",
              "            <script type=\"text/javascript\">\n",
              "                \n",
              "                    window.PLOTLYENV=window.PLOTLYENV || {};\n",
              "                    \n",
              "                if (document.getElementById(\"92e90734-4823-482a-86ee-c2ebd1b6d28f\")) {\n",
              "                    Plotly.newPlot(\n",
              "                        '92e90734-4823-482a-86ee-c2ebd1b6d28f',\n",
              "                        [{\"customdata\": [[1510], [1354], [1131], [1089], [1065], [1035], [948], [935], [815], [770], [768], [749], [723], [716], [714], [688], [688], [651], [647], [641], [638], [634], [601], [589], [587], [584], [572], [566], [551], [551]], \"hoverlabel\": {\"namelength\": 0}, \"hovertemplate\": \"<b>%{hovertext}</b><br><br>total_rides=%{customdata[0]}<br>end_station_latitude=%{lat}<br>end_station_longitude=%{lon}\", \"hovertext\": [\"North Moore St & Greenwich St\", \"Cooper Square & Astor Pl\", \"Cooper Square & Astor Pl\", \"E 24 St & Park Ave S\", \"Vernon Blvd & 50 Ave\", \"North Moore St & Greenwich St\", \"North Moore St & Greenwich St\", \"Graham Ave & Conselyea St\", \"W 26 St & 10 Ave\", \"W 20 St & 11 Ave\", \"West St & Chambers St\", \"Broadway & E 14 St\", \"West St & Chambers St\", \"Leonard St & Nassau Ave\", \"6 Ave & Canal St\", \"Pershing Square North\", \"11 Ave & W 27 St\", \"E 47 St & Park Ave\", \"Broadway & E 22 St\", \"Christopher St & Greenwich St\", \"11 Ave & W 27 St\", \"North Moore St & Greenwich St\", \"Old Slip & Front St\", \"N 6 St & Bedford Ave\", \"E 77 St & 3 Ave\", \"2 Ave & E 96 St\", \"31 St & Newtown Ave\", \"E 33 St & 1 Ave\", \"North Moore St & Greenwich St\", \"West St & Chambers St\"], \"lat\": [40.72019521437465, 40.729514962249496, 40.729514962249496, 40.74096374, 40.74232744, 40.72019521437465, 40.72019521437465, 40.715143, 40.749717753, 40.746745000000004, 40.71754834, 40.73454567, 40.71754834, 40.7239567849954, 40.72243797, 40.751872999999996, 40.751396, 40.75510267, 40.740343200000005, 40.73291553, 40.751396, 40.72019521437465, 40.703799200000006, 40.71745169, 40.77314236, 40.7839636, 40.7675487799971, 40.74322681432173, 40.72019521437465, 40.71754834], \"legendgroup\": \"\", \"lon\": [-74.0103006362915, -73.99075269699097, -73.99075269699097, -73.98602213, -73.95411749, -74.0103006362915, -74.0103006362915, -73.944507, -74.002950346, -74.007756, -74.01322069, -73.99074142, -74.01322069, -73.94984364509583, -74.00566443, -73.97770600000001, -74.00522600000001, -73.97498696, -73.98955109, -74.00711384, -74.00522600000001, -74.0103006362915, -74.00838676, -73.95850939, -73.95856158, -73.94716729999999, -73.92093345522879, -73.97449783980845, -74.0103006362915, -74.01322069], \"marker\": {\"color\": \"red\"}, \"mode\": \"markers\", \"name\": \"\", \"showlegend\": false, \"subplot\": \"mapbox\", \"type\": \"scattermapbox\"}],\n",
              "                        {\"height\": 500, \"legend\": {\"tracegroupgap\": 0}, \"mapbox\": {\"accesstoken\": \"pk.eyJ1IjoiYWxhc3RyYTMyIiwiYSI6ImNrMjNpem1lbzI1eTYzbWwyMXJjNXZyZzYifQ.G6fW1N9gmG-PF4HJm-9BDw\", \"center\": {\"lat\": 40.73535490728955, \"lon\": -73.98807131071908}, \"domain\": {\"x\": [0.0, 0.98], \"y\": [0.0, 1.0]}, \"style\": \"dark\", \"zoom\": 12}, \"margin\": {\"b\": 0, \"l\": 0, \"r\": 0, \"t\": 0}, \"template\": {\"data\": {\"bar\": [{\"error_x\": {\"color\": \"#2a3f5f\"}, \"error_y\": {\"color\": \"#2a3f5f\"}, \"marker\": {\"line\": {\"color\": \"#E5ECF6\", \"width\": 0.5}}, \"type\": \"bar\"}], \"barpolar\": [{\"marker\": {\"line\": {\"color\": \"#E5ECF6\", \"width\": 0.5}}, \"type\": \"barpolar\"}], \"carpet\": [{\"aaxis\": {\"endlinecolor\": \"#2a3f5f\", \"gridcolor\": \"white\", \"linecolor\": \"white\", \"minorgridcolor\": \"white\", \"startlinecolor\": \"#2a3f5f\"}, \"baxis\": {\"endlinecolor\": \"#2a3f5f\", \"gridcolor\": \"white\", \"linecolor\": \"white\", \"minorgridcolor\": \"white\", \"startlinecolor\": \"#2a3f5f\"}, \"type\": \"carpet\"}], \"choropleth\": [{\"colorbar\": {\"outlinewidth\": 0, \"ticks\": \"\"}, \"type\": \"choropleth\"}], \"contour\": [{\"colorbar\": {\"outlinewidth\": 0, \"ticks\": \"\"}, \"colorscale\": [[0.0, \"#0d0887\"], [0.1111111111111111, \"#46039f\"], [0.2222222222222222, \"#7201a8\"], [0.3333333333333333, \"#9c179e\"], [0.4444444444444444, \"#bd3786\"], [0.5555555555555556, \"#d8576b\"], [0.6666666666666666, \"#ed7953\"], [0.7777777777777778, \"#fb9f3a\"], [0.8888888888888888, \"#fdca26\"], [1.0, \"#f0f921\"]], \"type\": \"contour\"}], \"contourcarpet\": [{\"colorbar\": {\"outlinewidth\": 0, \"ticks\": \"\"}, \"type\": \"contourcarpet\"}], \"heatmap\": [{\"colorbar\": {\"outlinewidth\": 0, \"ticks\": \"\"}, \"colorscale\": [[0.0, \"#0d0887\"], [0.1111111111111111, \"#46039f\"], [0.2222222222222222, \"#7201a8\"], [0.3333333333333333, \"#9c179e\"], [0.4444444444444444, \"#bd3786\"], [0.5555555555555556, \"#d8576b\"], [0.6666666666666666, \"#ed7953\"], [0.7777777777777778, \"#fb9f3a\"], [0.8888888888888888, \"#fdca26\"], [1.0, \"#f0f921\"]], \"type\": \"heatmap\"}], \"heatmapgl\": [{\"colorbar\": {\"outlinewidth\": 0, \"ticks\": \"\"}, \"colorscale\": [[0.0, \"#0d0887\"], [0.1111111111111111, \"#46039f\"], [0.2222222222222222, \"#7201a8\"], [0.3333333333333333, \"#9c179e\"], [0.4444444444444444, \"#bd3786\"], [0.5555555555555556, \"#d8576b\"], [0.6666666666666666, \"#ed7953\"], [0.7777777777777778, \"#fb9f3a\"], [0.8888888888888888, \"#fdca26\"], [1.0, \"#f0f921\"]], \"type\": \"heatmapgl\"}], \"histogram\": [{\"marker\": {\"colorbar\": {\"outlinewidth\": 0, \"ticks\": \"\"}}, \"type\": \"histogram\"}], \"histogram2d\": [{\"colorbar\": {\"outlinewidth\": 0, \"ticks\": \"\"}, \"colorscale\": [[0.0, \"#0d0887\"], [0.1111111111111111, \"#46039f\"], [0.2222222222222222, \"#7201a8\"], [0.3333333333333333, \"#9c179e\"], [0.4444444444444444, \"#bd3786\"], [0.5555555555555556, \"#d8576b\"], [0.6666666666666666, \"#ed7953\"], [0.7777777777777778, \"#fb9f3a\"], [0.8888888888888888, \"#fdca26\"], [1.0, \"#f0f921\"]], \"type\": \"histogram2d\"}], \"histogram2dcontour\": [{\"colorbar\": {\"outlinewidth\": 0, \"ticks\": \"\"}, \"colorscale\": [[0.0, \"#0d0887\"], [0.1111111111111111, \"#46039f\"], [0.2222222222222222, \"#7201a8\"], [0.3333333333333333, \"#9c179e\"], [0.4444444444444444, \"#bd3786\"], [0.5555555555555556, \"#d8576b\"], [0.6666666666666666, \"#ed7953\"], [0.7777777777777778, \"#fb9f3a\"], [0.8888888888888888, \"#fdca26\"], [1.0, \"#f0f921\"]], \"type\": \"histogram2dcontour\"}], \"mesh3d\": [{\"colorbar\": {\"outlinewidth\": 0, \"ticks\": \"\"}, \"type\": \"mesh3d\"}], \"parcoords\": [{\"line\": {\"colorbar\": {\"outlinewidth\": 0, \"ticks\": \"\"}}, \"type\": \"parcoords\"}], \"scatter\": [{\"marker\": {\"colorbar\": {\"outlinewidth\": 0, \"ticks\": \"\"}}, \"type\": \"scatter\"}], \"scatter3d\": [{\"line\": {\"colorbar\": {\"outlinewidth\": 0, \"ticks\": \"\"}}, \"marker\": {\"colorbar\": {\"outlinewidth\": 0, \"ticks\": \"\"}}, \"type\": \"scatter3d\"}], \"scattercarpet\": [{\"marker\": {\"colorbar\": {\"outlinewidth\": 0, \"ticks\": \"\"}}, \"type\": \"scattercarpet\"}], \"scattergeo\": [{\"marker\": {\"colorbar\": {\"outlinewidth\": 0, \"ticks\": \"\"}}, \"type\": \"scattergeo\"}], \"scattergl\": [{\"marker\": {\"colorbar\": {\"outlinewidth\": 0, \"ticks\": \"\"}}, \"type\": \"scattergl\"}], \"scattermapbox\": [{\"marker\": {\"colorbar\": {\"outlinewidth\": 0, \"ticks\": \"\"}}, \"type\": \"scattermapbox\"}], \"scatterpolar\": [{\"marker\": {\"colorbar\": {\"outlinewidth\": 0, \"ticks\": \"\"}}, \"type\": \"scatterpolar\"}], \"scatterpolargl\": [{\"marker\": {\"colorbar\": {\"outlinewidth\": 0, \"ticks\": \"\"}}, \"type\": \"scatterpolargl\"}], \"scatterternary\": [{\"marker\": {\"colorbar\": {\"outlinewidth\": 0, \"ticks\": \"\"}}, \"type\": \"scatterternary\"}], \"surface\": [{\"colorbar\": {\"outlinewidth\": 0, \"ticks\": \"\"}, \"colorscale\": [[0.0, \"#0d0887\"], [0.1111111111111111, \"#46039f\"], [0.2222222222222222, \"#7201a8\"], [0.3333333333333333, \"#9c179e\"], [0.4444444444444444, \"#bd3786\"], [0.5555555555555556, \"#d8576b\"], [0.6666666666666666, \"#ed7953\"], [0.7777777777777778, \"#fb9f3a\"], [0.8888888888888888, \"#fdca26\"], [1.0, \"#f0f921\"]], \"type\": \"surface\"}], \"table\": [{\"cells\": {\"fill\": {\"color\": \"#EBF0F8\"}, \"line\": {\"color\": \"white\"}}, \"header\": {\"fill\": {\"color\": \"#C8D4E3\"}, \"line\": {\"color\": \"white\"}}, \"type\": \"table\"}]}, \"layout\": {\"annotationdefaults\": {\"arrowcolor\": \"#2a3f5f\", \"arrowhead\": 0, \"arrowwidth\": 1}, \"colorscale\": {\"diverging\": [[0, \"#8e0152\"], [0.1, \"#c51b7d\"], [0.2, \"#de77ae\"], [0.3, \"#f1b6da\"], [0.4, \"#fde0ef\"], [0.5, \"#f7f7f7\"], [0.6, \"#e6f5d0\"], [0.7, \"#b8e186\"], [0.8, \"#7fbc41\"], [0.9, \"#4d9221\"], [1, \"#276419\"]], \"sequential\": [[0.0, \"#0d0887\"], [0.1111111111111111, \"#46039f\"], [0.2222222222222222, \"#7201a8\"], [0.3333333333333333, \"#9c179e\"], [0.4444444444444444, \"#bd3786\"], [0.5555555555555556, \"#d8576b\"], [0.6666666666666666, \"#ed7953\"], [0.7777777777777778, \"#fb9f3a\"], [0.8888888888888888, \"#fdca26\"], [1.0, \"#f0f921\"]], \"sequentialminus\": [[0.0, \"#0d0887\"], [0.1111111111111111, \"#46039f\"], [0.2222222222222222, \"#7201a8\"], [0.3333333333333333, \"#9c179e\"], [0.4444444444444444, \"#bd3786\"], [0.5555555555555556, \"#d8576b\"], [0.6666666666666666, \"#ed7953\"], [0.7777777777777778, \"#fb9f3a\"], [0.8888888888888888, \"#fdca26\"], [1.0, \"#f0f921\"]]}, \"colorway\": [\"#636efa\", \"#EF553B\", \"#00cc96\", \"#ab63fa\", \"#FFA15A\", \"#19d3f3\", \"#FF6692\", \"#B6E880\", \"#FF97FF\", \"#FECB52\"], \"font\": {\"color\": \"#2a3f5f\"}, \"geo\": {\"bgcolor\": \"white\", \"lakecolor\": \"white\", \"landcolor\": \"#E5ECF6\", \"showlakes\": true, \"showland\": true, \"subunitcolor\": \"white\"}, \"hoverlabel\": {\"align\": \"left\"}, \"hovermode\": \"closest\", \"mapbox\": {\"style\": \"light\"}, \"paper_bgcolor\": \"white\", \"plot_bgcolor\": \"#E5ECF6\", \"polar\": {\"angularaxis\": {\"gridcolor\": \"white\", \"linecolor\": \"white\", \"ticks\": \"\"}, \"bgcolor\": \"#E5ECF6\", \"radialaxis\": {\"gridcolor\": \"white\", \"linecolor\": \"white\", \"ticks\": \"\"}}, \"scene\": {\"xaxis\": {\"backgroundcolor\": \"#E5ECF6\", \"gridcolor\": \"white\", \"gridwidth\": 2, \"linecolor\": \"white\", \"showbackground\": true, \"ticks\": \"\", \"zerolinecolor\": \"white\"}, \"yaxis\": {\"backgroundcolor\": \"#E5ECF6\", \"gridcolor\": \"white\", \"gridwidth\": 2, \"linecolor\": \"white\", \"showbackground\": true, \"ticks\": \"\", \"zerolinecolor\": \"white\"}, \"zaxis\": {\"backgroundcolor\": \"#E5ECF6\", \"gridcolor\": \"white\", \"gridwidth\": 2, \"linecolor\": \"white\", \"showbackground\": true, \"ticks\": \"\", \"zerolinecolor\": \"white\"}}, \"shapedefaults\": {\"line\": {\"color\": \"#2a3f5f\"}}, \"ternary\": {\"aaxis\": {\"gridcolor\": \"white\", \"linecolor\": \"white\", \"ticks\": \"\"}, \"baxis\": {\"gridcolor\": \"white\", \"linecolor\": \"white\", \"ticks\": \"\"}, \"bgcolor\": \"#E5ECF6\", \"caxis\": {\"gridcolor\": \"white\", \"linecolor\": \"white\", \"ticks\": \"\"}}, \"title\": {\"x\": 0.05}, \"xaxis\": {\"automargin\": true, \"gridcolor\": \"white\", \"linecolor\": \"white\", \"ticks\": \"\", \"zerolinecolor\": \"white\", \"zerolinewidth\": 2}, \"yaxis\": {\"automargin\": true, \"gridcolor\": \"white\", \"linecolor\": \"white\", \"ticks\": \"\", \"zerolinecolor\": \"white\", \"zerolinewidth\": 2}}}},\n",
              "                        {\"responsive\": true}\n",
              "                    ).then(function(){\n",
              "                            \n",
              "var gd = document.getElementById('92e90734-4823-482a-86ee-c2ebd1b6d28f');\n",
              "var x = new MutationObserver(function (mutations, observer) {{\n",
              "        var display = window.getComputedStyle(gd).display;\n",
              "        if (!display || display === 'none') {{\n",
              "            console.log([gd, 'removed!']);\n",
              "            Plotly.purge(gd);\n",
              "            observer.disconnect();\n",
              "        }}\n",
              "}});\n",
              "\n",
              "// Listen for the removal of the full notebook cells\n",
              "var notebookContainer = gd.closest('#notebook-container');\n",
              "if (notebookContainer) {{\n",
              "    x.observe(notebookContainer, {childList: true});\n",
              "}}\n",
              "\n",
              "// Listen for the clearing of the current output cell\n",
              "var outputEl = gd.closest('.output');\n",
              "if (outputEl) {{\n",
              "    x.observe(outputEl, {childList: true});\n",
              "}}\n",
              "\n",
              "                        })\n",
              "                };\n",
              "                \n",
              "            </script>\n",
              "        </div>\n",
              "</body>\n",
              "</html>"
            ]
          },
          "metadata": {
            "tags": []
          }
        }
      ]
    },
    {
      "cell_type": "markdown",
      "metadata": {
        "id": "TIz0MKmPP3vT",
        "colab_type": "text"
      },
      "source": [
        "Enhancing Dataset with Latitude and Longitude Pairs for Stations"
      ]
    },
    {
      "cell_type": "code",
      "metadata": {
        "id": "-7_aOZoxrQbX",
        "colab_type": "code",
        "outputId": "f15ff551-2cb1-44dd-c239-f260a450e83f",
        "colab": {
          "base_uri": "https://localhost:8080/",
          "height": 299
        }
      },
      "source": [
        "#enhancing dataset with Longitude and Latitude for both Start and End Statins\n",
        "trip_data_commute_s['trip_longitude'] = list(zip(trip_data_commute_s.start_station_longitude,trip_data_commute_s.end_station_longitude))\n",
        "trip_data_commute_s['trip_latitude'] = list(zip(trip_data_commute_s.start_station_latitude,trip_data_commute_s.end_station_latitude))\n",
        "trip_data_commute_s=trip_data_commute_s.copy().reset_index()\n",
        "trip_data_commute_s.tail()"
      ],
      "execution_count": 41,
      "outputs": [
        {
          "output_type": "execute_result",
          "data": {
            "text/html": [
              "<div>\n",
              "<style scoped>\n",
              "    .dataframe tbody tr th:only-of-type {\n",
              "        vertical-align: middle;\n",
              "    }\n",
              "\n",
              "    .dataframe tbody tr th {\n",
              "        vertical-align: top;\n",
              "    }\n",
              "\n",
              "    .dataframe thead th {\n",
              "        text-align: right;\n",
              "    }\n",
              "</style>\n",
              "<table border=\"1\" class=\"dataframe\">\n",
              "  <thead>\n",
              "    <tr style=\"text-align: right;\">\n",
              "      <th></th>\n",
              "      <th>index</th>\n",
              "      <th>start_station_name</th>\n",
              "      <th>end_station_name</th>\n",
              "      <th>start_station_latitude</th>\n",
              "      <th>start_station_longitude</th>\n",
              "      <th>end_station_latitude</th>\n",
              "      <th>end_station_longitude</th>\n",
              "      <th>total_rides</th>\n",
              "      <th>trip_longitude</th>\n",
              "      <th>trip_latitude</th>\n",
              "    </tr>\n",
              "  </thead>\n",
              "  <tbody>\n",
              "    <tr>\n",
              "      <th>25</th>\n",
              "      <td>53208</td>\n",
              "      <td>E 102 St &amp; 1 Ave</td>\n",
              "      <td>2 Ave &amp; E 96 St</td>\n",
              "      <td>40.786995</td>\n",
              "      <td>-73.941648</td>\n",
              "      <td>40.783964</td>\n",
              "      <td>-73.947167</td>\n",
              "      <td>584</td>\n",
              "      <td>(-73.94164802, -73.94716729999999)</td>\n",
              "      <td>(40.7869946, 40.7839636)</td>\n",
              "    </tr>\n",
              "    <tr>\n",
              "      <th>26</th>\n",
              "      <td>110763</td>\n",
              "      <td>Newtown Ave &amp; 23 St</td>\n",
              "      <td>31 St &amp; Newtown Ave</td>\n",
              "      <td>40.771361</td>\n",
              "      <td>-73.924615</td>\n",
              "      <td>40.767549</td>\n",
              "      <td>-73.920933</td>\n",
              "      <td>572</td>\n",
              "      <td>(-73.9246145, -73.92093345522879)</td>\n",
              "      <td>(40.7713615, 40.7675487799971)</td>\n",
              "    </tr>\n",
              "    <tr>\n",
              "      <th>27</th>\n",
              "      <td>63027</td>\n",
              "      <td>E 32 St &amp; Park Ave</td>\n",
              "      <td>E 33 St &amp; 1 Ave</td>\n",
              "      <td>40.745712</td>\n",
              "      <td>-73.981948</td>\n",
              "      <td>40.743227</td>\n",
              "      <td>-73.974498</td>\n",
              "      <td>566</td>\n",
              "      <td>(-73.98194829, -73.97449783980845)</td>\n",
              "      <td>(40.745712100000006, 40.74322681432173)</td>\n",
              "    </tr>\n",
              "    <tr>\n",
              "      <th>28</th>\n",
              "      <td>91833</td>\n",
              "      <td>Hudson St &amp; Reade St</td>\n",
              "      <td>North Moore St &amp; Greenwich St</td>\n",
              "      <td>40.716250</td>\n",
              "      <td>-74.009106</td>\n",
              "      <td>40.720195</td>\n",
              "      <td>-74.010301</td>\n",
              "      <td>551</td>\n",
              "      <td>(-74.0091059, -74.0103006362915)</td>\n",
              "      <td>(40.71625008, 40.72019521437465)</td>\n",
              "    </tr>\n",
              "    <tr>\n",
              "      <th>29</th>\n",
              "      <td>136707</td>\n",
              "      <td>W 20 St &amp; 11 Ave</td>\n",
              "      <td>West St &amp; Chambers St</td>\n",
              "      <td>40.746745</td>\n",
              "      <td>-74.007756</td>\n",
              "      <td>40.717548</td>\n",
              "      <td>-74.013221</td>\n",
              "      <td>551</td>\n",
              "      <td>(-74.007756, -74.01322069)</td>\n",
              "      <td>(40.746745000000004, 40.71754834)</td>\n",
              "    </tr>\n",
              "  </tbody>\n",
              "</table>\n",
              "</div>"
            ],
            "text/plain": [
              "     index    start_station_name               end_station_name  \\\n",
              "25   53208      E 102 St & 1 Ave                2 Ave & E 96 St   \n",
              "26  110763   Newtown Ave & 23 St            31 St & Newtown Ave   \n",
              "27   63027    E 32 St & Park Ave                E 33 St & 1 Ave   \n",
              "28   91833  Hudson St & Reade St  North Moore St & Greenwich St   \n",
              "29  136707      W 20 St & 11 Ave          West St & Chambers St   \n",
              "\n",
              "    start_station_latitude  start_station_longitude  end_station_latitude  \\\n",
              "25               40.786995               -73.941648             40.783964   \n",
              "26               40.771361               -73.924615             40.767549   \n",
              "27               40.745712               -73.981948             40.743227   \n",
              "28               40.716250               -74.009106             40.720195   \n",
              "29               40.746745               -74.007756             40.717548   \n",
              "\n",
              "    end_station_longitude  total_rides                      trip_longitude  \\\n",
              "25             -73.947167          584  (-73.94164802, -73.94716729999999)   \n",
              "26             -73.920933          572   (-73.9246145, -73.92093345522879)   \n",
              "27             -73.974498          566  (-73.98194829, -73.97449783980845)   \n",
              "28             -74.010301          551    (-74.0091059, -74.0103006362915)   \n",
              "29             -74.013221          551          (-74.007756, -74.01322069)   \n",
              "\n",
              "                              trip_latitude  \n",
              "25                 (40.7869946, 40.7839636)  \n",
              "26           (40.7713615, 40.7675487799971)  \n",
              "27  (40.745712100000006, 40.74322681432173)  \n",
              "28         (40.71625008, 40.72019521437465)  \n",
              "29        (40.746745000000004, 40.71754834)  "
            ]
          },
          "metadata": {
            "tags": []
          },
          "execution_count": 41
        }
      ]
    },
    {
      "cell_type": "markdown",
      "metadata": {
        "id": "AEpKBKpfQMHV",
        "colab_type": "text"
      },
      "source": [
        "Graphing on Plotly the Trips of Top 30 Commute Trips"
      ]
    },
    {
      "cell_type": "code",
      "metadata": {
        "id": "kAv2BR_TuEfl",
        "colab_type": "code",
        "outputId": "2bcc805a-fdf7-4a08-e65a-32c65ff98561",
        "colab": {
          "base_uri": "https://localhost:8080/",
          "height": 542
        }
      },
      "source": [
        "\n",
        "\n",
        "fig = go.Figure(go.Scattermapbox(\n",
        "    mode = \"markers+lines\",\n",
        "    lon = trip_data_commute_s['trip_longitude'][0], \n",
        "    lat = trip_data_commute_s['trip_latitude'][0], \n",
        "    marker = {'size': 10}))\n",
        "\n",
        "for i in range(1,30):\n",
        "  fig.add_trace(go.Scattermapbox(\n",
        "    mode = \"markers+lines\",      \n",
        "    lon = trip_data_commute_s['trip_longitude'][i], \n",
        "    lat = trip_data_commute_s['trip_latitude'][i], \n",
        "    marker = {'size': 10}))\n",
        "\n",
        "token ='pk.eyJ1IjoiYWxhc3RyYTMyIiwiYSI6ImNrMjNpem1lbzI1eTYzbWwyMXJjNXZyZzYifQ.G6fW1N9gmG-PF4HJm-9BDw'\n",
        "fig.update_layout(\n",
        "    margin ={'l':0,'t':0,'b':0,'r':0},\n",
        "    mapbox = {\n",
        "        'center': {'lon': -74.0060, 'lat': 40.7428},\n",
        "        'zoom': 10.8,\n",
        "        'style': \"dark\",\n",
        "        'accesstoken':token,\n",
        "    })\n",
        "\n",
        "fig.show()"
      ],
      "execution_count": 42,
      "outputs": [
        {
          "output_type": "display_data",
          "data": {
            "text/html": [
              "<html>\n",
              "<head><meta charset=\"utf-8\" /></head>\n",
              "<body>\n",
              "    <div>\n",
              "            <script src=\"https://cdnjs.cloudflare.com/ajax/libs/mathjax/2.7.5/MathJax.js?config=TeX-AMS-MML_SVG\"></script><script type=\"text/javascript\">if (window.MathJax) {MathJax.Hub.Config({SVG: {font: \"STIX-Web\"}});}</script>\n",
              "                <script type=\"text/javascript\">window.PlotlyConfig = {MathJaxConfig: 'local'};</script>\n",
              "        <script src=\"https://cdn.plot.ly/plotly-latest.min.js\"></script>    \n",
              "            <div id=\"82b9fbab-08cb-4532-a48e-7cced029b200\" class=\"plotly-graph-div\" style=\"height:525px; width:100%;\"></div>\n",
              "            <script type=\"text/javascript\">\n",
              "                \n",
              "                    window.PLOTLYENV=window.PLOTLYENV || {};\n",
              "                    \n",
              "                if (document.getElementById(\"82b9fbab-08cb-4532-a48e-7cced029b200\")) {\n",
              "                    Plotly.newPlot(\n",
              "                        '82b9fbab-08cb-4532-a48e-7cced029b200',\n",
              "                        [{\"lat\": [40.715337899999994, 40.72019521437465], \"lon\": [-74.01658354, -74.0103006362915], \"marker\": {\"size\": 10}, \"mode\": \"markers+lines\", \"type\": \"scattermapbox\"}, {\"lat\": [40.72621788, 40.729514962249496], \"lon\": [-73.98379855, -73.99075269699097], \"marker\": {\"size\": 10}, \"mode\": \"markers+lines\", \"type\": \"scattermapbox\"}, {\"lat\": [40.72453734, 40.729514962249496], \"lon\": [-73.98185424, -73.99075269699097], \"marker\": {\"size\": 10}, \"mode\": \"markers+lines\", \"type\": \"scattermapbox\"}, {\"lat\": [40.751872999999996, 40.74096374], \"lon\": [-73.97770600000001, -73.98602213], \"marker\": {\"size\": 10}, \"mode\": \"markers+lines\", \"type\": \"scattermapbox\"}, {\"lat\": [40.73555, 40.74232744], \"lon\": [-73.95284000000001, -73.95411749], \"marker\": {\"size\": 10}, \"mode\": \"markers+lines\", \"type\": \"scattermapbox\"}, {\"lat\": [40.71291224, 40.72019521437465], \"lon\": [-74.01020234, -74.0103006362915], \"marker\": {\"size\": 10}, \"mode\": \"markers+lines\", \"type\": \"scattermapbox\"}, {\"lat\": [40.71939226, 40.72019521437465], \"lon\": [-74.00247214, -74.0103006362915], \"marker\": {\"size\": 10}, \"mode\": \"markers+lines\", \"type\": \"scattermapbox\"}, {\"lat\": [40.71907891179564, 40.715143], \"lon\": [-73.94223690032959, -73.944507], \"marker\": {\"size\": 10}, \"mode\": \"markers+lines\", \"type\": \"scattermapbox\"}, {\"lat\": [40.74734825, 40.749717753], \"lon\": [-73.99723551, -74.002950346], \"marker\": {\"size\": 10}, \"mode\": \"markers+lines\", \"type\": \"scattermapbox\"}, {\"lat\": [40.74177603, 40.746745000000004], \"lon\": [-74.00149746, -74.007756], \"marker\": {\"size\": 10}, \"mode\": \"markers+lines\", \"type\": \"scattermapbox\"}, {\"lat\": [40.76087502, 40.71754834], \"lon\": [-74.00277668, -74.01322069], \"marker\": {\"size\": 10}, \"mode\": \"markers+lines\", \"type\": \"scattermapbox\"}, {\"lat\": [40.72966729392978, 40.73454567], \"lon\": [-73.98067966103555, -73.99074142], \"marker\": {\"size\": 10}, \"mode\": \"markers+lines\", \"type\": \"scattermapbox\"}, {\"lat\": [40.73291553, 40.71754834], \"lon\": [-74.00711384, -74.01322069], \"marker\": {\"size\": 10}, \"mode\": \"markers+lines\", \"type\": \"scattermapbox\"}, {\"lat\": [40.725570000000005, 40.7239567849954], \"lon\": [-73.94434, -73.94984364509583], \"marker\": {\"size\": 10}, \"mode\": \"markers+lines\", \"type\": \"scattermapbox\"}, {\"lat\": [40.71291224, 40.72243797], \"lon\": [-74.01020234, -74.00566443], \"marker\": {\"size\": 10}, \"mode\": \"markers+lines\", \"type\": \"scattermapbox\"}, {\"lat\": [40.75513557, 40.751872999999996], \"lon\": [-73.98658032, -73.97770600000001], \"marker\": {\"size\": 10}, \"mode\": \"markers+lines\", \"type\": \"scattermapbox\"}, {\"lat\": [40.74734825, 40.751396], \"lon\": [-73.99723551, -74.00522600000001], \"marker\": {\"size\": 10}, \"mode\": \"markers+lines\", \"type\": \"scattermapbox\"}, {\"lat\": [40.75513557, 40.75510267], \"lon\": [-73.98658032, -73.97498696], \"marker\": {\"size\": 10}, \"mode\": \"markers+lines\", \"type\": \"scattermapbox\"}, {\"lat\": [40.751872999999996, 40.740343200000005], \"lon\": [-73.97770600000001, -73.98955109], \"marker\": {\"size\": 10}, \"mode\": \"markers+lines\", \"type\": \"scattermapbox\"}, {\"lat\": [40.728846000000004, 40.73291553], \"lon\": [-74.00859100000001, -74.00711384], \"marker\": {\"size\": 10}, \"mode\": \"markers+lines\", \"type\": \"scattermapbox\"}, {\"lat\": [40.7505853470215, 40.751396], \"lon\": [-73.9946848154068, -74.00522600000001], \"marker\": {\"size\": 10}, \"mode\": \"markers+lines\", \"type\": \"scattermapbox\"}, {\"lat\": [40.711512, 40.72019521437465], \"lon\": [-74.01575600000001, -74.0103006362915], \"marker\": {\"size\": 10}, \"mode\": \"markers+lines\", \"type\": \"scattermapbox\"}, {\"lat\": [40.70905623, 40.703799200000006], \"lon\": [-74.01043382, -74.00838676], \"marker\": {\"size\": 10}, \"mode\": \"markers+lines\", \"type\": \"scattermapbox\"}, {\"lat\": [40.71260486, 40.71745169], \"lon\": [-73.96264403, -73.95850939], \"marker\": {\"size\": 10}, \"mode\": \"markers+lines\", \"type\": \"scattermapbox\"}, {\"lat\": [40.77140426, 40.77314236], \"lon\": [-73.9535166, -73.95856158], \"marker\": {\"size\": 10}, \"mode\": \"markers+lines\", \"type\": \"scattermapbox\"}, {\"lat\": [40.7869946, 40.7839636], \"lon\": [-73.94164802, -73.94716729999999], \"marker\": {\"size\": 10}, \"mode\": \"markers+lines\", \"type\": \"scattermapbox\"}, {\"lat\": [40.7713615, 40.7675487799971], \"lon\": [-73.9246145, -73.92093345522879], \"marker\": {\"size\": 10}, \"mode\": \"markers+lines\", \"type\": \"scattermapbox\"}, {\"lat\": [40.745712100000006, 40.74322681432173], \"lon\": [-73.98194829, -73.97449783980845], \"marker\": {\"size\": 10}, \"mode\": \"markers+lines\", \"type\": \"scattermapbox\"}, {\"lat\": [40.71625008, 40.72019521437465], \"lon\": [-74.0091059, -74.0103006362915], \"marker\": {\"size\": 10}, \"mode\": \"markers+lines\", \"type\": \"scattermapbox\"}, {\"lat\": [40.746745000000004, 40.71754834], \"lon\": [-74.007756, -74.01322069], \"marker\": {\"size\": 10}, \"mode\": \"markers+lines\", \"type\": \"scattermapbox\"}],\n",
              "                        {\"mapbox\": {\"accesstoken\": \"pk.eyJ1IjoiYWxhc3RyYTMyIiwiYSI6ImNrMjNpem1lbzI1eTYzbWwyMXJjNXZyZzYifQ.G6fW1N9gmG-PF4HJm-9BDw\", \"center\": {\"lat\": 40.7428, \"lon\": -74.006}, \"style\": \"dark\", \"zoom\": 10.8}, \"margin\": {\"b\": 0, \"l\": 0, \"r\": 0, \"t\": 0}, \"template\": {\"data\": {\"bar\": [{\"error_x\": {\"color\": \"#2a3f5f\"}, \"error_y\": {\"color\": \"#2a3f5f\"}, \"marker\": {\"line\": {\"color\": \"#E5ECF6\", \"width\": 0.5}}, \"type\": \"bar\"}], \"barpolar\": [{\"marker\": {\"line\": {\"color\": \"#E5ECF6\", \"width\": 0.5}}, \"type\": \"barpolar\"}], \"carpet\": [{\"aaxis\": {\"endlinecolor\": \"#2a3f5f\", \"gridcolor\": \"white\", \"linecolor\": \"white\", \"minorgridcolor\": \"white\", \"startlinecolor\": \"#2a3f5f\"}, \"baxis\": {\"endlinecolor\": \"#2a3f5f\", \"gridcolor\": \"white\", \"linecolor\": \"white\", \"minorgridcolor\": \"white\", \"startlinecolor\": \"#2a3f5f\"}, \"type\": \"carpet\"}], \"choropleth\": [{\"colorbar\": {\"outlinewidth\": 0, \"ticks\": \"\"}, \"type\": \"choropleth\"}], \"contour\": [{\"colorbar\": {\"outlinewidth\": 0, \"ticks\": \"\"}, \"colorscale\": [[0.0, \"#0d0887\"], [0.1111111111111111, \"#46039f\"], [0.2222222222222222, \"#7201a8\"], [0.3333333333333333, \"#9c179e\"], [0.4444444444444444, \"#bd3786\"], [0.5555555555555556, \"#d8576b\"], [0.6666666666666666, \"#ed7953\"], [0.7777777777777778, \"#fb9f3a\"], [0.8888888888888888, \"#fdca26\"], [1.0, \"#f0f921\"]], \"type\": \"contour\"}], \"contourcarpet\": [{\"colorbar\": {\"outlinewidth\": 0, \"ticks\": \"\"}, \"type\": \"contourcarpet\"}], \"heatmap\": [{\"colorbar\": {\"outlinewidth\": 0, \"ticks\": \"\"}, \"colorscale\": [[0.0, \"#0d0887\"], [0.1111111111111111, \"#46039f\"], [0.2222222222222222, \"#7201a8\"], [0.3333333333333333, \"#9c179e\"], [0.4444444444444444, \"#bd3786\"], [0.5555555555555556, \"#d8576b\"], [0.6666666666666666, \"#ed7953\"], [0.7777777777777778, \"#fb9f3a\"], [0.8888888888888888, \"#fdca26\"], [1.0, \"#f0f921\"]], \"type\": \"heatmap\"}], \"heatmapgl\": [{\"colorbar\": {\"outlinewidth\": 0, \"ticks\": \"\"}, \"colorscale\": [[0.0, \"#0d0887\"], [0.1111111111111111, \"#46039f\"], [0.2222222222222222, \"#7201a8\"], [0.3333333333333333, \"#9c179e\"], [0.4444444444444444, \"#bd3786\"], [0.5555555555555556, \"#d8576b\"], [0.6666666666666666, \"#ed7953\"], [0.7777777777777778, \"#fb9f3a\"], [0.8888888888888888, \"#fdca26\"], [1.0, \"#f0f921\"]], \"type\": \"heatmapgl\"}], \"histogram\": [{\"marker\": {\"colorbar\": {\"outlinewidth\": 0, \"ticks\": \"\"}}, \"type\": \"histogram\"}], \"histogram2d\": [{\"colorbar\": {\"outlinewidth\": 0, \"ticks\": \"\"}, \"colorscale\": [[0.0, \"#0d0887\"], [0.1111111111111111, \"#46039f\"], [0.2222222222222222, \"#7201a8\"], [0.3333333333333333, \"#9c179e\"], [0.4444444444444444, \"#bd3786\"], [0.5555555555555556, \"#d8576b\"], [0.6666666666666666, \"#ed7953\"], [0.7777777777777778, \"#fb9f3a\"], [0.8888888888888888, \"#fdca26\"], [1.0, \"#f0f921\"]], \"type\": \"histogram2d\"}], \"histogram2dcontour\": [{\"colorbar\": {\"outlinewidth\": 0, \"ticks\": \"\"}, \"colorscale\": [[0.0, \"#0d0887\"], [0.1111111111111111, \"#46039f\"], [0.2222222222222222, \"#7201a8\"], [0.3333333333333333, \"#9c179e\"], [0.4444444444444444, \"#bd3786\"], [0.5555555555555556, \"#d8576b\"], [0.6666666666666666, \"#ed7953\"], [0.7777777777777778, \"#fb9f3a\"], [0.8888888888888888, \"#fdca26\"], [1.0, \"#f0f921\"]], \"type\": \"histogram2dcontour\"}], \"mesh3d\": [{\"colorbar\": {\"outlinewidth\": 0, \"ticks\": \"\"}, \"type\": \"mesh3d\"}], \"parcoords\": [{\"line\": {\"colorbar\": {\"outlinewidth\": 0, \"ticks\": \"\"}}, \"type\": \"parcoords\"}], \"scatter\": [{\"marker\": {\"colorbar\": {\"outlinewidth\": 0, \"ticks\": \"\"}}, \"type\": \"scatter\"}], \"scatter3d\": [{\"line\": {\"colorbar\": {\"outlinewidth\": 0, \"ticks\": \"\"}}, \"marker\": {\"colorbar\": {\"outlinewidth\": 0, \"ticks\": \"\"}}, \"type\": \"scatter3d\"}], \"scattercarpet\": [{\"marker\": {\"colorbar\": {\"outlinewidth\": 0, \"ticks\": \"\"}}, \"type\": \"scattercarpet\"}], \"scattergeo\": [{\"marker\": {\"colorbar\": {\"outlinewidth\": 0, \"ticks\": \"\"}}, \"type\": \"scattergeo\"}], \"scattergl\": [{\"marker\": {\"colorbar\": {\"outlinewidth\": 0, \"ticks\": \"\"}}, \"type\": \"scattergl\"}], \"scattermapbox\": [{\"marker\": {\"colorbar\": {\"outlinewidth\": 0, \"ticks\": \"\"}}, \"type\": \"scattermapbox\"}], \"scatterpolar\": [{\"marker\": {\"colorbar\": {\"outlinewidth\": 0, \"ticks\": \"\"}}, \"type\": \"scatterpolar\"}], \"scatterpolargl\": [{\"marker\": {\"colorbar\": {\"outlinewidth\": 0, \"ticks\": \"\"}}, \"type\": \"scatterpolargl\"}], \"scatterternary\": [{\"marker\": {\"colorbar\": {\"outlinewidth\": 0, \"ticks\": \"\"}}, \"type\": \"scatterternary\"}], \"surface\": [{\"colorbar\": {\"outlinewidth\": 0, \"ticks\": \"\"}, \"colorscale\": [[0.0, \"#0d0887\"], [0.1111111111111111, \"#46039f\"], [0.2222222222222222, \"#7201a8\"], [0.3333333333333333, \"#9c179e\"], [0.4444444444444444, \"#bd3786\"], [0.5555555555555556, \"#d8576b\"], [0.6666666666666666, \"#ed7953\"], [0.7777777777777778, \"#fb9f3a\"], [0.8888888888888888, \"#fdca26\"], [1.0, \"#f0f921\"]], \"type\": \"surface\"}], \"table\": [{\"cells\": {\"fill\": {\"color\": \"#EBF0F8\"}, \"line\": {\"color\": \"white\"}}, \"header\": {\"fill\": {\"color\": \"#C8D4E3\"}, \"line\": {\"color\": \"white\"}}, \"type\": \"table\"}]}, \"layout\": {\"annotationdefaults\": {\"arrowcolor\": \"#2a3f5f\", \"arrowhead\": 0, \"arrowwidth\": 1}, \"colorscale\": {\"diverging\": [[0, \"#8e0152\"], [0.1, \"#c51b7d\"], [0.2, \"#de77ae\"], [0.3, \"#f1b6da\"], [0.4, \"#fde0ef\"], [0.5, \"#f7f7f7\"], [0.6, \"#e6f5d0\"], [0.7, \"#b8e186\"], [0.8, \"#7fbc41\"], [0.9, \"#4d9221\"], [1, \"#276419\"]], \"sequential\": [[0.0, \"#0d0887\"], [0.1111111111111111, \"#46039f\"], [0.2222222222222222, \"#7201a8\"], [0.3333333333333333, \"#9c179e\"], [0.4444444444444444, \"#bd3786\"], [0.5555555555555556, \"#d8576b\"], [0.6666666666666666, \"#ed7953\"], [0.7777777777777778, \"#fb9f3a\"], [0.8888888888888888, \"#fdca26\"], [1.0, \"#f0f921\"]], \"sequentialminus\": [[0.0, \"#0d0887\"], [0.1111111111111111, \"#46039f\"], [0.2222222222222222, \"#7201a8\"], [0.3333333333333333, \"#9c179e\"], [0.4444444444444444, \"#bd3786\"], [0.5555555555555556, \"#d8576b\"], [0.6666666666666666, \"#ed7953\"], [0.7777777777777778, \"#fb9f3a\"], [0.8888888888888888, \"#fdca26\"], [1.0, \"#f0f921\"]]}, \"colorway\": [\"#636efa\", \"#EF553B\", \"#00cc96\", \"#ab63fa\", \"#FFA15A\", \"#19d3f3\", \"#FF6692\", \"#B6E880\", \"#FF97FF\", \"#FECB52\"], \"font\": {\"color\": \"#2a3f5f\"}, \"geo\": {\"bgcolor\": \"white\", \"lakecolor\": \"white\", \"landcolor\": \"#E5ECF6\", \"showlakes\": true, \"showland\": true, \"subunitcolor\": \"white\"}, \"hoverlabel\": {\"align\": \"left\"}, \"hovermode\": \"closest\", \"mapbox\": {\"style\": \"light\"}, \"paper_bgcolor\": \"white\", \"plot_bgcolor\": \"#E5ECF6\", \"polar\": {\"angularaxis\": {\"gridcolor\": \"white\", \"linecolor\": \"white\", \"ticks\": \"\"}, \"bgcolor\": \"#E5ECF6\", \"radialaxis\": {\"gridcolor\": \"white\", \"linecolor\": \"white\", \"ticks\": \"\"}}, \"scene\": {\"xaxis\": {\"backgroundcolor\": \"#E5ECF6\", \"gridcolor\": \"white\", \"gridwidth\": 2, \"linecolor\": \"white\", \"showbackground\": true, \"ticks\": \"\", \"zerolinecolor\": \"white\"}, \"yaxis\": {\"backgroundcolor\": \"#E5ECF6\", \"gridcolor\": \"white\", \"gridwidth\": 2, \"linecolor\": \"white\", \"showbackground\": true, \"ticks\": \"\", \"zerolinecolor\": \"white\"}, \"zaxis\": {\"backgroundcolor\": \"#E5ECF6\", \"gridcolor\": \"white\", \"gridwidth\": 2, \"linecolor\": \"white\", \"showbackground\": true, \"ticks\": \"\", \"zerolinecolor\": \"white\"}}, \"shapedefaults\": {\"line\": {\"color\": \"#2a3f5f\"}}, \"ternary\": {\"aaxis\": {\"gridcolor\": \"white\", \"linecolor\": \"white\", \"ticks\": \"\"}, \"baxis\": {\"gridcolor\": \"white\", \"linecolor\": \"white\", \"ticks\": \"\"}, \"bgcolor\": \"#E5ECF6\", \"caxis\": {\"gridcolor\": \"white\", \"linecolor\": \"white\", \"ticks\": \"\"}}, \"title\": {\"x\": 0.05}, \"xaxis\": {\"automargin\": true, \"gridcolor\": \"white\", \"linecolor\": \"white\", \"ticks\": \"\", \"zerolinecolor\": \"white\", \"zerolinewidth\": 2}, \"yaxis\": {\"automargin\": true, \"gridcolor\": \"white\", \"linecolor\": \"white\", \"ticks\": \"\", \"zerolinecolor\": \"white\", \"zerolinewidth\": 2}}}},\n",
              "                        {\"responsive\": true}\n",
              "                    ).then(function(){\n",
              "                            \n",
              "var gd = document.getElementById('82b9fbab-08cb-4532-a48e-7cced029b200');\n",
              "var x = new MutationObserver(function (mutations, observer) {{\n",
              "        var display = window.getComputedStyle(gd).display;\n",
              "        if (!display || display === 'none') {{\n",
              "            console.log([gd, 'removed!']);\n",
              "            Plotly.purge(gd);\n",
              "            observer.disconnect();\n",
              "        }}\n",
              "}});\n",
              "\n",
              "// Listen for the removal of the full notebook cells\n",
              "var notebookContainer = gd.closest('#notebook-container');\n",
              "if (notebookContainer) {{\n",
              "    x.observe(notebookContainer, {childList: true});\n",
              "}}\n",
              "\n",
              "// Listen for the clearing of the current output cell\n",
              "var outputEl = gd.closest('.output');\n",
              "if (outputEl) {{\n",
              "    x.observe(outputEl, {childList: true});\n",
              "}}\n",
              "\n",
              "                        })\n",
              "                };\n",
              "                \n",
              "            </script>\n",
              "        </div>\n",
              "</body>\n",
              "</html>"
            ]
          },
          "metadata": {
            "tags": []
          }
        }
      ]
    },
    {
      "cell_type": "markdown",
      "metadata": {
        "id": "6frrpAElTOLU",
        "colab_type": "text"
      },
      "source": [
        "# Distances for Commute Trips"
      ]
    },
    {
      "cell_type": "markdown",
      "metadata": {
        "id": "TL0gHLA2TQf5",
        "colab_type": "text"
      },
      "source": [
        "Creating a dataset that includes distances incurred during trips according to absolute variance in Latitude and Longitude. Considering routes that have at least 100 trips."
      ]
    },
    {
      "cell_type": "code",
      "metadata": {
        "id": "s_LpaMn0biUt",
        "colab_type": "code",
        "colab": {}
      },
      "source": [
        "\n",
        "trip_data_commute_g=trip_data_commute.copy()\n",
        "trip_data_commute_g['distance']=abs(trip_data_commute_g['start_station_latitude']-trip_data_commute_g['end_station_latitude'])+abs(trip_data_commute_g['end_station_longitude']-trip_data_commute_g['start_station_longitude'])\n",
        "trip_data_commute_g['trip_longitude'] = list(zip(trip_data_commute_g.start_station_longitude,trip_data_commute_g.end_station_longitude))\n",
        "trip_data_commute_g['trip_latitude'] = list(zip(trip_data_commute_g.start_station_latitude,trip_data_commute_g.end_station_latitude))\n",
        "trip_data_commute_g=trip_data_commute_g[trip_data_commute_g['total_rides']>100]\n"
      ],
      "execution_count": 0,
      "outputs": []
    },
    {
      "cell_type": "markdown",
      "metadata": {
        "id": "VyOghFWjUOJa",
        "colab_type": "text"
      },
      "source": [
        "## Graphing Long Distance Commute Trips"
      ]
    },
    {
      "cell_type": "code",
      "metadata": {
        "id": "IKL9gjBZUFRD",
        "colab_type": "code",
        "colab": {
          "base_uri": "https://localhost:8080/",
          "height": 531
        },
        "outputId": "c82ea7cf-c7fc-4cc9-8db4-a35219c27582"
      },
      "source": [
        "trip_data_commute_gg=trip_data_commute_g.sort_values(by = 'distance',ascending=False).head(10).reset_index()\n",
        "trip_data_commute_gg.head(10)"
      ],
      "execution_count": 48,
      "outputs": [
        {
          "output_type": "execute_result",
          "data": {
            "text/html": [
              "<div>\n",
              "<style scoped>\n",
              "    .dataframe tbody tr th:only-of-type {\n",
              "        vertical-align: middle;\n",
              "    }\n",
              "\n",
              "    .dataframe tbody tr th {\n",
              "        vertical-align: top;\n",
              "    }\n",
              "\n",
              "    .dataframe thead th {\n",
              "        text-align: right;\n",
              "    }\n",
              "</style>\n",
              "<table border=\"1\" class=\"dataframe\">\n",
              "  <thead>\n",
              "    <tr style=\"text-align: right;\">\n",
              "      <th></th>\n",
              "      <th>index</th>\n",
              "      <th>start_station_name</th>\n",
              "      <th>end_station_name</th>\n",
              "      <th>start_station_latitude</th>\n",
              "      <th>start_station_longitude</th>\n",
              "      <th>end_station_latitude</th>\n",
              "      <th>end_station_longitude</th>\n",
              "      <th>total_rides</th>\n",
              "      <th>distance</th>\n",
              "      <th>trip_longitude</th>\n",
              "      <th>trip_latitude</th>\n",
              "    </tr>\n",
              "  </thead>\n",
              "  <tbody>\n",
              "    <tr>\n",
              "      <th>0</th>\n",
              "      <td>30383</td>\n",
              "      <td>Broadway &amp; Moylan Pl</td>\n",
              "      <td>12 Ave &amp; W 40 St</td>\n",
              "      <td>40.814326</td>\n",
              "      <td>-73.959025</td>\n",
              "      <td>40.760875</td>\n",
              "      <td>-74.002777</td>\n",
              "      <td>182</td>\n",
              "      <td>0.097202</td>\n",
              "      <td>(-73.9590255, -74.00277668)</td>\n",
              "      <td>(40.8143256, 40.76087502)</td>\n",
              "    </tr>\n",
              "    <tr>\n",
              "      <th>1</th>\n",
              "      <td>118346</td>\n",
              "      <td>Riverside Blvd &amp; W 67 St</td>\n",
              "      <td>West St &amp; Chambers St</td>\n",
              "      <td>40.777507</td>\n",
              "      <td>-73.988886</td>\n",
              "      <td>40.717548</td>\n",
              "      <td>-74.013221</td>\n",
              "      <td>132</td>\n",
              "      <td>0.084293</td>\n",
              "      <td>(-73.98888587951659, -74.01322069)</td>\n",
              "      <td>(40.777507027547976, 40.71754834)</td>\n",
              "    </tr>\n",
              "    <tr>\n",
              "      <th>2</th>\n",
              "      <td>4252</td>\n",
              "      <td>11 Ave &amp; W 59 St</td>\n",
              "      <td>West St &amp; Chambers St</td>\n",
              "      <td>40.771497</td>\n",
              "      <td>-73.990460</td>\n",
              "      <td>40.717548</td>\n",
              "      <td>-74.013221</td>\n",
              "      <td>122</td>\n",
              "      <td>0.076709</td>\n",
              "      <td>(-73.99046033620834, -74.01322069)</td>\n",
              "      <td>(40.771496710544405, 40.71754834)</td>\n",
              "    </tr>\n",
              "    <tr>\n",
              "      <th>3</th>\n",
              "      <td>4538</td>\n",
              "      <td>12 Ave &amp; W 40 St</td>\n",
              "      <td>Little West St &amp; 1 Pl</td>\n",
              "      <td>40.760875</td>\n",
              "      <td>-74.002777</td>\n",
              "      <td>40.705693</td>\n",
              "      <td>-74.016777</td>\n",
              "      <td>148</td>\n",
              "      <td>0.069183</td>\n",
              "      <td>(-74.00277668, -74.01677685)</td>\n",
              "      <td>(40.76087502, 40.70569254)</td>\n",
              "    </tr>\n",
              "    <tr>\n",
              "      <th>4</th>\n",
              "      <td>145293</td>\n",
              "      <td>W 52 St &amp; 11 Ave</td>\n",
              "      <td>West St &amp; Chambers St</td>\n",
              "      <td>40.767272</td>\n",
              "      <td>-73.993929</td>\n",
              "      <td>40.717548</td>\n",
              "      <td>-74.013221</td>\n",
              "      <td>159</td>\n",
              "      <td>0.069016</td>\n",
              "      <td>(-73.99392888, -74.01322069)</td>\n",
              "      <td>(40.76727216, 40.71754834)</td>\n",
              "    </tr>\n",
              "    <tr>\n",
              "      <th>5</th>\n",
              "      <td>4386</td>\n",
              "      <td>12 Ave &amp; W 40 St</td>\n",
              "      <td>Broadway &amp; Battery Pl</td>\n",
              "      <td>40.760875</td>\n",
              "      <td>-74.002777</td>\n",
              "      <td>40.704633</td>\n",
              "      <td>-74.013617</td>\n",
              "      <td>345</td>\n",
              "      <td>0.067082</td>\n",
              "      <td>(-74.00277668, -74.01361706)</td>\n",
              "      <td>(40.76087502, 40.70463334)</td>\n",
              "    </tr>\n",
              "    <tr>\n",
              "      <th>6</th>\n",
              "      <td>17938</td>\n",
              "      <td>8 Ave &amp; W 31 St</td>\n",
              "      <td>Broadway &amp; Battery Pl</td>\n",
              "      <td>40.750585</td>\n",
              "      <td>-73.994685</td>\n",
              "      <td>40.704633</td>\n",
              "      <td>-74.013617</td>\n",
              "      <td>140</td>\n",
              "      <td>0.064884</td>\n",
              "      <td>(-73.9946848154068, -74.01361706)</td>\n",
              "      <td>(40.7505853470215, 40.70463334)</td>\n",
              "    </tr>\n",
              "    <tr>\n",
              "      <th>7</th>\n",
              "      <td>65465</td>\n",
              "      <td>E 43 St &amp; 5 Ave</td>\n",
              "      <td>North Moore St &amp; Greenwich St</td>\n",
              "      <td>40.754121</td>\n",
              "      <td>-73.980252</td>\n",
              "      <td>40.720195</td>\n",
              "      <td>-74.010301</td>\n",
              "      <td>137</td>\n",
              "      <td>0.063974</td>\n",
              "      <td>(-73.98025184869765, -74.0103006362915)</td>\n",
              "      <td>(40.754120810779256, 40.72019521437465)</td>\n",
              "    </tr>\n",
              "    <tr>\n",
              "      <th>8</th>\n",
              "      <td>4574</td>\n",
              "      <td>12 Ave &amp; W 40 St</td>\n",
              "      <td>South End Ave &amp; Liberty St</td>\n",
              "      <td>40.760875</td>\n",
              "      <td>-74.002777</td>\n",
              "      <td>40.711512</td>\n",
              "      <td>-74.015756</td>\n",
              "      <td>164</td>\n",
              "      <td>0.062342</td>\n",
              "      <td>(-74.00277668, -74.01575600000001)</td>\n",
              "      <td>(40.76087502, 40.711512)</td>\n",
              "    </tr>\n",
              "    <tr>\n",
              "      <th>9</th>\n",
              "      <td>60362</td>\n",
              "      <td>E 20 St &amp; FDR Drive</td>\n",
              "      <td>Old Slip &amp; Front St</td>\n",
              "      <td>40.733143</td>\n",
              "      <td>-73.975739</td>\n",
              "      <td>40.703799</td>\n",
              "      <td>-74.008387</td>\n",
              "      <td>110</td>\n",
              "      <td>0.061991</td>\n",
              "      <td>(-73.97573881, -74.00838676)</td>\n",
              "      <td>(40.73314259, 40.703799200000006)</td>\n",
              "    </tr>\n",
              "  </tbody>\n",
              "</table>\n",
              "</div>"
            ],
            "text/plain": [
              "    index        start_station_name               end_station_name  \\\n",
              "0   30383      Broadway & Moylan Pl               12 Ave & W 40 St   \n",
              "1  118346  Riverside Blvd & W 67 St          West St & Chambers St   \n",
              "2    4252          11 Ave & W 59 St          West St & Chambers St   \n",
              "3    4538          12 Ave & W 40 St          Little West St & 1 Pl   \n",
              "4  145293          W 52 St & 11 Ave          West St & Chambers St   \n",
              "5    4386          12 Ave & W 40 St          Broadway & Battery Pl   \n",
              "6   17938           8 Ave & W 31 St          Broadway & Battery Pl   \n",
              "7   65465           E 43 St & 5 Ave  North Moore St & Greenwich St   \n",
              "8    4574          12 Ave & W 40 St     South End Ave & Liberty St   \n",
              "9   60362       E 20 St & FDR Drive            Old Slip & Front St   \n",
              "\n",
              "   start_station_latitude  start_station_longitude  end_station_latitude  \\\n",
              "0               40.814326               -73.959025             40.760875   \n",
              "1               40.777507               -73.988886             40.717548   \n",
              "2               40.771497               -73.990460             40.717548   \n",
              "3               40.760875               -74.002777             40.705693   \n",
              "4               40.767272               -73.993929             40.717548   \n",
              "5               40.760875               -74.002777             40.704633   \n",
              "6               40.750585               -73.994685             40.704633   \n",
              "7               40.754121               -73.980252             40.720195   \n",
              "8               40.760875               -74.002777             40.711512   \n",
              "9               40.733143               -73.975739             40.703799   \n",
              "\n",
              "   end_station_longitude  total_rides  distance  \\\n",
              "0             -74.002777          182  0.097202   \n",
              "1             -74.013221          132  0.084293   \n",
              "2             -74.013221          122  0.076709   \n",
              "3             -74.016777          148  0.069183   \n",
              "4             -74.013221          159  0.069016   \n",
              "5             -74.013617          345  0.067082   \n",
              "6             -74.013617          140  0.064884   \n",
              "7             -74.010301          137  0.063974   \n",
              "8             -74.015756          164  0.062342   \n",
              "9             -74.008387          110  0.061991   \n",
              "\n",
              "                            trip_longitude  \\\n",
              "0              (-73.9590255, -74.00277668)   \n",
              "1       (-73.98888587951659, -74.01322069)   \n",
              "2       (-73.99046033620834, -74.01322069)   \n",
              "3             (-74.00277668, -74.01677685)   \n",
              "4             (-73.99392888, -74.01322069)   \n",
              "5             (-74.00277668, -74.01361706)   \n",
              "6        (-73.9946848154068, -74.01361706)   \n",
              "7  (-73.98025184869765, -74.0103006362915)   \n",
              "8       (-74.00277668, -74.01575600000001)   \n",
              "9             (-73.97573881, -74.00838676)   \n",
              "\n",
              "                             trip_latitude  \n",
              "0                (40.8143256, 40.76087502)  \n",
              "1        (40.777507027547976, 40.71754834)  \n",
              "2        (40.771496710544405, 40.71754834)  \n",
              "3               (40.76087502, 40.70569254)  \n",
              "4               (40.76727216, 40.71754834)  \n",
              "5               (40.76087502, 40.70463334)  \n",
              "6          (40.7505853470215, 40.70463334)  \n",
              "7  (40.754120810779256, 40.72019521437465)  \n",
              "8                 (40.76087502, 40.711512)  \n",
              "9        (40.73314259, 40.703799200000006)  "
            ]
          },
          "metadata": {
            "tags": []
          },
          "execution_count": 48
        }
      ]
    },
    {
      "cell_type": "code",
      "metadata": {
        "id": "FR1Ny8zwe4x_",
        "colab_type": "code",
        "outputId": "2fbfa85c-6d72-4557-a037-b3c5b3921064",
        "colab": {
          "base_uri": "https://localhost:8080/",
          "height": 542
        }
      },
      "source": [
        "\n",
        "\n",
        "fig = go.Figure(go.Scattermapbox(\n",
        "    mode = \"markers+lines\",\n",
        "    lon = trip_data_commute_gg['trip_longitude'][0], \n",
        "    lat = trip_data_commute_gg['trip_latitude'][0], \n",
        "    marker = {'size': 10}))\n",
        "for i in range(1,10):\n",
        "  fig.add_trace(go.Scattermapbox(\n",
        "    mode = \"markers+lines\",      \n",
        "    lon = trip_data_commute_gg['trip_longitude'][i], \n",
        "    lat = trip_data_commute_gg['trip_latitude'][i], \n",
        "    marker = {'size': 10}))\n",
        "\n",
        "token ='pk.eyJ1IjoiYWxhc3RyYTMyIiwiYSI6ImNrMjNpem1lbzI1eTYzbWwyMXJjNXZyZzYifQ.G6fW1N9gmG-PF4HJm-9BDw'\n",
        "fig.update_layout(\n",
        "    margin ={'l':0,'t':0,'b':0,'r':0},\n",
        "    mapbox = {\n",
        "        'center': {'lon': -74.0060, 'lat': 40.7428},\n",
        "        'zoom': 10.8,\n",
        "        'style': \"dark\",\n",
        "        'accesstoken':token,\n",
        "    })\n",
        "\n",
        "fig.show()"
      ],
      "execution_count": 46,
      "outputs": [
        {
          "output_type": "display_data",
          "data": {
            "text/html": [
              "<html>\n",
              "<head><meta charset=\"utf-8\" /></head>\n",
              "<body>\n",
              "    <div>\n",
              "            <script src=\"https://cdnjs.cloudflare.com/ajax/libs/mathjax/2.7.5/MathJax.js?config=TeX-AMS-MML_SVG\"></script><script type=\"text/javascript\">if (window.MathJax) {MathJax.Hub.Config({SVG: {font: \"STIX-Web\"}});}</script>\n",
              "                <script type=\"text/javascript\">window.PlotlyConfig = {MathJaxConfig: 'local'};</script>\n",
              "        <script src=\"https://cdn.plot.ly/plotly-latest.min.js\"></script>    \n",
              "            <div id=\"f3acd332-0842-440a-a207-077da3425040\" class=\"plotly-graph-div\" style=\"height:525px; width:100%;\"></div>\n",
              "            <script type=\"text/javascript\">\n",
              "                \n",
              "                    window.PLOTLYENV=window.PLOTLYENV || {};\n",
              "                    \n",
              "                if (document.getElementById(\"f3acd332-0842-440a-a207-077da3425040\")) {\n",
              "                    Plotly.newPlot(\n",
              "                        'f3acd332-0842-440a-a207-077da3425040',\n",
              "                        [{\"lat\": [40.8143256, 40.76087502], \"lon\": [-73.9590255, -74.00277668], \"marker\": {\"size\": 10}, \"mode\": \"markers+lines\", \"type\": \"scattermapbox\"}, {\"lat\": [40.777507027547976, 40.71754834], \"lon\": [-73.98888587951659, -74.01322069], \"marker\": {\"size\": 10}, \"mode\": \"markers+lines\", \"type\": \"scattermapbox\"}, {\"lat\": [40.771496710544405, 40.71754834], \"lon\": [-73.99046033620834, -74.01322069], \"marker\": {\"size\": 10}, \"mode\": \"markers+lines\", \"type\": \"scattermapbox\"}, {\"lat\": [40.76087502, 40.70569254], \"lon\": [-74.00277668, -74.01677685], \"marker\": {\"size\": 10}, \"mode\": \"markers+lines\", \"type\": \"scattermapbox\"}, {\"lat\": [40.76727216, 40.71754834], \"lon\": [-73.99392888, -74.01322069], \"marker\": {\"size\": 10}, \"mode\": \"markers+lines\", \"type\": \"scattermapbox\"}, {\"lat\": [40.76087502, 40.70463334], \"lon\": [-74.00277668, -74.01361706], \"marker\": {\"size\": 10}, \"mode\": \"markers+lines\", \"type\": \"scattermapbox\"}, {\"lat\": [40.7505853470215, 40.70463334], \"lon\": [-73.9946848154068, -74.01361706], \"marker\": {\"size\": 10}, \"mode\": \"markers+lines\", \"type\": \"scattermapbox\"}, {\"lat\": [40.754120810779256, 40.72019521437465], \"lon\": [-73.98025184869765, -74.0103006362915], \"marker\": {\"size\": 10}, \"mode\": \"markers+lines\", \"type\": \"scattermapbox\"}, {\"lat\": [40.76087502, 40.711512], \"lon\": [-74.00277668, -74.01575600000001], \"marker\": {\"size\": 10}, \"mode\": \"markers+lines\", \"type\": \"scattermapbox\"}, {\"lat\": [40.73314259, 40.703799200000006], \"lon\": [-73.97573881, -74.00838676], \"marker\": {\"size\": 10}, \"mode\": \"markers+lines\", \"type\": \"scattermapbox\"}],\n",
              "                        {\"mapbox\": {\"accesstoken\": \"pk.eyJ1IjoiYWxhc3RyYTMyIiwiYSI6ImNrMjNpem1lbzI1eTYzbWwyMXJjNXZyZzYifQ.G6fW1N9gmG-PF4HJm-9BDw\", \"center\": {\"lat\": 40.7428, \"lon\": -74.006}, \"style\": \"dark\", \"zoom\": 10.8}, \"margin\": {\"b\": 0, \"l\": 0, \"r\": 0, \"t\": 0}, \"template\": {\"data\": {\"bar\": [{\"error_x\": {\"color\": \"#2a3f5f\"}, \"error_y\": {\"color\": \"#2a3f5f\"}, \"marker\": {\"line\": {\"color\": \"#E5ECF6\", \"width\": 0.5}}, \"type\": \"bar\"}], \"barpolar\": [{\"marker\": {\"line\": {\"color\": \"#E5ECF6\", \"width\": 0.5}}, \"type\": \"barpolar\"}], \"carpet\": [{\"aaxis\": {\"endlinecolor\": \"#2a3f5f\", \"gridcolor\": \"white\", \"linecolor\": \"white\", \"minorgridcolor\": \"white\", \"startlinecolor\": \"#2a3f5f\"}, \"baxis\": {\"endlinecolor\": \"#2a3f5f\", \"gridcolor\": \"white\", \"linecolor\": \"white\", \"minorgridcolor\": \"white\", \"startlinecolor\": \"#2a3f5f\"}, \"type\": \"carpet\"}], \"choropleth\": [{\"colorbar\": {\"outlinewidth\": 0, \"ticks\": \"\"}, \"type\": \"choropleth\"}], \"contour\": [{\"colorbar\": {\"outlinewidth\": 0, \"ticks\": \"\"}, \"colorscale\": [[0.0, \"#0d0887\"], [0.1111111111111111, \"#46039f\"], [0.2222222222222222, \"#7201a8\"], [0.3333333333333333, \"#9c179e\"], [0.4444444444444444, \"#bd3786\"], [0.5555555555555556, \"#d8576b\"], [0.6666666666666666, \"#ed7953\"], [0.7777777777777778, \"#fb9f3a\"], [0.8888888888888888, \"#fdca26\"], [1.0, \"#f0f921\"]], \"type\": \"contour\"}], \"contourcarpet\": [{\"colorbar\": {\"outlinewidth\": 0, \"ticks\": \"\"}, \"type\": \"contourcarpet\"}], \"heatmap\": [{\"colorbar\": {\"outlinewidth\": 0, \"ticks\": \"\"}, \"colorscale\": [[0.0, \"#0d0887\"], [0.1111111111111111, \"#46039f\"], [0.2222222222222222, \"#7201a8\"], [0.3333333333333333, \"#9c179e\"], [0.4444444444444444, \"#bd3786\"], [0.5555555555555556, \"#d8576b\"], [0.6666666666666666, \"#ed7953\"], [0.7777777777777778, \"#fb9f3a\"], [0.8888888888888888, \"#fdca26\"], [1.0, \"#f0f921\"]], \"type\": \"heatmap\"}], \"heatmapgl\": [{\"colorbar\": {\"outlinewidth\": 0, \"ticks\": \"\"}, \"colorscale\": [[0.0, \"#0d0887\"], [0.1111111111111111, \"#46039f\"], [0.2222222222222222, \"#7201a8\"], [0.3333333333333333, \"#9c179e\"], [0.4444444444444444, \"#bd3786\"], [0.5555555555555556, \"#d8576b\"], [0.6666666666666666, \"#ed7953\"], [0.7777777777777778, \"#fb9f3a\"], [0.8888888888888888, \"#fdca26\"], [1.0, \"#f0f921\"]], \"type\": \"heatmapgl\"}], \"histogram\": [{\"marker\": {\"colorbar\": {\"outlinewidth\": 0, \"ticks\": \"\"}}, \"type\": \"histogram\"}], \"histogram2d\": [{\"colorbar\": {\"outlinewidth\": 0, \"ticks\": \"\"}, \"colorscale\": [[0.0, \"#0d0887\"], [0.1111111111111111, \"#46039f\"], [0.2222222222222222, \"#7201a8\"], [0.3333333333333333, \"#9c179e\"], [0.4444444444444444, \"#bd3786\"], [0.5555555555555556, \"#d8576b\"], [0.6666666666666666, \"#ed7953\"], [0.7777777777777778, \"#fb9f3a\"], [0.8888888888888888, \"#fdca26\"], [1.0, \"#f0f921\"]], \"type\": \"histogram2d\"}], \"histogram2dcontour\": [{\"colorbar\": {\"outlinewidth\": 0, \"ticks\": \"\"}, \"colorscale\": [[0.0, \"#0d0887\"], [0.1111111111111111, \"#46039f\"], [0.2222222222222222, \"#7201a8\"], [0.3333333333333333, \"#9c179e\"], [0.4444444444444444, \"#bd3786\"], [0.5555555555555556, \"#d8576b\"], [0.6666666666666666, \"#ed7953\"], [0.7777777777777778, \"#fb9f3a\"], [0.8888888888888888, \"#fdca26\"], [1.0, \"#f0f921\"]], \"type\": \"histogram2dcontour\"}], \"mesh3d\": [{\"colorbar\": {\"outlinewidth\": 0, \"ticks\": \"\"}, \"type\": \"mesh3d\"}], \"parcoords\": [{\"line\": {\"colorbar\": {\"outlinewidth\": 0, \"ticks\": \"\"}}, \"type\": \"parcoords\"}], \"scatter\": [{\"marker\": {\"colorbar\": {\"outlinewidth\": 0, \"ticks\": \"\"}}, \"type\": \"scatter\"}], \"scatter3d\": [{\"line\": {\"colorbar\": {\"outlinewidth\": 0, \"ticks\": \"\"}}, \"marker\": {\"colorbar\": {\"outlinewidth\": 0, \"ticks\": \"\"}}, \"type\": \"scatter3d\"}], \"scattercarpet\": [{\"marker\": {\"colorbar\": {\"outlinewidth\": 0, \"ticks\": \"\"}}, \"type\": \"scattercarpet\"}], \"scattergeo\": [{\"marker\": {\"colorbar\": {\"outlinewidth\": 0, \"ticks\": \"\"}}, \"type\": \"scattergeo\"}], \"scattergl\": [{\"marker\": {\"colorbar\": {\"outlinewidth\": 0, \"ticks\": \"\"}}, \"type\": \"scattergl\"}], \"scattermapbox\": [{\"marker\": {\"colorbar\": {\"outlinewidth\": 0, \"ticks\": \"\"}}, \"type\": \"scattermapbox\"}], \"scatterpolar\": [{\"marker\": {\"colorbar\": {\"outlinewidth\": 0, \"ticks\": \"\"}}, \"type\": \"scatterpolar\"}], \"scatterpolargl\": [{\"marker\": {\"colorbar\": {\"outlinewidth\": 0, \"ticks\": \"\"}}, \"type\": \"scatterpolargl\"}], \"scatterternary\": [{\"marker\": {\"colorbar\": {\"outlinewidth\": 0, \"ticks\": \"\"}}, \"type\": \"scatterternary\"}], \"surface\": [{\"colorbar\": {\"outlinewidth\": 0, \"ticks\": \"\"}, \"colorscale\": [[0.0, \"#0d0887\"], [0.1111111111111111, \"#46039f\"], [0.2222222222222222, \"#7201a8\"], [0.3333333333333333, \"#9c179e\"], [0.4444444444444444, \"#bd3786\"], [0.5555555555555556, \"#d8576b\"], [0.6666666666666666, \"#ed7953\"], [0.7777777777777778, \"#fb9f3a\"], [0.8888888888888888, \"#fdca26\"], [1.0, \"#f0f921\"]], \"type\": \"surface\"}], \"table\": [{\"cells\": {\"fill\": {\"color\": \"#EBF0F8\"}, \"line\": {\"color\": \"white\"}}, \"header\": {\"fill\": {\"color\": \"#C8D4E3\"}, \"line\": {\"color\": \"white\"}}, \"type\": \"table\"}]}, \"layout\": {\"annotationdefaults\": {\"arrowcolor\": \"#2a3f5f\", \"arrowhead\": 0, \"arrowwidth\": 1}, \"colorscale\": {\"diverging\": [[0, \"#8e0152\"], [0.1, \"#c51b7d\"], [0.2, \"#de77ae\"], [0.3, \"#f1b6da\"], [0.4, \"#fde0ef\"], [0.5, \"#f7f7f7\"], [0.6, \"#e6f5d0\"], [0.7, \"#b8e186\"], [0.8, \"#7fbc41\"], [0.9, \"#4d9221\"], [1, \"#276419\"]], \"sequential\": [[0.0, \"#0d0887\"], [0.1111111111111111, \"#46039f\"], [0.2222222222222222, \"#7201a8\"], [0.3333333333333333, \"#9c179e\"], [0.4444444444444444, \"#bd3786\"], [0.5555555555555556, \"#d8576b\"], [0.6666666666666666, \"#ed7953\"], [0.7777777777777778, \"#fb9f3a\"], [0.8888888888888888, \"#fdca26\"], [1.0, \"#f0f921\"]], \"sequentialminus\": [[0.0, \"#0d0887\"], [0.1111111111111111, \"#46039f\"], [0.2222222222222222, \"#7201a8\"], [0.3333333333333333, \"#9c179e\"], [0.4444444444444444, \"#bd3786\"], [0.5555555555555556, \"#d8576b\"], [0.6666666666666666, \"#ed7953\"], [0.7777777777777778, \"#fb9f3a\"], [0.8888888888888888, \"#fdca26\"], [1.0, \"#f0f921\"]]}, \"colorway\": [\"#636efa\", \"#EF553B\", \"#00cc96\", \"#ab63fa\", \"#FFA15A\", \"#19d3f3\", \"#FF6692\", \"#B6E880\", \"#FF97FF\", \"#FECB52\"], \"font\": {\"color\": \"#2a3f5f\"}, \"geo\": {\"bgcolor\": \"white\", \"lakecolor\": \"white\", \"landcolor\": \"#E5ECF6\", \"showlakes\": true, \"showland\": true, \"subunitcolor\": \"white\"}, \"hoverlabel\": {\"align\": \"left\"}, \"hovermode\": \"closest\", \"mapbox\": {\"style\": \"light\"}, \"paper_bgcolor\": \"white\", \"plot_bgcolor\": \"#E5ECF6\", \"polar\": {\"angularaxis\": {\"gridcolor\": \"white\", \"linecolor\": \"white\", \"ticks\": \"\"}, \"bgcolor\": \"#E5ECF6\", \"radialaxis\": {\"gridcolor\": \"white\", \"linecolor\": \"white\", \"ticks\": \"\"}}, \"scene\": {\"xaxis\": {\"backgroundcolor\": \"#E5ECF6\", \"gridcolor\": \"white\", \"gridwidth\": 2, \"linecolor\": \"white\", \"showbackground\": true, \"ticks\": \"\", \"zerolinecolor\": \"white\"}, \"yaxis\": {\"backgroundcolor\": \"#E5ECF6\", \"gridcolor\": \"white\", \"gridwidth\": 2, \"linecolor\": \"white\", \"showbackground\": true, \"ticks\": \"\", \"zerolinecolor\": \"white\"}, \"zaxis\": {\"backgroundcolor\": \"#E5ECF6\", \"gridcolor\": \"white\", \"gridwidth\": 2, \"linecolor\": \"white\", \"showbackground\": true, \"ticks\": \"\", \"zerolinecolor\": \"white\"}}, \"shapedefaults\": {\"line\": {\"color\": \"#2a3f5f\"}}, \"ternary\": {\"aaxis\": {\"gridcolor\": \"white\", \"linecolor\": \"white\", \"ticks\": \"\"}, \"baxis\": {\"gridcolor\": \"white\", \"linecolor\": \"white\", \"ticks\": \"\"}, \"bgcolor\": \"#E5ECF6\", \"caxis\": {\"gridcolor\": \"white\", \"linecolor\": \"white\", \"ticks\": \"\"}}, \"title\": {\"x\": 0.05}, \"xaxis\": {\"automargin\": true, \"gridcolor\": \"white\", \"linecolor\": \"white\", \"ticks\": \"\", \"zerolinecolor\": \"white\", \"zerolinewidth\": 2}, \"yaxis\": {\"automargin\": true, \"gridcolor\": \"white\", \"linecolor\": \"white\", \"ticks\": \"\", \"zerolinecolor\": \"white\", \"zerolinewidth\": 2}}}},\n",
              "                        {\"responsive\": true}\n",
              "                    ).then(function(){\n",
              "                            \n",
              "var gd = document.getElementById('f3acd332-0842-440a-a207-077da3425040');\n",
              "var x = new MutationObserver(function (mutations, observer) {{\n",
              "        var display = window.getComputedStyle(gd).display;\n",
              "        if (!display || display === 'none') {{\n",
              "            console.log([gd, 'removed!']);\n",
              "            Plotly.purge(gd);\n",
              "            observer.disconnect();\n",
              "        }}\n",
              "}});\n",
              "\n",
              "// Listen for the removal of the full notebook cells\n",
              "var notebookContainer = gd.closest('#notebook-container');\n",
              "if (notebookContainer) {{\n",
              "    x.observe(notebookContainer, {childList: true});\n",
              "}}\n",
              "\n",
              "// Listen for the clearing of the current output cell\n",
              "var outputEl = gd.closest('.output');\n",
              "if (outputEl) {{\n",
              "    x.observe(outputEl, {childList: true});\n",
              "}}\n",
              "\n",
              "                        })\n",
              "                };\n",
              "                \n",
              "            </script>\n",
              "        </div>\n",
              "</body>\n",
              "</html>"
            ]
          },
          "metadata": {
            "tags": []
          }
        }
      ]
    },
    {
      "cell_type": "markdown",
      "metadata": {
        "id": "4234IJZGUr1N",
        "colab_type": "text"
      },
      "source": [
        "## Graphing Short Distance Commute Trips"
      ]
    },
    {
      "cell_type": "markdown",
      "metadata": {
        "id": "7p5oCExKU0u3",
        "colab_type": "text"
      },
      "source": [
        "Selecting Top 10 for Shorter Trips that won't start and end at the same station."
      ]
    },
    {
      "cell_type": "code",
      "metadata": {
        "id": "ZH3sBGBdp9rA",
        "colab_type": "code",
        "outputId": "3acb77b7-7e1f-4d7d-afa6-118772db9656",
        "colab": {
          "base_uri": "https://localhost:8080/",
          "height": 531
        }
      },
      "source": [
        "trip_data_commute_g['same']=trip_data_commute_g['start_station_name']==trip_data_commute_g['end_station_name']\n",
        "trip_data_commute_ggg=trip_data_commute_g[trip_data_commute_g['same']==False].sort_values(by = 'distance',ascending=True).head(10).reset_index()\n",
        "trip_data_commute_ggg.head(10)"
      ],
      "execution_count": 49,
      "outputs": [
        {
          "output_type": "execute_result",
          "data": {
            "text/html": [
              "<div>\n",
              "<style scoped>\n",
              "    .dataframe tbody tr th:only-of-type {\n",
              "        vertical-align: middle;\n",
              "    }\n",
              "\n",
              "    .dataframe tbody tr th {\n",
              "        vertical-align: top;\n",
              "    }\n",
              "\n",
              "    .dataframe thead th {\n",
              "        text-align: right;\n",
              "    }\n",
              "</style>\n",
              "<table border=\"1\" class=\"dataframe\">\n",
              "  <thead>\n",
              "    <tr style=\"text-align: right;\">\n",
              "      <th></th>\n",
              "      <th>index</th>\n",
              "      <th>start_station_name</th>\n",
              "      <th>end_station_name</th>\n",
              "      <th>start_station_latitude</th>\n",
              "      <th>start_station_longitude</th>\n",
              "      <th>end_station_latitude</th>\n",
              "      <th>end_station_longitude</th>\n",
              "      <th>total_rides</th>\n",
              "      <th>distance</th>\n",
              "      <th>trip_longitude</th>\n",
              "      <th>trip_latitude</th>\n",
              "      <th>same</th>\n",
              "    </tr>\n",
              "  </thead>\n",
              "  <tbody>\n",
              "    <tr>\n",
              "      <th>0</th>\n",
              "      <td>25543</td>\n",
              "      <td>Barrow St &amp; Hudson St</td>\n",
              "      <td>Christopher St &amp; Greenwich St</td>\n",
              "      <td>40.731724</td>\n",
              "      <td>-74.006744</td>\n",
              "      <td>40.732916</td>\n",
              "      <td>-74.007114</td>\n",
              "      <td>133</td>\n",
              "      <td>0.001561</td>\n",
              "      <td>(-74.00674436, -74.00711384)</td>\n",
              "      <td>(40.73172428, 40.73291553)</td>\n",
              "      <td>False</td>\n",
              "    </tr>\n",
              "    <tr>\n",
              "      <th>1</th>\n",
              "      <td>906</td>\n",
              "      <td>1 Ave &amp; E 30 St</td>\n",
              "      <td>E 33 St &amp; 1 Ave</td>\n",
              "      <td>40.741444</td>\n",
              "      <td>-73.975361</td>\n",
              "      <td>40.743227</td>\n",
              "      <td>-73.974498</td>\n",
              "      <td>152</td>\n",
              "      <td>0.002646</td>\n",
              "      <td>(-73.97536082, -73.97449783980845)</td>\n",
              "      <td>(40.74144387, 40.74322681432173)</td>\n",
              "      <td>False</td>\n",
              "    </tr>\n",
              "    <tr>\n",
              "      <th>2</th>\n",
              "      <td>28977</td>\n",
              "      <td>Bond St &amp; Fulton St</td>\n",
              "      <td>Schermerhorn St &amp; Bond St</td>\n",
              "      <td>40.689622</td>\n",
              "      <td>-73.983043</td>\n",
              "      <td>40.688417</td>\n",
              "      <td>-73.984517</td>\n",
              "      <td>178</td>\n",
              "      <td>0.002678</td>\n",
              "      <td>(-73.98304268717766, -73.98451656103134)</td>\n",
              "      <td>(40.68962188790333, 40.68841742754083)</td>\n",
              "      <td>False</td>\n",
              "    </tr>\n",
              "    <tr>\n",
              "      <th>3</th>\n",
              "      <td>154593</td>\n",
              "      <td>West Thames St</td>\n",
              "      <td>Little West St &amp; 1 Pl</td>\n",
              "      <td>40.708347</td>\n",
              "      <td>-74.017134</td>\n",
              "      <td>40.705693</td>\n",
              "      <td>-74.016777</td>\n",
              "      <td>127</td>\n",
              "      <td>0.003012</td>\n",
              "      <td>(-74.01713445, -74.01677685)</td>\n",
              "      <td>(40.70834698, 40.70569254)</td>\n",
              "      <td>False</td>\n",
              "    </tr>\n",
              "    <tr>\n",
              "      <th>4</th>\n",
              "      <td>34037</td>\n",
              "      <td>Broadway &amp; W 60 St</td>\n",
              "      <td>W 63 St &amp; Broadway</td>\n",
              "      <td>40.769155</td>\n",
              "      <td>-73.981918</td>\n",
              "      <td>40.771639</td>\n",
              "      <td>-73.982614</td>\n",
              "      <td>109</td>\n",
              "      <td>0.003179</td>\n",
              "      <td>(-73.98191841, -73.98261428)</td>\n",
              "      <td>(40.76915505, 40.77163851)</td>\n",
              "      <td>False</td>\n",
              "    </tr>\n",
              "    <tr>\n",
              "      <th>5</th>\n",
              "      <td>100675</td>\n",
              "      <td>Lexington Ave &amp; E 26 St</td>\n",
              "      <td>E 24 St &amp; Park Ave S</td>\n",
              "      <td>40.741459</td>\n",
              "      <td>-73.983293</td>\n",
              "      <td>40.740964</td>\n",
              "      <td>-73.986022</td>\n",
              "      <td>154</td>\n",
              "      <td>0.003224</td>\n",
              "      <td>(-73.983293, -73.98602213)</td>\n",
              "      <td>(40.741459000000006, 40.74096374)</td>\n",
              "      <td>False</td>\n",
              "    </tr>\n",
              "    <tr>\n",
              "      <th>6</th>\n",
              "      <td>61279</td>\n",
              "      <td>E 24 St &amp; Park Ave S</td>\n",
              "      <td>Lexington Ave &amp; E 26 St</td>\n",
              "      <td>40.740964</td>\n",
              "      <td>-73.986022</td>\n",
              "      <td>40.741459</td>\n",
              "      <td>-73.983293</td>\n",
              "      <td>268</td>\n",
              "      <td>0.003224</td>\n",
              "      <td>(-73.98602213, -73.983293)</td>\n",
              "      <td>(40.74096374, 40.741459000000006)</td>\n",
              "      <td>False</td>\n",
              "    </tr>\n",
              "    <tr>\n",
              "      <th>7</th>\n",
              "      <td>81058</td>\n",
              "      <td>Franklin St &amp; Dupont St</td>\n",
              "      <td>Huron St &amp; Franklin St</td>\n",
              "      <td>40.735640</td>\n",
              "      <td>-73.958660</td>\n",
              "      <td>40.732660</td>\n",
              "      <td>-73.958260</td>\n",
              "      <td>131</td>\n",
              "      <td>0.003380</td>\n",
              "      <td>(-73.95866, -73.95826)</td>\n",
              "      <td>(40.735640000000004, 40.732659999999996)</td>\n",
              "      <td>False</td>\n",
              "    </tr>\n",
              "    <tr>\n",
              "      <th>8</th>\n",
              "      <td>136655</td>\n",
              "      <td>W 20 St &amp; 11 Ave</td>\n",
              "      <td>W 22 St &amp; 10 Ave</td>\n",
              "      <td>40.746745</td>\n",
              "      <td>-74.007756</td>\n",
              "      <td>40.746920</td>\n",
              "      <td>-74.004519</td>\n",
              "      <td>133</td>\n",
              "      <td>0.003412</td>\n",
              "      <td>(-74.007756, -74.00451887)</td>\n",
              "      <td>(40.746745000000004, 40.74691959)</td>\n",
              "      <td>False</td>\n",
              "    </tr>\n",
              "    <tr>\n",
              "      <th>9</th>\n",
              "      <td>19029</td>\n",
              "      <td>9 Ave &amp; W 18 St</td>\n",
              "      <td>W 17 St &amp; 8 Ave</td>\n",
              "      <td>40.743174</td>\n",
              "      <td>-74.003664</td>\n",
              "      <td>40.741776</td>\n",
              "      <td>-74.001497</td>\n",
              "      <td>111</td>\n",
              "      <td>0.003565</td>\n",
              "      <td>(-74.00366443, -74.00149746)</td>\n",
              "      <td>(40.74317449, 40.74177603)</td>\n",
              "      <td>False</td>\n",
              "    </tr>\n",
              "  </tbody>\n",
              "</table>\n",
              "</div>"
            ],
            "text/plain": [
              "    index       start_station_name               end_station_name  \\\n",
              "0   25543    Barrow St & Hudson St  Christopher St & Greenwich St   \n",
              "1     906          1 Ave & E 30 St                E 33 St & 1 Ave   \n",
              "2   28977      Bond St & Fulton St      Schermerhorn St & Bond St   \n",
              "3  154593           West Thames St          Little West St & 1 Pl   \n",
              "4   34037       Broadway & W 60 St             W 63 St & Broadway   \n",
              "5  100675  Lexington Ave & E 26 St           E 24 St & Park Ave S   \n",
              "6   61279     E 24 St & Park Ave S        Lexington Ave & E 26 St   \n",
              "7   81058  Franklin St & Dupont St         Huron St & Franklin St   \n",
              "8  136655         W 20 St & 11 Ave               W 22 St & 10 Ave   \n",
              "9   19029          9 Ave & W 18 St                W 17 St & 8 Ave   \n",
              "\n",
              "   start_station_latitude  start_station_longitude  end_station_latitude  \\\n",
              "0               40.731724               -74.006744             40.732916   \n",
              "1               40.741444               -73.975361             40.743227   \n",
              "2               40.689622               -73.983043             40.688417   \n",
              "3               40.708347               -74.017134             40.705693   \n",
              "4               40.769155               -73.981918             40.771639   \n",
              "5               40.741459               -73.983293             40.740964   \n",
              "6               40.740964               -73.986022             40.741459   \n",
              "7               40.735640               -73.958660             40.732660   \n",
              "8               40.746745               -74.007756             40.746920   \n",
              "9               40.743174               -74.003664             40.741776   \n",
              "\n",
              "   end_station_longitude  total_rides  distance  \\\n",
              "0             -74.007114          133  0.001561   \n",
              "1             -73.974498          152  0.002646   \n",
              "2             -73.984517          178  0.002678   \n",
              "3             -74.016777          127  0.003012   \n",
              "4             -73.982614          109  0.003179   \n",
              "5             -73.986022          154  0.003224   \n",
              "6             -73.983293          268  0.003224   \n",
              "7             -73.958260          131  0.003380   \n",
              "8             -74.004519          133  0.003412   \n",
              "9             -74.001497          111  0.003565   \n",
              "\n",
              "                             trip_longitude  \\\n",
              "0              (-74.00674436, -74.00711384)   \n",
              "1        (-73.97536082, -73.97449783980845)   \n",
              "2  (-73.98304268717766, -73.98451656103134)   \n",
              "3              (-74.01713445, -74.01677685)   \n",
              "4              (-73.98191841, -73.98261428)   \n",
              "5                (-73.983293, -73.98602213)   \n",
              "6                (-73.98602213, -73.983293)   \n",
              "7                    (-73.95866, -73.95826)   \n",
              "8                (-74.007756, -74.00451887)   \n",
              "9              (-74.00366443, -74.00149746)   \n",
              "\n",
              "                              trip_latitude   same  \n",
              "0                (40.73172428, 40.73291553)  False  \n",
              "1          (40.74144387, 40.74322681432173)  False  \n",
              "2    (40.68962188790333, 40.68841742754083)  False  \n",
              "3                (40.70834698, 40.70569254)  False  \n",
              "4                (40.76915505, 40.77163851)  False  \n",
              "5         (40.741459000000006, 40.74096374)  False  \n",
              "6         (40.74096374, 40.741459000000006)  False  \n",
              "7  (40.735640000000004, 40.732659999999996)  False  \n",
              "8         (40.746745000000004, 40.74691959)  False  \n",
              "9                (40.74317449, 40.74177603)  False  "
            ]
          },
          "metadata": {
            "tags": []
          },
          "execution_count": 49
        }
      ]
    },
    {
      "cell_type": "code",
      "metadata": {
        "id": "frGQkE_1qQxt",
        "colab_type": "code",
        "outputId": "ab18215e-eb35-4ad5-b633-96bb8c9a29fa",
        "colab": {
          "base_uri": "https://localhost:8080/",
          "height": 542
        }
      },
      "source": [
        "\n",
        "fig = go.Figure(go.Scattermapbox(\n",
        "    mode = \"markers+lines\",\n",
        "    lon = trip_data_commute_ggg['trip_longitude'][0], \n",
        "    lat = trip_data_commute_ggg['trip_latitude'][0], \n",
        "    marker = {'size': 10}))\n",
        "for i in range(1,10):\n",
        "  fig.add_trace(go.Scattermapbox(\n",
        "    mode = \"markers+lines\",      \n",
        "    lon = trip_data_commute_ggg['trip_longitude'][i], \n",
        "    lat = trip_data_commute_ggg['trip_latitude'][i], \n",
        "    marker = {'size': 10}))\n",
        "\n",
        "token ='pk.eyJ1IjoiYWxhc3RyYTMyIiwiYSI6ImNrMjNpem1lbzI1eTYzbWwyMXJjNXZyZzYifQ.G6fW1N9gmG-PF4HJm-9BDw'\n",
        "fig.update_layout(\n",
        "    margin ={'l':0,'t':0,'b':0,'r':0},\n",
        "    mapbox = {\n",
        "        'center': {'lon': -74.0060, 'lat': 40.7428},\n",
        "        'zoom': 10.8,\n",
        "        'style': \"dark\",\n",
        "        'accesstoken':token,\n",
        "    })\n",
        "\n",
        "fig.show()"
      ],
      "execution_count": 50,
      "outputs": [
        {
          "output_type": "display_data",
          "data": {
            "text/html": [
              "<html>\n",
              "<head><meta charset=\"utf-8\" /></head>\n",
              "<body>\n",
              "    <div>\n",
              "            <script src=\"https://cdnjs.cloudflare.com/ajax/libs/mathjax/2.7.5/MathJax.js?config=TeX-AMS-MML_SVG\"></script><script type=\"text/javascript\">if (window.MathJax) {MathJax.Hub.Config({SVG: {font: \"STIX-Web\"}});}</script>\n",
              "                <script type=\"text/javascript\">window.PlotlyConfig = {MathJaxConfig: 'local'};</script>\n",
              "        <script src=\"https://cdn.plot.ly/plotly-latest.min.js\"></script>    \n",
              "            <div id=\"511cc9d8-bf9d-4671-9424-0a6d92e845f3\" class=\"plotly-graph-div\" style=\"height:525px; width:100%;\"></div>\n",
              "            <script type=\"text/javascript\">\n",
              "                \n",
              "                    window.PLOTLYENV=window.PLOTLYENV || {};\n",
              "                    \n",
              "                if (document.getElementById(\"511cc9d8-bf9d-4671-9424-0a6d92e845f3\")) {\n",
              "                    Plotly.newPlot(\n",
              "                        '511cc9d8-bf9d-4671-9424-0a6d92e845f3',\n",
              "                        [{\"lat\": [40.73172428, 40.73291553], \"lon\": [-74.00674436, -74.00711384], \"marker\": {\"size\": 10}, \"mode\": \"markers+lines\", \"type\": \"scattermapbox\"}, {\"lat\": [40.74144387, 40.74322681432173], \"lon\": [-73.97536082, -73.97449783980845], \"marker\": {\"size\": 10}, \"mode\": \"markers+lines\", \"type\": \"scattermapbox\"}, {\"lat\": [40.68962188790333, 40.68841742754083], \"lon\": [-73.98304268717766, -73.98451656103134], \"marker\": {\"size\": 10}, \"mode\": \"markers+lines\", \"type\": \"scattermapbox\"}, {\"lat\": [40.70834698, 40.70569254], \"lon\": [-74.01713445, -74.01677685], \"marker\": {\"size\": 10}, \"mode\": \"markers+lines\", \"type\": \"scattermapbox\"}, {\"lat\": [40.76915505, 40.77163851], \"lon\": [-73.98191841, -73.98261428], \"marker\": {\"size\": 10}, \"mode\": \"markers+lines\", \"type\": \"scattermapbox\"}, {\"lat\": [40.741459000000006, 40.74096374], \"lon\": [-73.983293, -73.98602213], \"marker\": {\"size\": 10}, \"mode\": \"markers+lines\", \"type\": \"scattermapbox\"}, {\"lat\": [40.74096374, 40.741459000000006], \"lon\": [-73.98602213, -73.983293], \"marker\": {\"size\": 10}, \"mode\": \"markers+lines\", \"type\": \"scattermapbox\"}, {\"lat\": [40.735640000000004, 40.732659999999996], \"lon\": [-73.95866, -73.95826], \"marker\": {\"size\": 10}, \"mode\": \"markers+lines\", \"type\": \"scattermapbox\"}, {\"lat\": [40.746745000000004, 40.74691959], \"lon\": [-74.007756, -74.00451887], \"marker\": {\"size\": 10}, \"mode\": \"markers+lines\", \"type\": \"scattermapbox\"}, {\"lat\": [40.74317449, 40.74177603], \"lon\": [-74.00366443, -74.00149746], \"marker\": {\"size\": 10}, \"mode\": \"markers+lines\", \"type\": \"scattermapbox\"}],\n",
              "                        {\"mapbox\": {\"accesstoken\": \"pk.eyJ1IjoiYWxhc3RyYTMyIiwiYSI6ImNrMjNpem1lbzI1eTYzbWwyMXJjNXZyZzYifQ.G6fW1N9gmG-PF4HJm-9BDw\", \"center\": {\"lat\": 40.7428, \"lon\": -74.006}, \"style\": \"dark\", \"zoom\": 10.8}, \"margin\": {\"b\": 0, \"l\": 0, \"r\": 0, \"t\": 0}, \"template\": {\"data\": {\"bar\": [{\"error_x\": {\"color\": \"#2a3f5f\"}, \"error_y\": {\"color\": \"#2a3f5f\"}, \"marker\": {\"line\": {\"color\": \"#E5ECF6\", \"width\": 0.5}}, \"type\": \"bar\"}], \"barpolar\": [{\"marker\": {\"line\": {\"color\": \"#E5ECF6\", \"width\": 0.5}}, \"type\": \"barpolar\"}], \"carpet\": [{\"aaxis\": {\"endlinecolor\": \"#2a3f5f\", \"gridcolor\": \"white\", \"linecolor\": \"white\", \"minorgridcolor\": \"white\", \"startlinecolor\": \"#2a3f5f\"}, \"baxis\": {\"endlinecolor\": \"#2a3f5f\", \"gridcolor\": \"white\", \"linecolor\": \"white\", \"minorgridcolor\": \"white\", \"startlinecolor\": \"#2a3f5f\"}, \"type\": \"carpet\"}], \"choropleth\": [{\"colorbar\": {\"outlinewidth\": 0, \"ticks\": \"\"}, \"type\": \"choropleth\"}], \"contour\": [{\"colorbar\": {\"outlinewidth\": 0, \"ticks\": \"\"}, \"colorscale\": [[0.0, \"#0d0887\"], [0.1111111111111111, \"#46039f\"], [0.2222222222222222, \"#7201a8\"], [0.3333333333333333, \"#9c179e\"], [0.4444444444444444, \"#bd3786\"], [0.5555555555555556, \"#d8576b\"], [0.6666666666666666, \"#ed7953\"], [0.7777777777777778, \"#fb9f3a\"], [0.8888888888888888, \"#fdca26\"], [1.0, \"#f0f921\"]], \"type\": \"contour\"}], \"contourcarpet\": [{\"colorbar\": {\"outlinewidth\": 0, \"ticks\": \"\"}, \"type\": \"contourcarpet\"}], \"heatmap\": [{\"colorbar\": {\"outlinewidth\": 0, \"ticks\": \"\"}, \"colorscale\": [[0.0, \"#0d0887\"], [0.1111111111111111, \"#46039f\"], [0.2222222222222222, \"#7201a8\"], [0.3333333333333333, \"#9c179e\"], [0.4444444444444444, \"#bd3786\"], [0.5555555555555556, \"#d8576b\"], [0.6666666666666666, \"#ed7953\"], [0.7777777777777778, \"#fb9f3a\"], [0.8888888888888888, \"#fdca26\"], [1.0, \"#f0f921\"]], \"type\": \"heatmap\"}], \"heatmapgl\": [{\"colorbar\": {\"outlinewidth\": 0, \"ticks\": \"\"}, \"colorscale\": [[0.0, \"#0d0887\"], [0.1111111111111111, \"#46039f\"], [0.2222222222222222, \"#7201a8\"], [0.3333333333333333, \"#9c179e\"], [0.4444444444444444, \"#bd3786\"], [0.5555555555555556, \"#d8576b\"], [0.6666666666666666, \"#ed7953\"], [0.7777777777777778, \"#fb9f3a\"], [0.8888888888888888, \"#fdca26\"], [1.0, \"#f0f921\"]], \"type\": \"heatmapgl\"}], \"histogram\": [{\"marker\": {\"colorbar\": {\"outlinewidth\": 0, \"ticks\": \"\"}}, \"type\": \"histogram\"}], \"histogram2d\": [{\"colorbar\": {\"outlinewidth\": 0, \"ticks\": \"\"}, \"colorscale\": [[0.0, \"#0d0887\"], [0.1111111111111111, \"#46039f\"], [0.2222222222222222, \"#7201a8\"], [0.3333333333333333, \"#9c179e\"], [0.4444444444444444, \"#bd3786\"], [0.5555555555555556, \"#d8576b\"], [0.6666666666666666, \"#ed7953\"], [0.7777777777777778, \"#fb9f3a\"], [0.8888888888888888, \"#fdca26\"], [1.0, \"#f0f921\"]], \"type\": \"histogram2d\"}], \"histogram2dcontour\": [{\"colorbar\": {\"outlinewidth\": 0, \"ticks\": \"\"}, \"colorscale\": [[0.0, \"#0d0887\"], [0.1111111111111111, \"#46039f\"], [0.2222222222222222, \"#7201a8\"], [0.3333333333333333, \"#9c179e\"], [0.4444444444444444, \"#bd3786\"], [0.5555555555555556, \"#d8576b\"], [0.6666666666666666, \"#ed7953\"], [0.7777777777777778, \"#fb9f3a\"], [0.8888888888888888, \"#fdca26\"], [1.0, \"#f0f921\"]], \"type\": \"histogram2dcontour\"}], \"mesh3d\": [{\"colorbar\": {\"outlinewidth\": 0, \"ticks\": \"\"}, \"type\": \"mesh3d\"}], \"parcoords\": [{\"line\": {\"colorbar\": {\"outlinewidth\": 0, \"ticks\": \"\"}}, \"type\": \"parcoords\"}], \"scatter\": [{\"marker\": {\"colorbar\": {\"outlinewidth\": 0, \"ticks\": \"\"}}, \"type\": \"scatter\"}], \"scatter3d\": [{\"line\": {\"colorbar\": {\"outlinewidth\": 0, \"ticks\": \"\"}}, \"marker\": {\"colorbar\": {\"outlinewidth\": 0, \"ticks\": \"\"}}, \"type\": \"scatter3d\"}], \"scattercarpet\": [{\"marker\": {\"colorbar\": {\"outlinewidth\": 0, \"ticks\": \"\"}}, \"type\": \"scattercarpet\"}], \"scattergeo\": [{\"marker\": {\"colorbar\": {\"outlinewidth\": 0, \"ticks\": \"\"}}, \"type\": \"scattergeo\"}], \"scattergl\": [{\"marker\": {\"colorbar\": {\"outlinewidth\": 0, \"ticks\": \"\"}}, \"type\": \"scattergl\"}], \"scattermapbox\": [{\"marker\": {\"colorbar\": {\"outlinewidth\": 0, \"ticks\": \"\"}}, \"type\": \"scattermapbox\"}], \"scatterpolar\": [{\"marker\": {\"colorbar\": {\"outlinewidth\": 0, \"ticks\": \"\"}}, \"type\": \"scatterpolar\"}], \"scatterpolargl\": [{\"marker\": {\"colorbar\": {\"outlinewidth\": 0, \"ticks\": \"\"}}, \"type\": \"scatterpolargl\"}], \"scatterternary\": [{\"marker\": {\"colorbar\": {\"outlinewidth\": 0, \"ticks\": \"\"}}, \"type\": \"scatterternary\"}], \"surface\": [{\"colorbar\": {\"outlinewidth\": 0, \"ticks\": \"\"}, \"colorscale\": [[0.0, \"#0d0887\"], [0.1111111111111111, \"#46039f\"], [0.2222222222222222, \"#7201a8\"], [0.3333333333333333, \"#9c179e\"], [0.4444444444444444, \"#bd3786\"], [0.5555555555555556, \"#d8576b\"], [0.6666666666666666, \"#ed7953\"], [0.7777777777777778, \"#fb9f3a\"], [0.8888888888888888, \"#fdca26\"], [1.0, \"#f0f921\"]], \"type\": \"surface\"}], \"table\": [{\"cells\": {\"fill\": {\"color\": \"#EBF0F8\"}, \"line\": {\"color\": \"white\"}}, \"header\": {\"fill\": {\"color\": \"#C8D4E3\"}, \"line\": {\"color\": \"white\"}}, \"type\": \"table\"}]}, \"layout\": {\"annotationdefaults\": {\"arrowcolor\": \"#2a3f5f\", \"arrowhead\": 0, \"arrowwidth\": 1}, \"colorscale\": {\"diverging\": [[0, \"#8e0152\"], [0.1, \"#c51b7d\"], [0.2, \"#de77ae\"], [0.3, \"#f1b6da\"], [0.4, \"#fde0ef\"], [0.5, \"#f7f7f7\"], [0.6, \"#e6f5d0\"], [0.7, \"#b8e186\"], [0.8, \"#7fbc41\"], [0.9, \"#4d9221\"], [1, \"#276419\"]], \"sequential\": [[0.0, \"#0d0887\"], [0.1111111111111111, \"#46039f\"], [0.2222222222222222, \"#7201a8\"], [0.3333333333333333, \"#9c179e\"], [0.4444444444444444, \"#bd3786\"], [0.5555555555555556, \"#d8576b\"], [0.6666666666666666, \"#ed7953\"], [0.7777777777777778, \"#fb9f3a\"], [0.8888888888888888, \"#fdca26\"], [1.0, \"#f0f921\"]], \"sequentialminus\": [[0.0, \"#0d0887\"], [0.1111111111111111, \"#46039f\"], [0.2222222222222222, \"#7201a8\"], [0.3333333333333333, \"#9c179e\"], [0.4444444444444444, \"#bd3786\"], [0.5555555555555556, \"#d8576b\"], [0.6666666666666666, \"#ed7953\"], [0.7777777777777778, \"#fb9f3a\"], [0.8888888888888888, \"#fdca26\"], [1.0, \"#f0f921\"]]}, \"colorway\": [\"#636efa\", \"#EF553B\", \"#00cc96\", \"#ab63fa\", \"#FFA15A\", \"#19d3f3\", \"#FF6692\", \"#B6E880\", \"#FF97FF\", \"#FECB52\"], \"font\": {\"color\": \"#2a3f5f\"}, \"geo\": {\"bgcolor\": \"white\", \"lakecolor\": \"white\", \"landcolor\": \"#E5ECF6\", \"showlakes\": true, \"showland\": true, \"subunitcolor\": \"white\"}, \"hoverlabel\": {\"align\": \"left\"}, \"hovermode\": \"closest\", \"mapbox\": {\"style\": \"light\"}, \"paper_bgcolor\": \"white\", \"plot_bgcolor\": \"#E5ECF6\", \"polar\": {\"angularaxis\": {\"gridcolor\": \"white\", \"linecolor\": \"white\", \"ticks\": \"\"}, \"bgcolor\": \"#E5ECF6\", \"radialaxis\": {\"gridcolor\": \"white\", \"linecolor\": \"white\", \"ticks\": \"\"}}, \"scene\": {\"xaxis\": {\"backgroundcolor\": \"#E5ECF6\", \"gridcolor\": \"white\", \"gridwidth\": 2, \"linecolor\": \"white\", \"showbackground\": true, \"ticks\": \"\", \"zerolinecolor\": \"white\"}, \"yaxis\": {\"backgroundcolor\": \"#E5ECF6\", \"gridcolor\": \"white\", \"gridwidth\": 2, \"linecolor\": \"white\", \"showbackground\": true, \"ticks\": \"\", \"zerolinecolor\": \"white\"}, \"zaxis\": {\"backgroundcolor\": \"#E5ECF6\", \"gridcolor\": \"white\", \"gridwidth\": 2, \"linecolor\": \"white\", \"showbackground\": true, \"ticks\": \"\", \"zerolinecolor\": \"white\"}}, \"shapedefaults\": {\"line\": {\"color\": \"#2a3f5f\"}}, \"ternary\": {\"aaxis\": {\"gridcolor\": \"white\", \"linecolor\": \"white\", \"ticks\": \"\"}, \"baxis\": {\"gridcolor\": \"white\", \"linecolor\": \"white\", \"ticks\": \"\"}, \"bgcolor\": \"#E5ECF6\", \"caxis\": {\"gridcolor\": \"white\", \"linecolor\": \"white\", \"ticks\": \"\"}}, \"title\": {\"x\": 0.05}, \"xaxis\": {\"automargin\": true, \"gridcolor\": \"white\", \"linecolor\": \"white\", \"ticks\": \"\", \"zerolinecolor\": \"white\", \"zerolinewidth\": 2}, \"yaxis\": {\"automargin\": true, \"gridcolor\": \"white\", \"linecolor\": \"white\", \"ticks\": \"\", \"zerolinecolor\": \"white\", \"zerolinewidth\": 2}}}},\n",
              "                        {\"responsive\": true}\n",
              "                    ).then(function(){\n",
              "                            \n",
              "var gd = document.getElementById('511cc9d8-bf9d-4671-9424-0a6d92e845f3');\n",
              "var x = new MutationObserver(function (mutations, observer) {{\n",
              "        var display = window.getComputedStyle(gd).display;\n",
              "        if (!display || display === 'none') {{\n",
              "            console.log([gd, 'removed!']);\n",
              "            Plotly.purge(gd);\n",
              "            observer.disconnect();\n",
              "        }}\n",
              "}});\n",
              "\n",
              "// Listen for the removal of the full notebook cells\n",
              "var notebookContainer = gd.closest('#notebook-container');\n",
              "if (notebookContainer) {{\n",
              "    x.observe(notebookContainer, {childList: true});\n",
              "}}\n",
              "\n",
              "// Listen for the clearing of the current output cell\n",
              "var outputEl = gd.closest('.output');\n",
              "if (outputEl) {{\n",
              "    x.observe(outputEl, {childList: true});\n",
              "}}\n",
              "\n",
              "                        })\n",
              "                };\n",
              "                \n",
              "            </script>\n",
              "        </div>\n",
              "</body>\n",
              "</html>"
            ]
          },
          "metadata": {
            "tags": []
          }
        }
      ]
    },
    {
      "cell_type": "markdown",
      "metadata": {
        "id": "dMfb28VmVGz4",
        "colab_type": "text"
      },
      "source": [
        "## Graphing for Trips around the Median Distance Commute Trips"
      ]
    },
    {
      "cell_type": "markdown",
      "metadata": {
        "id": "tbeLcJrMVbv0",
        "colab_type": "text"
      },
      "source": [
        "Dataset Selecting trips that were 10% above and below the Median Distance for Commute Trips."
      ]
    },
    {
      "cell_type": "code",
      "metadata": {
        "id": "j-bT1d9omMNl",
        "colab_type": "code",
        "outputId": "e679935e-9425-42cf-8c79-b358ac5af845",
        "colab": {
          "base_uri": "https://localhost:8080/",
          "height": 34
        }
      },
      "source": [
        "trip_data_commute_g['distance'].median() #Median"
      ],
      "execution_count": 51,
      "outputs": [
        {
          "output_type": "execute_result",
          "data": {
            "text/plain": [
              "0.01360802999999322"
            ]
          },
          "metadata": {
            "tags": []
          },
          "execution_count": 51
        }
      ]
    },
    {
      "cell_type": "code",
      "metadata": {
        "id": "yCJsJVrHmNyE",
        "colab_type": "code",
        "outputId": "227584aa-4d7b-4aed-ec71-8d5822979736",
        "colab": {
          "base_uri": "https://localhost:8080/",
          "height": 299
        }
      },
      "source": [
        "trip_data_commute_gg1=trip_data_commute_g[trip_data_commute_g['distance']<(trip_data_commute_g['distance'].median()+trip_data_commute_g['distance'].median()*0.1)]\n",
        "trip_data_commute_gg1=trip_data_commute_gg1[trip_data_commute_gg1['distance']>(trip_data_commute_g['distance'].median()-trip_data_commute_g['distance'].median()*0.1)]\n",
        "trip_data_commute_gg1=trip_data_commute_gg1.reset_index()\n",
        "trip_data_commute_gg1.head()"
      ],
      "execution_count": 52,
      "outputs": [
        {
          "output_type": "execute_result",
          "data": {
            "text/html": [
              "<div>\n",
              "<style scoped>\n",
              "    .dataframe tbody tr th:only-of-type {\n",
              "        vertical-align: middle;\n",
              "    }\n",
              "\n",
              "    .dataframe tbody tr th {\n",
              "        vertical-align: top;\n",
              "    }\n",
              "\n",
              "    .dataframe thead th {\n",
              "        text-align: right;\n",
              "    }\n",
              "</style>\n",
              "<table border=\"1\" class=\"dataframe\">\n",
              "  <thead>\n",
              "    <tr style=\"text-align: right;\">\n",
              "      <th></th>\n",
              "      <th>index</th>\n",
              "      <th>start_station_name</th>\n",
              "      <th>end_station_name</th>\n",
              "      <th>start_station_latitude</th>\n",
              "      <th>start_station_longitude</th>\n",
              "      <th>end_station_latitude</th>\n",
              "      <th>end_station_longitude</th>\n",
              "      <th>total_rides</th>\n",
              "      <th>distance</th>\n",
              "      <th>trip_longitude</th>\n",
              "      <th>trip_latitude</th>\n",
              "      <th>same</th>\n",
              "    </tr>\n",
              "  </thead>\n",
              "  <tbody>\n",
              "    <tr>\n",
              "      <th>0</th>\n",
              "      <td>252</td>\n",
              "      <td>1 Ave &amp; E 16 St</td>\n",
              "      <td>E 17 St &amp; Broadway</td>\n",
              "      <td>40.732219</td>\n",
              "      <td>-73.981656</td>\n",
              "      <td>40.737050</td>\n",
              "      <td>-73.990093</td>\n",
              "      <td>268</td>\n",
              "      <td>0.013269</td>\n",
              "      <td>(-73.98165557, -73.99009296)</td>\n",
              "      <td>(40.73221853, 40.73704984)</td>\n",
              "      <td>False</td>\n",
              "    </tr>\n",
              "    <tr>\n",
              "      <th>1</th>\n",
              "      <td>262</td>\n",
              "      <td>1 Ave &amp; E 16 St</td>\n",
              "      <td>E 24 St &amp; Park Ave S</td>\n",
              "      <td>40.732219</td>\n",
              "      <td>-73.981656</td>\n",
              "      <td>40.740964</td>\n",
              "      <td>-73.986022</td>\n",
              "      <td>154</td>\n",
              "      <td>0.013112</td>\n",
              "      <td>(-73.98165557, -73.98602213)</td>\n",
              "      <td>(40.73221853, 40.74096374)</td>\n",
              "      <td>False</td>\n",
              "    </tr>\n",
              "    <tr>\n",
              "      <th>2</th>\n",
              "      <td>478</td>\n",
              "      <td>1 Ave &amp; E 18 St</td>\n",
              "      <td>1 Ave &amp; E 30 St</td>\n",
              "      <td>40.733812</td>\n",
              "      <td>-73.980544</td>\n",
              "      <td>40.741444</td>\n",
              "      <td>-73.975361</td>\n",
              "      <td>236</td>\n",
              "      <td>0.012815</td>\n",
              "      <td>(-73.9805442094803, -73.97536082)</td>\n",
              "      <td>(40.73381219196632, 40.74144387)</td>\n",
              "      <td>False</td>\n",
              "    </tr>\n",
              "    <tr>\n",
              "      <th>3</th>\n",
              "      <td>573</td>\n",
              "      <td>1 Ave &amp; E 18 St</td>\n",
              "      <td>E 17 St &amp; Broadway</td>\n",
              "      <td>40.733812</td>\n",
              "      <td>-73.980544</td>\n",
              "      <td>40.737050</td>\n",
              "      <td>-73.990093</td>\n",
              "      <td>273</td>\n",
              "      <td>0.012786</td>\n",
              "      <td>(-73.9805442094803, -73.99009296)</td>\n",
              "      <td>(40.73381219196632, 40.73704984)</td>\n",
              "      <td>False</td>\n",
              "    </tr>\n",
              "    <tr>\n",
              "      <th>4</th>\n",
              "      <td>583</td>\n",
              "      <td>1 Ave &amp; E 18 St</td>\n",
              "      <td>E 24 St &amp; Park Ave S</td>\n",
              "      <td>40.733812</td>\n",
              "      <td>-73.980544</td>\n",
              "      <td>40.740964</td>\n",
              "      <td>-73.986022</td>\n",
              "      <td>184</td>\n",
              "      <td>0.012629</td>\n",
              "      <td>(-73.9805442094803, -73.98602213)</td>\n",
              "      <td>(40.73381219196632, 40.74096374)</td>\n",
              "      <td>False</td>\n",
              "    </tr>\n",
              "  </tbody>\n",
              "</table>\n",
              "</div>"
            ],
            "text/plain": [
              "   index start_station_name      end_station_name  start_station_latitude  \\\n",
              "0    252    1 Ave & E 16 St    E 17 St & Broadway               40.732219   \n",
              "1    262    1 Ave & E 16 St  E 24 St & Park Ave S               40.732219   \n",
              "2    478    1 Ave & E 18 St       1 Ave & E 30 St               40.733812   \n",
              "3    573    1 Ave & E 18 St    E 17 St & Broadway               40.733812   \n",
              "4    583    1 Ave & E 18 St  E 24 St & Park Ave S               40.733812   \n",
              "\n",
              "   start_station_longitude  end_station_latitude  end_station_longitude  \\\n",
              "0               -73.981656             40.737050             -73.990093   \n",
              "1               -73.981656             40.740964             -73.986022   \n",
              "2               -73.980544             40.741444             -73.975361   \n",
              "3               -73.980544             40.737050             -73.990093   \n",
              "4               -73.980544             40.740964             -73.986022   \n",
              "\n",
              "   total_rides  distance                     trip_longitude  \\\n",
              "0          268  0.013269       (-73.98165557, -73.99009296)   \n",
              "1          154  0.013112       (-73.98165557, -73.98602213)   \n",
              "2          236  0.012815  (-73.9805442094803, -73.97536082)   \n",
              "3          273  0.012786  (-73.9805442094803, -73.99009296)   \n",
              "4          184  0.012629  (-73.9805442094803, -73.98602213)   \n",
              "\n",
              "                      trip_latitude   same  \n",
              "0        (40.73221853, 40.73704984)  False  \n",
              "1        (40.73221853, 40.74096374)  False  \n",
              "2  (40.73381219196632, 40.74144387)  False  \n",
              "3  (40.73381219196632, 40.73704984)  False  \n",
              "4  (40.73381219196632, 40.74096374)  False  "
            ]
          },
          "metadata": {
            "tags": []
          },
          "execution_count": 52
        }
      ]
    },
    {
      "cell_type": "code",
      "metadata": {
        "id": "nO2qSdWwnIBj",
        "colab_type": "code",
        "outputId": "3817eaef-613a-49eb-ec47-48bc42283ee0",
        "colab": {
          "base_uri": "https://localhost:8080/",
          "height": 542
        }
      },
      "source": [
        "\n",
        "fig = go.Figure(go.Scattermapbox(\n",
        "    mode = \"markers+lines\",\n",
        "    lon = trip_data_commute_gg1['trip_longitude'][0], \n",
        "    lat = trip_data_commute_gg1['trip_latitude'][0], \n",
        "    marker = {'size': 10}))\n",
        "for i in range(1,10):\n",
        "  fig.add_trace(go.Scattermapbox(\n",
        "    mode = \"markers+lines\",      \n",
        "    lon = trip_data_commute_gg1['trip_longitude'][i], \n",
        "    lat = trip_data_commute_gg1['trip_latitude'][i], \n",
        "    marker = {'size': 10}))\n",
        "\n",
        "token ='pk.eyJ1IjoiYWxhc3RyYTMyIiwiYSI6ImNrMjNpem1lbzI1eTYzbWwyMXJjNXZyZzYifQ.G6fW1N9gmG-PF4HJm-9BDw'\n",
        "fig.update_layout(\n",
        "    margin ={'l':0,'t':0,'b':0,'r':0},\n",
        "    mapbox = {\n",
        "        'center': {'lon': -74.0060, 'lat': 40.7428},\n",
        "        'zoom': 10.8,\n",
        "        'style': \"dark\",\n",
        "        'accesstoken':token,\n",
        "    })\n",
        "\n",
        "fig.show()"
      ],
      "execution_count": 53,
      "outputs": [
        {
          "output_type": "display_data",
          "data": {
            "text/html": [
              "<html>\n",
              "<head><meta charset=\"utf-8\" /></head>\n",
              "<body>\n",
              "    <div>\n",
              "            <script src=\"https://cdnjs.cloudflare.com/ajax/libs/mathjax/2.7.5/MathJax.js?config=TeX-AMS-MML_SVG\"></script><script type=\"text/javascript\">if (window.MathJax) {MathJax.Hub.Config({SVG: {font: \"STIX-Web\"}});}</script>\n",
              "                <script type=\"text/javascript\">window.PlotlyConfig = {MathJaxConfig: 'local'};</script>\n",
              "        <script src=\"https://cdn.plot.ly/plotly-latest.min.js\"></script>    \n",
              "            <div id=\"935ab5c9-6554-4f59-afcc-8dda06e17661\" class=\"plotly-graph-div\" style=\"height:525px; width:100%;\"></div>\n",
              "            <script type=\"text/javascript\">\n",
              "                \n",
              "                    window.PLOTLYENV=window.PLOTLYENV || {};\n",
              "                    \n",
              "                if (document.getElementById(\"935ab5c9-6554-4f59-afcc-8dda06e17661\")) {\n",
              "                    Plotly.newPlot(\n",
              "                        '935ab5c9-6554-4f59-afcc-8dda06e17661',\n",
              "                        [{\"lat\": [40.73221853, 40.73704984], \"lon\": [-73.98165557, -73.99009296], \"marker\": {\"size\": 10}, \"mode\": \"markers+lines\", \"type\": \"scattermapbox\"}, {\"lat\": [40.73221853, 40.74096374], \"lon\": [-73.98165557, -73.98602213], \"marker\": {\"size\": 10}, \"mode\": \"markers+lines\", \"type\": \"scattermapbox\"}, {\"lat\": [40.73381219196632, 40.74144387], \"lon\": [-73.9805442094803, -73.97536082], \"marker\": {\"size\": 10}, \"mode\": \"markers+lines\", \"type\": \"scattermapbox\"}, {\"lat\": [40.73381219196632, 40.73704984], \"lon\": [-73.9805442094803, -73.99009296], \"marker\": {\"size\": 10}, \"mode\": \"markers+lines\", \"type\": \"scattermapbox\"}, {\"lat\": [40.73381219196632, 40.74096374], \"lon\": [-73.9805442094803, -73.98602213], \"marker\": {\"size\": 10}, \"mode\": \"markers+lines\", \"type\": \"scattermapbox\"}, {\"lat\": [40.74144387, 40.73381219196632], \"lon\": [-73.97536082, -73.9805442094803], \"marker\": {\"size\": 10}, \"mode\": \"markers+lines\", \"type\": \"scattermapbox\"}, {\"lat\": [40.74144387, 40.73587678], \"lon\": [-73.97536082, -73.98205027], \"marker\": {\"size\": 10}, \"mode\": \"markers+lines\", \"type\": \"scattermapbox\"}, {\"lat\": [40.74144387, 40.751872999999996], \"lon\": [-73.97536082, -73.97770600000001], \"marker\": {\"size\": 10}, \"mode\": \"markers+lines\", \"type\": \"scattermapbox\"}, {\"lat\": [40.76500525, 40.75797322], \"lon\": [-73.95818491, -73.96603308], \"marker\": {\"size\": 10}, \"mode\": \"markers+lines\", \"type\": \"scattermapbox\"}, {\"lat\": [40.75066386, 40.74238787], \"lon\": [-74.00176802, -73.99726235], \"marker\": {\"size\": 10}, \"mode\": \"markers+lines\", \"type\": \"scattermapbox\"}],\n",
              "                        {\"mapbox\": {\"accesstoken\": \"pk.eyJ1IjoiYWxhc3RyYTMyIiwiYSI6ImNrMjNpem1lbzI1eTYzbWwyMXJjNXZyZzYifQ.G6fW1N9gmG-PF4HJm-9BDw\", \"center\": {\"lat\": 40.7428, \"lon\": -74.006}, \"style\": \"dark\", \"zoom\": 10.8}, \"margin\": {\"b\": 0, \"l\": 0, \"r\": 0, \"t\": 0}, \"template\": {\"data\": {\"bar\": [{\"error_x\": {\"color\": \"#2a3f5f\"}, \"error_y\": {\"color\": \"#2a3f5f\"}, \"marker\": {\"line\": {\"color\": \"#E5ECF6\", \"width\": 0.5}}, \"type\": \"bar\"}], \"barpolar\": [{\"marker\": {\"line\": {\"color\": \"#E5ECF6\", \"width\": 0.5}}, \"type\": \"barpolar\"}], \"carpet\": [{\"aaxis\": {\"endlinecolor\": \"#2a3f5f\", \"gridcolor\": \"white\", \"linecolor\": \"white\", \"minorgridcolor\": \"white\", \"startlinecolor\": \"#2a3f5f\"}, \"baxis\": {\"endlinecolor\": \"#2a3f5f\", \"gridcolor\": \"white\", \"linecolor\": \"white\", \"minorgridcolor\": \"white\", \"startlinecolor\": \"#2a3f5f\"}, \"type\": \"carpet\"}], \"choropleth\": [{\"colorbar\": {\"outlinewidth\": 0, \"ticks\": \"\"}, \"type\": \"choropleth\"}], \"contour\": [{\"colorbar\": {\"outlinewidth\": 0, \"ticks\": \"\"}, \"colorscale\": [[0.0, \"#0d0887\"], [0.1111111111111111, \"#46039f\"], [0.2222222222222222, \"#7201a8\"], [0.3333333333333333, \"#9c179e\"], [0.4444444444444444, \"#bd3786\"], [0.5555555555555556, \"#d8576b\"], [0.6666666666666666, \"#ed7953\"], [0.7777777777777778, \"#fb9f3a\"], [0.8888888888888888, \"#fdca26\"], [1.0, \"#f0f921\"]], \"type\": \"contour\"}], \"contourcarpet\": [{\"colorbar\": {\"outlinewidth\": 0, \"ticks\": \"\"}, \"type\": \"contourcarpet\"}], \"heatmap\": [{\"colorbar\": {\"outlinewidth\": 0, \"ticks\": \"\"}, \"colorscale\": [[0.0, \"#0d0887\"], [0.1111111111111111, \"#46039f\"], [0.2222222222222222, \"#7201a8\"], [0.3333333333333333, \"#9c179e\"], [0.4444444444444444, \"#bd3786\"], [0.5555555555555556, \"#d8576b\"], [0.6666666666666666, \"#ed7953\"], [0.7777777777777778, \"#fb9f3a\"], [0.8888888888888888, \"#fdca26\"], [1.0, \"#f0f921\"]], \"type\": \"heatmap\"}], \"heatmapgl\": [{\"colorbar\": {\"outlinewidth\": 0, \"ticks\": \"\"}, \"colorscale\": [[0.0, \"#0d0887\"], [0.1111111111111111, \"#46039f\"], [0.2222222222222222, \"#7201a8\"], [0.3333333333333333, \"#9c179e\"], [0.4444444444444444, \"#bd3786\"], [0.5555555555555556, \"#d8576b\"], [0.6666666666666666, \"#ed7953\"], [0.7777777777777778, \"#fb9f3a\"], [0.8888888888888888, \"#fdca26\"], [1.0, \"#f0f921\"]], \"type\": \"heatmapgl\"}], \"histogram\": [{\"marker\": {\"colorbar\": {\"outlinewidth\": 0, \"ticks\": \"\"}}, \"type\": \"histogram\"}], \"histogram2d\": [{\"colorbar\": {\"outlinewidth\": 0, \"ticks\": \"\"}, \"colorscale\": [[0.0, \"#0d0887\"], [0.1111111111111111, \"#46039f\"], [0.2222222222222222, \"#7201a8\"], [0.3333333333333333, \"#9c179e\"], [0.4444444444444444, \"#bd3786\"], [0.5555555555555556, \"#d8576b\"], [0.6666666666666666, \"#ed7953\"], [0.7777777777777778, \"#fb9f3a\"], [0.8888888888888888, \"#fdca26\"], [1.0, \"#f0f921\"]], \"type\": \"histogram2d\"}], \"histogram2dcontour\": [{\"colorbar\": {\"outlinewidth\": 0, \"ticks\": \"\"}, \"colorscale\": [[0.0, \"#0d0887\"], [0.1111111111111111, \"#46039f\"], [0.2222222222222222, \"#7201a8\"], [0.3333333333333333, \"#9c179e\"], [0.4444444444444444, \"#bd3786\"], [0.5555555555555556, \"#d8576b\"], [0.6666666666666666, \"#ed7953\"], [0.7777777777777778, \"#fb9f3a\"], [0.8888888888888888, \"#fdca26\"], [1.0, \"#f0f921\"]], \"type\": \"histogram2dcontour\"}], \"mesh3d\": [{\"colorbar\": {\"outlinewidth\": 0, \"ticks\": \"\"}, \"type\": \"mesh3d\"}], \"parcoords\": [{\"line\": {\"colorbar\": {\"outlinewidth\": 0, \"ticks\": \"\"}}, \"type\": \"parcoords\"}], \"scatter\": [{\"marker\": {\"colorbar\": {\"outlinewidth\": 0, \"ticks\": \"\"}}, \"type\": \"scatter\"}], \"scatter3d\": [{\"line\": {\"colorbar\": {\"outlinewidth\": 0, \"ticks\": \"\"}}, \"marker\": {\"colorbar\": {\"outlinewidth\": 0, \"ticks\": \"\"}}, \"type\": \"scatter3d\"}], \"scattercarpet\": [{\"marker\": {\"colorbar\": {\"outlinewidth\": 0, \"ticks\": \"\"}}, \"type\": \"scattercarpet\"}], \"scattergeo\": [{\"marker\": {\"colorbar\": {\"outlinewidth\": 0, \"ticks\": \"\"}}, \"type\": \"scattergeo\"}], \"scattergl\": [{\"marker\": {\"colorbar\": {\"outlinewidth\": 0, \"ticks\": \"\"}}, \"type\": \"scattergl\"}], \"scattermapbox\": [{\"marker\": {\"colorbar\": {\"outlinewidth\": 0, \"ticks\": \"\"}}, \"type\": \"scattermapbox\"}], \"scatterpolar\": [{\"marker\": {\"colorbar\": {\"outlinewidth\": 0, \"ticks\": \"\"}}, \"type\": \"scatterpolar\"}], \"scatterpolargl\": [{\"marker\": {\"colorbar\": {\"outlinewidth\": 0, \"ticks\": \"\"}}, \"type\": \"scatterpolargl\"}], \"scatterternary\": [{\"marker\": {\"colorbar\": {\"outlinewidth\": 0, \"ticks\": \"\"}}, \"type\": \"scatterternary\"}], \"surface\": [{\"colorbar\": {\"outlinewidth\": 0, \"ticks\": \"\"}, \"colorscale\": [[0.0, \"#0d0887\"], [0.1111111111111111, \"#46039f\"], [0.2222222222222222, \"#7201a8\"], [0.3333333333333333, \"#9c179e\"], [0.4444444444444444, \"#bd3786\"], [0.5555555555555556, \"#d8576b\"], [0.6666666666666666, \"#ed7953\"], [0.7777777777777778, \"#fb9f3a\"], [0.8888888888888888, \"#fdca26\"], [1.0, \"#f0f921\"]], \"type\": \"surface\"}], \"table\": [{\"cells\": {\"fill\": {\"color\": \"#EBF0F8\"}, \"line\": {\"color\": \"white\"}}, \"header\": {\"fill\": {\"color\": \"#C8D4E3\"}, \"line\": {\"color\": \"white\"}}, \"type\": \"table\"}]}, \"layout\": {\"annotationdefaults\": {\"arrowcolor\": \"#2a3f5f\", \"arrowhead\": 0, \"arrowwidth\": 1}, \"colorscale\": {\"diverging\": [[0, \"#8e0152\"], [0.1, \"#c51b7d\"], [0.2, \"#de77ae\"], [0.3, \"#f1b6da\"], [0.4, \"#fde0ef\"], [0.5, \"#f7f7f7\"], [0.6, \"#e6f5d0\"], [0.7, \"#b8e186\"], [0.8, \"#7fbc41\"], [0.9, \"#4d9221\"], [1, \"#276419\"]], \"sequential\": [[0.0, \"#0d0887\"], [0.1111111111111111, \"#46039f\"], [0.2222222222222222, \"#7201a8\"], [0.3333333333333333, \"#9c179e\"], [0.4444444444444444, \"#bd3786\"], [0.5555555555555556, \"#d8576b\"], [0.6666666666666666, \"#ed7953\"], [0.7777777777777778, \"#fb9f3a\"], [0.8888888888888888, \"#fdca26\"], [1.0, \"#f0f921\"]], \"sequentialminus\": [[0.0, \"#0d0887\"], [0.1111111111111111, \"#46039f\"], [0.2222222222222222, \"#7201a8\"], [0.3333333333333333, \"#9c179e\"], [0.4444444444444444, \"#bd3786\"], [0.5555555555555556, \"#d8576b\"], [0.6666666666666666, \"#ed7953\"], [0.7777777777777778, \"#fb9f3a\"], [0.8888888888888888, \"#fdca26\"], [1.0, \"#f0f921\"]]}, \"colorway\": [\"#636efa\", \"#EF553B\", \"#00cc96\", \"#ab63fa\", \"#FFA15A\", \"#19d3f3\", \"#FF6692\", \"#B6E880\", \"#FF97FF\", \"#FECB52\"], \"font\": {\"color\": \"#2a3f5f\"}, \"geo\": {\"bgcolor\": \"white\", \"lakecolor\": \"white\", \"landcolor\": \"#E5ECF6\", \"showlakes\": true, \"showland\": true, \"subunitcolor\": \"white\"}, \"hoverlabel\": {\"align\": \"left\"}, \"hovermode\": \"closest\", \"mapbox\": {\"style\": \"light\"}, \"paper_bgcolor\": \"white\", \"plot_bgcolor\": \"#E5ECF6\", \"polar\": {\"angularaxis\": {\"gridcolor\": \"white\", \"linecolor\": \"white\", \"ticks\": \"\"}, \"bgcolor\": \"#E5ECF6\", \"radialaxis\": {\"gridcolor\": \"white\", \"linecolor\": \"white\", \"ticks\": \"\"}}, \"scene\": {\"xaxis\": {\"backgroundcolor\": \"#E5ECF6\", \"gridcolor\": \"white\", \"gridwidth\": 2, \"linecolor\": \"white\", \"showbackground\": true, \"ticks\": \"\", \"zerolinecolor\": \"white\"}, \"yaxis\": {\"backgroundcolor\": \"#E5ECF6\", \"gridcolor\": \"white\", \"gridwidth\": 2, \"linecolor\": \"white\", \"showbackground\": true, \"ticks\": \"\", \"zerolinecolor\": \"white\"}, \"zaxis\": {\"backgroundcolor\": \"#E5ECF6\", \"gridcolor\": \"white\", \"gridwidth\": 2, \"linecolor\": \"white\", \"showbackground\": true, \"ticks\": \"\", \"zerolinecolor\": \"white\"}}, \"shapedefaults\": {\"line\": {\"color\": \"#2a3f5f\"}}, \"ternary\": {\"aaxis\": {\"gridcolor\": \"white\", \"linecolor\": \"white\", \"ticks\": \"\"}, \"baxis\": {\"gridcolor\": \"white\", \"linecolor\": \"white\", \"ticks\": \"\"}, \"bgcolor\": \"#E5ECF6\", \"caxis\": {\"gridcolor\": \"white\", \"linecolor\": \"white\", \"ticks\": \"\"}}, \"title\": {\"x\": 0.05}, \"xaxis\": {\"automargin\": true, \"gridcolor\": \"white\", \"linecolor\": \"white\", \"ticks\": \"\", \"zerolinecolor\": \"white\", \"zerolinewidth\": 2}, \"yaxis\": {\"automargin\": true, \"gridcolor\": \"white\", \"linecolor\": \"white\", \"ticks\": \"\", \"zerolinecolor\": \"white\", \"zerolinewidth\": 2}}}},\n",
              "                        {\"responsive\": true}\n",
              "                    ).then(function(){\n",
              "                            \n",
              "var gd = document.getElementById('935ab5c9-6554-4f59-afcc-8dda06e17661');\n",
              "var x = new MutationObserver(function (mutations, observer) {{\n",
              "        var display = window.getComputedStyle(gd).display;\n",
              "        if (!display || display === 'none') {{\n",
              "            console.log([gd, 'removed!']);\n",
              "            Plotly.purge(gd);\n",
              "            observer.disconnect();\n",
              "        }}\n",
              "}});\n",
              "\n",
              "// Listen for the removal of the full notebook cells\n",
              "var notebookContainer = gd.closest('#notebook-container');\n",
              "if (notebookContainer) {{\n",
              "    x.observe(notebookContainer, {childList: true});\n",
              "}}\n",
              "\n",
              "// Listen for the clearing of the current output cell\n",
              "var outputEl = gd.closest('.output');\n",
              "if (outputEl) {{\n",
              "    x.observe(outputEl, {childList: true});\n",
              "}}\n",
              "\n",
              "                        })\n",
              "                };\n",
              "                \n",
              "            </script>\n",
              "        </div>\n",
              "</body>\n",
              "</html>"
            ]
          },
          "metadata": {
            "tags": []
          }
        }
      ]
    },
    {
      "cell_type": "markdown",
      "metadata": {
        "id": "SLBaErAMVwEE",
        "colab_type": "text"
      },
      "source": [
        "Calculation for how the mean of the trips around the median distance compare to the long distance Commute Trips."
      ]
    },
    {
      "cell_type": "code",
      "metadata": {
        "id": "3VYTrcQxQ6Yi",
        "colab_type": "code",
        "outputId": "5cf760f1-1584-4465-f336-1ae50b53bf4d",
        "colab": {
          "base_uri": "https://localhost:8080/",
          "height": 34
        }
      },
      "source": [
        "trip_data_commute_gg1['distance'].mean()/trip_data_commute_gg['distance'].mean()"
      ],
      "execution_count": 54,
      "outputs": [
        {
          "output_type": "execute_result",
          "data": {
            "text/plain": [
              "0.18960185883775407"
            ]
          },
          "metadata": {
            "tags": []
          },
          "execution_count": 54
        }
      ]
    },
    {
      "cell_type": "markdown",
      "metadata": {
        "id": "jf2Lt9ckWD1l",
        "colab_type": "text"
      },
      "source": [
        "Calculation for how the mean of the short distance compare to the long distance Commute Trips."
      ]
    },
    {
      "cell_type": "code",
      "metadata": {
        "id": "ZlbnV4J3Q_aH",
        "colab_type": "code",
        "outputId": "8ea2afdf-d5d4-4f09-c9a4-8d9b53a5f940",
        "colab": {
          "base_uri": "https://localhost:8080/",
          "height": 34
        }
      },
      "source": [
        "trip_data_commute_ggg['distance'].mean()/trip_data_commute_gg['distance'].mean()"
      ],
      "execution_count": 55,
      "outputs": [
        {
          "output_type": "execute_result",
          "data": {
            "text/plain": [
              "0.041695636701216635"
            ]
          },
          "metadata": {
            "tags": []
          },
          "execution_count": 55
        }
      ]
    }
  ]
}